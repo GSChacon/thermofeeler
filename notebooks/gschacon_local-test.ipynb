{
 "cells": [
  {
   "cell_type": "code",
   "execution_count": 1,
   "id": "51f1904a",
   "metadata": {},
   "outputs": [
    {
     "name": "stderr",
     "output_type": "stream",
     "text": [
      "2022-03-18 16:35:54.161892: W tensorflow/stream_executor/platform/default/dso_loader.cc:64] Could not load dynamic library 'libcudart.so.11.0'; dlerror: libcudart.so.11.0: cannot open shared object file: No such file or directory\n",
      "2022-03-18 16:35:54.162005: I tensorflow/stream_executor/cuda/cudart_stub.cc:29] Ignore above cudart dlerror if you do not have a GPU set up on your machine.\n"
     ]
    }
   ],
   "source": [
    "from thermofeeler.predict import predict_query,predict_tweet"
   ]
  },
  {
   "cell_type": "code",
   "execution_count": 2,
   "id": "9161d285",
   "metadata": {},
   "outputs": [],
   "source": [
    "query='lula'"
   ]
  },
  {
   "cell_type": "code",
   "execution_count": 3,
   "id": "1a1577fa",
   "metadata": {},
   "outputs": [
    {
     "name": "stdout",
     "output_type": "stream",
     "text": [
      "Getting tweets...\n",
      "Organizing tweets...\n",
      "Preprocessing tweets...\n",
      "Tokenzing tweets...\n",
      "Predicting sentiments...\n"
     ]
    },
    {
     "name": "stderr",
     "output_type": "stream",
     "text": [
      "2022-03-18 16:35:59.464494: W tensorflow/stream_executor/platform/default/dso_loader.cc:64] Could not load dynamic library 'libcuda.so.1'; dlerror: libcuda.so.1: cannot open shared object file: No such file or directory\n",
      "2022-03-18 16:35:59.464592: W tensorflow/stream_executor/cuda/cuda_driver.cc:269] failed call to cuInit: UNKNOWN ERROR (303)\n",
      "2022-03-18 16:35:59.464625: I tensorflow/stream_executor/cuda/cuda_diagnostics.cc:156] kernel driver does not appear to be running on this host (Chacon): /proc/driver/nvidia/version does not exist\n",
      "2022-03-18 16:35:59.465070: I tensorflow/core/platform/cpu_feature_guard.cc:151] This TensorFlow binary is optimized with oneAPI Deep Neural Network Library (oneDNN) to use the following CPU instructions in performance-critical operations:  AVX2 FMA\n",
      "To enable them in other operations, rebuild TensorFlow with the appropriate compiler flags.\n",
      "2022-03-18 16:36:01.307228: W tensorflow/core/common_runtime/graph_constructor.cc:803] Node 'cond/while' has 13 outputs but the _output_shapes attribute specifies shapes for 46 outputs. Output shapes may be inaccurate.\n",
      "2022-03-18 16:36:01.353298: W tensorflow/core/common_runtime/graph_constructor.cc:803] Node 'cond' has 5 outputs but the _output_shapes attribute specifies shapes for 46 outputs. Output shapes may be inaccurate.\n",
      "2022-03-18 16:36:03.226746: W tensorflow/core/common_runtime/graph_constructor.cc:803] Node 'cond/while' has 13 outputs but the _output_shapes attribute specifies shapes for 46 outputs. Output shapes may be inaccurate.\n",
      "2022-03-18 16:36:03.261384: W tensorflow/core/common_runtime/graph_constructor.cc:803] Node 'cond' has 5 outputs but the _output_shapes attribute specifies shapes for 46 outputs. Output shapes may be inaccurate.\n",
      "2022-03-18 16:36:04.473361: W tensorflow/core/common_runtime/graph_constructor.cc:803] Node 'cond/while' has 13 outputs but the _output_shapes attribute specifies shapes for 46 outputs. Output shapes may be inaccurate.\n",
      "2022-03-18 16:36:04.508607: W tensorflow/core/common_runtime/graph_constructor.cc:803] Node 'cond/while' has 13 outputs but the _output_shapes attribute specifies shapes for 46 outputs. Output shapes may be inaccurate.\n",
      "2022-03-18 16:36:04.686227: W tensorflow/core/common_runtime/graph_constructor.cc:803] Node 'cond' has 5 outputs but the _output_shapes attribute specifies shapes for 46 outputs. Output shapes may be inaccurate.\n",
      "2022-03-18 16:36:04.957427: W tensorflow/core/common_runtime/graph_constructor.cc:803] Node 'cond/while' has 13 outputs but the _output_shapes attribute specifies shapes for 46 outputs. Output shapes may be inaccurate.\n",
      "2022-03-18 16:36:05.005705: W tensorflow/core/common_runtime/graph_constructor.cc:803] Node 'cond' has 5 outputs but the _output_shapes attribute specifies shapes for 46 outputs. Output shapes may be inaccurate.\n",
      "2022-03-18 16:36:05.420096: W tensorflow/core/common_runtime/graph_constructor.cc:803] Node 'cond' has 5 outputs but the _output_shapes attribute specifies shapes for 46 outputs. Output shapes may be inaccurate.\n",
      "2022-03-18 16:36:05.466825: W tensorflow/core/common_runtime/graph_constructor.cc:803] Node 'cond/while' has 13 outputs but the _output_shapes attribute specifies shapes for 46 outputs. Output shapes may be inaccurate.\n",
      "2022-03-18 16:36:05.513238: W tensorflow/core/common_runtime/graph_constructor.cc:803] Node 'cond' has 5 outputs but the _output_shapes attribute specifies shapes for 46 outputs. Output shapes may be inaccurate.\n",
      "2022-03-18 16:36:06.311550: W tensorflow/core/common_runtime/graph_constructor.cc:803] Node 'cond/while' has 13 outputs but the _output_shapes attribute specifies shapes for 46 outputs. Output shapes may be inaccurate.\n",
      "2022-03-18 16:36:06.346497: W tensorflow/core/common_runtime/graph_constructor.cc:803] Node 'cond' has 5 outputs but the _output_shapes attribute specifies shapes for 46 outputs. Output shapes may be inaccurate.\n"
     ]
    },
    {
     "name": "stdout",
     "output_type": "stream",
     "text": [
      "Organizing data...\n",
      "Done!\n"
     ]
    }
   ],
   "source": [
    "tweets,data=predict_query(query,max_results=10)"
   ]
  },
  {
   "cell_type": "code",
   "execution_count": 4,
   "id": "92c9f00f",
   "metadata": {},
   "outputs": [
    {
     "data": {
      "text/plain": [
       "['RT @henriolliveira_: - BOLSONARO no TELEGRAM:\\n\\n1.085.611 inscritos\\n\\n- LULA no TELEGRAM\\n\\n48.531 inscritos\\n\\nSe fosse o contrário,\\n\\nDUVIDO que…',\n",
       " '@renato_dcd @empacotadeira @gabrielasampaio @marcelobamonte Um golpe bem diferente do daqui, o conje disse \"sai Dilma, sai Lula\" e lula abaixou a cabeça e foi embora!\\nLá precisou da policia começar a sequestrar e atacar os políticos governistas para Evo renunciar, fora que diferente do Hadade que levou uma surra o candidato do Evo ganhou',\n",
       " 'RT @BrazilFight: A PERGUNTA DO DIA\\nSerá que se Lula tivesse mais de 1 milhão de seguidores como tem Bolsonaro, Alexandre de Moraes também d…',\n",
       " 'RT @VEJA: Com apoio de Lula, Kalil ultrapassa Zema em MG - leia  em: https://t.co/Z3WWNGRgO7 https://t.co/TylNyyV7wP',\n",
       " 'RT @BrazilFight: CANAIS OFICIAIS DO TELEGRAM\\nBOLSONARO: 1,1 MILHÃO DE SEGUIDORES\\nLULA: 47 MIL SEGUIDORES\\nJustificar o banimento do Telegram…',\n",
       " 'Copie e cole:Vou votar em Lula!\\nSou Lula!\\nMeta atingir 5.000 Seguidores.\\n@Nilsonhandebol\\n \\n@LulaOficial',\n",
       " 'RT @deppauloguedes: 💉Eu tô Vacinado (Contra Covid e contra as fake news do Bolsonaro!)\\nVACINE-SE TAMBÉM!\\n\\nChegou a hora de nos imunizar con…',\n",
       " 'RT @brom_elisa: Enquanto isso em Sorocaba - SP\\n\\nSergio Moro sendo recebido com muito carinho por uma multidão de apoiadores\\n\\nEsse sujeito n…',\n",
       " 'RT @Barangurter: Todos os meus planos estão baseados no Lula vencer a eleição',\n",
       " 'RT @SturtSilva: Com apoio de Lula, Kalil ultrapassa Zema em MG']"
      ]
     },
     "execution_count": 4,
     "metadata": {},
     "output_type": "execute_result"
    }
   ],
   "source": [
    "tweets"
   ]
  },
  {
   "cell_type": "code",
   "execution_count": 5,
   "id": "070ce3f8",
   "metadata": {},
   "outputs": [
    {
     "data": {
      "text/plain": [
       "{'total': 10, 'negative total': 0, 'neutral total': 8, 'positive total': 2}"
      ]
     },
     "execution_count": 5,
     "metadata": {},
     "output_type": "execute_result"
    }
   ],
   "source": [
    "data"
   ]
  },
  {
   "cell_type": "code",
   "execution_count": 8,
   "id": "5ef542cc",
   "metadata": {},
   "outputs": [],
   "source": [
    "tweet='as chuvas estão alagando são paulo'"
   ]
  },
  {
   "cell_type": "code",
   "execution_count": 9,
   "id": "2f5596e2",
   "metadata": {},
   "outputs": [
    {
     "name": "stdout",
     "output_type": "stream",
     "text": [
      "Tokenzing tweets...\n",
      "Predicting sentiments...\n"
     ]
    },
    {
     "name": "stderr",
     "output_type": "stream",
     "text": [
      "2022-03-18 16:36:59.697874: W tensorflow/core/common_runtime/graph_constructor.cc:803] Node 'cond/while' has 13 outputs but the _output_shapes attribute specifies shapes for 46 outputs. Output shapes may be inaccurate.\n",
      "2022-03-18 16:36:59.727187: W tensorflow/core/common_runtime/graph_constructor.cc:803] Node 'cond' has 5 outputs but the _output_shapes attribute specifies shapes for 46 outputs. Output shapes may be inaccurate.\n",
      "2022-03-18 16:37:01.842007: W tensorflow/core/common_runtime/graph_constructor.cc:803] Node 'cond/while' has 13 outputs but the _output_shapes attribute specifies shapes for 46 outputs. Output shapes may be inaccurate.\n",
      "2022-03-18 16:37:01.872623: W tensorflow/core/common_runtime/graph_constructor.cc:803] Node 'cond' has 5 outputs but the _output_shapes attribute specifies shapes for 46 outputs. Output shapes may be inaccurate.\n",
      "2022-03-18 16:37:03.782722: W tensorflow/core/common_runtime/graph_constructor.cc:803] Node 'cond/while' has 13 outputs but the _output_shapes attribute specifies shapes for 46 outputs. Output shapes may be inaccurate.\n",
      "2022-03-18 16:37:03.837109: W tensorflow/core/common_runtime/graph_constructor.cc:803] Node 'cond/while' has 13 outputs but the _output_shapes attribute specifies shapes for 46 outputs. Output shapes may be inaccurate.\n",
      "2022-03-18 16:37:04.108893: W tensorflow/core/common_runtime/graph_constructor.cc:803] Node 'cond' has 5 outputs but the _output_shapes attribute specifies shapes for 46 outputs. Output shapes may be inaccurate.\n",
      "2022-03-18 16:37:04.421768: W tensorflow/core/common_runtime/graph_constructor.cc:803] Node 'cond/while' has 13 outputs but the _output_shapes attribute specifies shapes for 46 outputs. Output shapes may be inaccurate.\n",
      "2022-03-18 16:37:04.466582: W tensorflow/core/common_runtime/graph_constructor.cc:803] Node 'cond' has 5 outputs but the _output_shapes attribute specifies shapes for 46 outputs. Output shapes may be inaccurate.\n",
      "2022-03-18 16:37:04.889956: W tensorflow/core/common_runtime/graph_constructor.cc:803] Node 'cond' has 5 outputs but the _output_shapes attribute specifies shapes for 46 outputs. Output shapes may be inaccurate.\n",
      "2022-03-18 16:37:04.937665: W tensorflow/core/common_runtime/graph_constructor.cc:803] Node 'cond/while' has 13 outputs but the _output_shapes attribute specifies shapes for 46 outputs. Output shapes may be inaccurate.\n",
      "2022-03-18 16:37:04.980670: W tensorflow/core/common_runtime/graph_constructor.cc:803] Node 'cond' has 5 outputs but the _output_shapes attribute specifies shapes for 46 outputs. Output shapes may be inaccurate.\n",
      "2022-03-18 16:37:05.726273: W tensorflow/core/common_runtime/graph_constructor.cc:803] Node 'cond/while' has 13 outputs but the _output_shapes attribute specifies shapes for 46 outputs. Output shapes may be inaccurate.\n",
      "2022-03-18 16:37:05.753323: W tensorflow/core/common_runtime/graph_constructor.cc:803] Node 'cond' has 5 outputs but the _output_shapes attribute specifies shapes for 46 outputs. Output shapes may be inaccurate.\n"
     ]
    },
    {
     "name": "stdout",
     "output_type": "stream",
     "text": [
      "Organizing data...\n",
      "Done!\n"
     ]
    },
    {
     "data": {
      "text/html": [
       "<div>\n",
       "<style scoped>\n",
       "    .dataframe tbody tr th:only-of-type {\n",
       "        vertical-align: middle;\n",
       "    }\n",
       "\n",
       "    .dataframe tbody tr th {\n",
       "        vertical-align: top;\n",
       "    }\n",
       "\n",
       "    .dataframe thead th {\n",
       "        text-align: right;\n",
       "    }\n",
       "</style>\n",
       "<table border=\"1\" class=\"dataframe\">\n",
       "  <thead>\n",
       "    <tr style=\"text-align: right;\">\n",
       "      <th></th>\n",
       "      <th>Negativo</th>\n",
       "      <th>Neutro</th>\n",
       "      <th>Positivo</th>\n",
       "    </tr>\n",
       "  </thead>\n",
       "  <tbody>\n",
       "    <tr>\n",
       "      <th>0</th>\n",
       "      <td>0.181589</td>\n",
       "      <td>0.237818</td>\n",
       "      <td>0.580593</td>\n",
       "    </tr>\n",
       "  </tbody>\n",
       "</table>\n",
       "</div>"
      ],
      "text/plain": [
       "   Negativo    Neutro  Positivo\n",
       "0  0.181589  0.237818  0.580593"
      ]
     },
     "execution_count": 9,
     "metadata": {},
     "output_type": "execute_result"
    }
   ],
   "source": [
    "predict_tweet(tweet)"
   ]
  },
  {
   "cell_type": "code",
   "execution_count": null,
   "id": "15ba1c4e",
   "metadata": {},
   "outputs": [],
   "source": []
  },
  {
   "cell_type": "code",
   "execution_count": null,
   "id": "a5122ae9",
   "metadata": {},
   "outputs": [],
   "source": []
  },
  {
   "cell_type": "code",
   "execution_count": null,
   "id": "76612425",
   "metadata": {},
   "outputs": [],
   "source": []
  }
 ],
 "metadata": {
  "kernelspec": {
   "display_name": "Python 3 (ipykernel)",
   "language": "python",
   "name": "python3"
  },
  "language_info": {
   "codemirror_mode": {
    "name": "ipython",
    "version": 3
   },
   "file_extension": ".py",
   "mimetype": "text/x-python",
   "name": "python",
   "nbconvert_exporter": "python",
   "pygments_lexer": "ipython3",
   "version": "3.8.12"
  },
  "toc": {
   "base_numbering": 1,
   "nav_menu": {},
   "number_sections": true,
   "sideBar": true,
   "skip_h1_title": false,
   "title_cell": "Table of Contents",
   "title_sidebar": "Contents",
   "toc_cell": false,
   "toc_position": {},
   "toc_section_display": true,
   "toc_window_display": false
  }
 },
 "nbformat": 4,
 "nbformat_minor": 5
}
