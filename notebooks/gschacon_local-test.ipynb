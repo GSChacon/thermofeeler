{
 "cells": [
  {
   "cell_type": "code",
   "execution_count": 16,
   "id": "51f1904a",
   "metadata": {},
   "outputs": [],
   "source": [
    "from thermofeeler.predict import predict_query,predict_tweet"
   ]
  },
  {
   "cell_type": "code",
   "execution_count": 17,
   "id": "9161d285",
   "metadata": {},
   "outputs": [],
   "source": [
    "query='bbb'"
   ]
  },
  {
   "cell_type": "code",
   "execution_count": 18,
   "id": "1a1577fa",
   "metadata": {},
   "outputs": [
    {
     "name": "stdout",
     "output_type": "stream",
     "text": [
      "Getting tweets...\n",
      "Organizing tweets...\n",
      "Preprocessing tweets...\n",
      "Tokenzing tweets...\n",
      "Predicting sentiments...\n"
     ]
    },
    {
     "name": "stderr",
     "output_type": "stream",
     "text": [
      "2022-03-18 17:59:09.490439: W tensorflow/core/common_runtime/graph_constructor.cc:803] Node 'cond/while' has 13 outputs but the _output_shapes attribute specifies shapes for 46 outputs. Output shapes may be inaccurate.\n",
      "2022-03-18 17:59:09.839667: W tensorflow/core/common_runtime/graph_constructor.cc:803] Node 'cond' has 5 outputs but the _output_shapes attribute specifies shapes for 46 outputs. Output shapes may be inaccurate.\n",
      "2022-03-18 18:00:42.203698: W tensorflow/core/common_runtime/graph_constructor.cc:803] Node 'cond/while' has 13 outputs but the _output_shapes attribute specifies shapes for 46 outputs. Output shapes may be inaccurate.\n",
      "2022-03-18 18:00:42.270251: W tensorflow/core/common_runtime/graph_constructor.cc:803] Node 'cond' has 5 outputs but the _output_shapes attribute specifies shapes for 46 outputs. Output shapes may be inaccurate.\n",
      "2022-03-18 18:00:43.442439: W tensorflow/core/common_runtime/graph_constructor.cc:803] Node 'cond/while' has 13 outputs but the _output_shapes attribute specifies shapes for 46 outputs. Output shapes may be inaccurate.\n",
      "2022-03-18 18:00:43.498556: W tensorflow/core/common_runtime/graph_constructor.cc:803] Node 'cond/while' has 13 outputs but the _output_shapes attribute specifies shapes for 46 outputs. Output shapes may be inaccurate.\n",
      "2022-03-18 18:00:43.888242: W tensorflow/core/common_runtime/graph_constructor.cc:803] Node 'cond' has 5 outputs but the _output_shapes attribute specifies shapes for 46 outputs. Output shapes may be inaccurate.\n",
      "2022-03-18 18:00:44.216083: W tensorflow/core/common_runtime/graph_constructor.cc:803] Node 'cond/while' has 13 outputs but the _output_shapes attribute specifies shapes for 46 outputs. Output shapes may be inaccurate.\n",
      "2022-03-18 18:00:44.251344: W tensorflow/core/common_runtime/graph_constructor.cc:803] Node 'cond' has 5 outputs but the _output_shapes attribute specifies shapes for 46 outputs. Output shapes may be inaccurate.\n",
      "2022-03-18 18:00:44.723850: W tensorflow/core/common_runtime/graph_constructor.cc:803] Node 'cond' has 5 outputs but the _output_shapes attribute specifies shapes for 46 outputs. Output shapes may be inaccurate.\n",
      "2022-03-18 18:00:44.783026: W tensorflow/core/common_runtime/graph_constructor.cc:803] Node 'cond/while' has 13 outputs but the _output_shapes attribute specifies shapes for 46 outputs. Output shapes may be inaccurate.\n",
      "2022-03-18 18:00:44.832871: W tensorflow/core/common_runtime/graph_constructor.cc:803] Node 'cond' has 5 outputs but the _output_shapes attribute specifies shapes for 46 outputs. Output shapes may be inaccurate.\n",
      "2022-03-18 18:00:45.831468: W tensorflow/core/common_runtime/graph_constructor.cc:803] Node 'cond/while' has 13 outputs but the _output_shapes attribute specifies shapes for 46 outputs. Output shapes may be inaccurate.\n",
      "2022-03-18 18:00:45.880097: W tensorflow/core/common_runtime/graph_constructor.cc:803] Node 'cond' has 5 outputs but the _output_shapes attribute specifies shapes for 46 outputs. Output shapes may be inaccurate.\n"
     ]
    },
    {
     "name": "stdout",
     "output_type": "stream",
     "text": [
      "Organizing data...\n",
      "Done!\n"
     ]
    }
   ],
   "source": [
    "tweets,data=predict_query(query,max_results=10)"
   ]
  },
  {
   "cell_type": "code",
   "execution_count": 19,
   "id": "92c9f00f",
   "metadata": {},
   "outputs": [
    {
     "data": {
      "text/plain": [
       "['Maíra Cardi revela que não perdoaria nova traição de Arthur Aguiar\\n\\nQuer ficar ligado em tudo que acontece no BBB 22, siga nosso perfil\\n\\n#bbb22 #bbb_22 #bbb2022 #bbb #bigbrotherbrasil #bigbrotherbrasil22\\n\\nhttps://t.co/fnSyTfPvF7',\n",
       " '@giovacas_ estou em depressão sem o grupo do bbb, era meu jornal diário',\n",
       " 'RT @_alineramos: Repescagem no \"BBB 22\" só daria certo com Naiara Azevedo #BBB22 \\n\\n https://t.co/drY8GGKSwp',\n",
       " 'Imagina sair do #BBB22 e descobrir que tá rolando uma guerra no mundo, a gasolina tá 7 reais e não tem mais Telegram? BONINHO VOCÊ PROMETEU UMA VIDA MELHOR PÓS BBB!',\n",
       " 'foi com Deus o hetero top #bbb22 https://t.co/NCVu5Av0Rw',\n",
       " 'RT @Veronicamoura21: Não adianta querer ser a PRIMEIRA TRANS a ganhar o BBB, se o seu coração é mal caráter querida \\n#BBB22  #foralinna 🤢🤮',\n",
       " 'Já começaram a queimar ele? kkkkkkkk boninho nem esconde https://t.co/emN0RAPtxm',\n",
       " 'só quem viu a Ana clara no bbb sabe o quão icônico isso aqui seria https://t.co/zK2owyGCGL',\n",
       " '@LuisdanielBrit7 @Perdiacontadnv @bbb Opinião é diferente de fantasiar a realidade. Antes de comentar algo, pelo bom senso, é mais prudente avaliar os fatos. Coisa que tu com ctz não fez. Ou então viu mas teu processo cognitivo funciona no nível do da Larissa pra interpretar os fatos de forma totalmente deturpada',\n",
       " 'VSF BLOQUEARAM O TELEGRAM NO MEIO DO BBB https://t.co/iAIfGH9opX']"
      ]
     },
     "execution_count": 19,
     "metadata": {},
     "output_type": "execute_result"
    }
   ],
   "source": [
    "tweets"
   ]
  },
  {
   "cell_type": "code",
   "execution_count": 20,
   "id": "070ce3f8",
   "metadata": {},
   "outputs": [
    {
     "data": {
      "text/plain": [
       "{'total': 10, 'negative total': 1, 'neutral total': 5, 'positive total': 4}"
      ]
     },
     "execution_count": 20,
     "metadata": {},
     "output_type": "execute_result"
    }
   ],
   "source": [
    "data"
   ]
  },
  {
   "cell_type": "code",
   "execution_count": 21,
   "id": "5ef542cc",
   "metadata": {},
   "outputs": [],
   "source": [
    "tweet='tweet neutro de teste'"
   ]
  },
  {
   "cell_type": "code",
   "execution_count": 22,
   "id": "2f5596e2",
   "metadata": {},
   "outputs": [
    {
     "name": "stdout",
     "output_type": "stream",
     "text": [
      "Preprocessing tweet...\n",
      "Tokenzing tweet...\n",
      "Predicting sentiment...\n"
     ]
    },
    {
     "name": "stderr",
     "output_type": "stream",
     "text": [
      "2022-03-18 18:01:39.118803: W tensorflow/core/common_runtime/graph_constructor.cc:803] Node 'cond/while' has 13 outputs but the _output_shapes attribute specifies shapes for 46 outputs. Output shapes may be inaccurate.\n",
      "2022-03-18 18:01:39.158936: W tensorflow/core/common_runtime/graph_constructor.cc:803] Node 'cond' has 5 outputs but the _output_shapes attribute specifies shapes for 46 outputs. Output shapes may be inaccurate.\n",
      "2022-03-18 18:01:43.605290: W tensorflow/core/common_runtime/graph_constructor.cc:803] Node 'cond/while' has 13 outputs but the _output_shapes attribute specifies shapes for 46 outputs. Output shapes may be inaccurate.\n",
      "2022-03-18 18:01:43.674347: W tensorflow/core/common_runtime/graph_constructor.cc:803] Node 'cond' has 5 outputs but the _output_shapes attribute specifies shapes for 46 outputs. Output shapes may be inaccurate.\n",
      "2022-03-18 18:01:45.422704: W tensorflow/core/common_runtime/graph_constructor.cc:803] Node 'cond/while' has 13 outputs but the _output_shapes attribute specifies shapes for 46 outputs. Output shapes may be inaccurate.\n",
      "2022-03-18 18:01:45.493480: W tensorflow/core/common_runtime/graph_constructor.cc:803] Node 'cond/while' has 13 outputs but the _output_shapes attribute specifies shapes for 46 outputs. Output shapes may be inaccurate.\n",
      "2022-03-18 18:01:45.803298: W tensorflow/core/common_runtime/graph_constructor.cc:803] Node 'cond' has 5 outputs but the _output_shapes attribute specifies shapes for 46 outputs. Output shapes may be inaccurate.\n",
      "2022-03-18 18:01:46.333301: W tensorflow/core/common_runtime/graph_constructor.cc:803] Node 'cond/while' has 13 outputs but the _output_shapes attribute specifies shapes for 46 outputs. Output shapes may be inaccurate.\n",
      "2022-03-18 18:01:46.382876: W tensorflow/core/common_runtime/graph_constructor.cc:803] Node 'cond' has 5 outputs but the _output_shapes attribute specifies shapes for 46 outputs. Output shapes may be inaccurate.\n",
      "2022-03-18 18:01:46.724056: W tensorflow/core/common_runtime/graph_constructor.cc:803] Node 'cond' has 5 outputs but the _output_shapes attribute specifies shapes for 46 outputs. Output shapes may be inaccurate.\n",
      "2022-03-18 18:01:46.761862: W tensorflow/core/common_runtime/graph_constructor.cc:803] Node 'cond/while' has 13 outputs but the _output_shapes attribute specifies shapes for 46 outputs. Output shapes may be inaccurate.\n",
      "2022-03-18 18:01:46.794165: W tensorflow/core/common_runtime/graph_constructor.cc:803] Node 'cond' has 5 outputs but the _output_shapes attribute specifies shapes for 46 outputs. Output shapes may be inaccurate.\n",
      "2022-03-18 18:01:50.009367: W tensorflow/core/common_runtime/graph_constructor.cc:803] Node 'cond/while' has 13 outputs but the _output_shapes attribute specifies shapes for 46 outputs. Output shapes may be inaccurate.\n",
      "2022-03-18 18:01:50.055751: W tensorflow/core/common_runtime/graph_constructor.cc:803] Node 'cond' has 5 outputs but the _output_shapes attribute specifies shapes for 46 outputs. Output shapes may be inaccurate.\n"
     ]
    },
    {
     "name": "stdout",
     "output_type": "stream",
     "text": [
      "Organizing predictions...\n",
      "Done!\n"
     ]
    },
    {
     "data": {
      "text/html": [
       "<div>\n",
       "<style scoped>\n",
       "    .dataframe tbody tr th:only-of-type {\n",
       "        vertical-align: middle;\n",
       "    }\n",
       "\n",
       "    .dataframe tbody tr th {\n",
       "        vertical-align: top;\n",
       "    }\n",
       "\n",
       "    .dataframe thead th {\n",
       "        text-align: right;\n",
       "    }\n",
       "</style>\n",
       "<table border=\"1\" class=\"dataframe\">\n",
       "  <thead>\n",
       "    <tr style=\"text-align: right;\">\n",
       "      <th></th>\n",
       "      <th>Negativo</th>\n",
       "      <th>Neutro</th>\n",
       "      <th>Positivo</th>\n",
       "    </tr>\n",
       "  </thead>\n",
       "  <tbody>\n",
       "    <tr>\n",
       "      <th>0</th>\n",
       "      <td>0.122836</td>\n",
       "      <td>0.814888</td>\n",
       "      <td>0.062276</td>\n",
       "    </tr>\n",
       "  </tbody>\n",
       "</table>\n",
       "</div>"
      ],
      "text/plain": [
       "   Negativo    Neutro  Positivo\n",
       "0  0.122836  0.814888  0.062276"
      ]
     },
     "execution_count": 22,
     "metadata": {},
     "output_type": "execute_result"
    }
   ],
   "source": [
    "predict_tweet(tweet)"
   ]
  },
  {
   "cell_type": "code",
   "execution_count": null,
   "id": "15ba1c4e",
   "metadata": {},
   "outputs": [],
   "source": []
  },
  {
   "cell_type": "code",
   "execution_count": null,
   "id": "a5122ae9",
   "metadata": {},
   "outputs": [],
   "source": []
  },
  {
   "cell_type": "code",
   "execution_count": null,
   "id": "76612425",
   "metadata": {},
   "outputs": [],
   "source": []
  }
 ],
 "metadata": {
  "kernelspec": {
   "display_name": "Python 3 (ipykernel)",
   "language": "python",
   "name": "python3"
  },
  "language_info": {
   "codemirror_mode": {
    "name": "ipython",
    "version": 3
   },
   "file_extension": ".py",
   "mimetype": "text/x-python",
   "name": "python",
   "nbconvert_exporter": "python",
   "pygments_lexer": "ipython3",
   "version": "3.8.12"
  },
  "toc": {
   "base_numbering": 1,
   "nav_menu": {},
   "number_sections": true,
   "sideBar": true,
   "skip_h1_title": false,
   "title_cell": "Table of Contents",
   "title_sidebar": "Contents",
   "toc_cell": false,
   "toc_position": {},
   "toc_section_display": true,
   "toc_window_display": false
  }
 },
 "nbformat": 4,
 "nbformat_minor": 5
}
