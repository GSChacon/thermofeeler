{
 "cells": [
  {
   "cell_type": "code",
   "execution_count": 1,
   "id": "386cd671",
   "metadata": {},
   "outputs": [],
   "source": [
    "import pandas as pd\n",
    "import numpy as np"
   ]
  },
  {
   "cell_type": "code",
   "execution_count": 2,
   "id": "518d30ae",
   "metadata": {},
   "outputs": [],
   "source": [
    "path = '../thermofeeler/data/tokenized_dataset.csv'\n",
    "df = pd.read_csv(path)\n",
    "df = df.drop(columns=['Unnamed: 0'])"
   ]
  },
  {
   "cell_type": "code",
   "execution_count": 3,
   "id": "7c092795",
   "metadata": {},
   "outputs": [],
   "source": [
    "df_pos = df[df.encoded_sentiment == 1].sample(7000)\n",
    "df_neg = df[df.encoded_sentiment == -1].sample(7000)\n",
    "df_net = df[df.encoded_sentiment == 0].sample(7000)"
   ]
  },
  {
   "cell_type": "code",
   "execution_count": 4,
   "id": "a63fff5b",
   "metadata": {},
   "outputs": [],
   "source": [
    "small_df = pd.concat([df_pos, df_neg, df_net])"
   ]
  },
  {
   "cell_type": "code",
   "execution_count": 5,
   "id": "20af4a2a",
   "metadata": {},
   "outputs": [
    {
     "data": {
      "text/plain": [
       " 1    7000\n",
       "-1    7000\n",
       " 0    7000\n",
       "Name: encoded_sentiment, dtype: int64"
      ]
     },
     "execution_count": 5,
     "metadata": {},
     "output_type": "execute_result"
    }
   ],
   "source": [
    "small_df.encoded_sentiment.value_counts()"
   ]
  },
  {
   "cell_type": "code",
   "execution_count": 6,
   "id": "cfbab688",
   "metadata": {},
   "outputs": [],
   "source": [
    "X = small_df.tweet_text\n",
    "y = small_df.encoded_sentiment\n",
    "y = pd.get_dummies(y)"
   ]
  },
  {
   "cell_type": "code",
   "execution_count": 7,
   "id": "ab87c9b0",
   "metadata": {},
   "outputs": [],
   "source": [
    "from sklearn.model_selection import train_test_split"
   ]
  },
  {
   "cell_type": "code",
   "execution_count": 8,
   "id": "4b66c110",
   "metadata": {},
   "outputs": [
    {
     "data": {
      "text/plain": [
       "((14699,), (6301,), (14699, 3), (6301, 3))"
      ]
     },
     "execution_count": 8,
     "metadata": {},
     "output_type": "execute_result"
    }
   ],
   "source": [
    "X_train, X_test, y_train, y_test = train_test_split(X,y, train_size=0.7)\n",
    "X_train.shape, X_test.shape, y_train.shape, y_test.shape"
   ]
  },
  {
   "cell_type": "code",
   "execution_count": 9,
   "id": "9012176c",
   "metadata": {},
   "outputs": [],
   "source": [
    "from tensorflow.keras.preprocessing.text import Tokenizer\n",
    "from tensorflow.keras.preprocessing.sequence import pad_sequences"
   ]
  },
  {
   "cell_type": "code",
   "execution_count": 10,
   "id": "e74b4aba",
   "metadata": {},
   "outputs": [
    {
     "data": {
      "text/plain": [
       "[70, 3269, 249, 318, 754, 1, 1028, 5, 273]"
      ]
     },
     "execution_count": 10,
     "metadata": {},
     "output_type": "execute_result"
    }
   ],
   "source": [
    "tk = Tokenizer()\n",
    "tk.fit_on_texts(X_train)\n",
    "X_train_token = tk.texts_to_sequences(X_train)\n",
    "X_train_token[0]"
   ]
  },
  {
   "cell_type": "code",
   "execution_count": 11,
   "id": "9968575a",
   "metadata": {},
   "outputs": [
    {
     "data": {
      "text/plain": [
       "(43, 0, 22947)"
      ]
     },
     "execution_count": 11,
     "metadata": {},
     "output_type": "execute_result"
    }
   ],
   "source": [
    "maxLength = max(len(x) for x in X_train_token)\n",
    "minLength = min(len(x) for x in X_train_token)\n",
    "vocab_size = len(tk.word_index)\n",
    "maxLength, minLength, vocab_size"
   ]
  },
  {
   "cell_type": "code",
   "execution_count": 12,
   "id": "2149bfb4",
   "metadata": {},
   "outputs": [
    {
     "data": {
      "text/plain": [
       "array([  70, 3269,  249,  318,  754,    1, 1028,    5,  273,    0,    0,\n",
       "          0,    0,    0,    0,    0,    0,    0,    0,    0,    0,    0,\n",
       "          0,    0,    0,    0,    0,    0,    0,    0,    0,    0,    0,\n",
       "          0,    0,    0,    0,    0,    0,    0,    0,    0,    0,    0,\n",
       "          0,    0,    0,    0,    0,    0], dtype=int32)"
      ]
     },
     "execution_count": 12,
     "metadata": {},
     "output_type": "execute_result"
    }
   ],
   "source": [
    "X_train_pad = pad_sequences(X_train_token, dtype='int32', padding='post', value=0, maxlen=50 )\n",
    "X_train_pad[0]"
   ]
  },
  {
   "cell_type": "code",
   "execution_count": 13,
   "id": "d2632744",
   "metadata": {},
   "outputs": [],
   "source": [
    "from tensorflow.keras.models import Sequential\n",
    "from tensorflow.keras.layers import *\n",
    "from tensorflow.keras.callbacks import EarlyStopping\n",
    "from tensorflow.keras import regularizers\n",
    "from tensorflow.keras import optimizers"
   ]
  },
  {
   "cell_type": "code",
   "execution_count": 47,
   "id": "2318220f",
   "metadata": {},
   "outputs": [],
   "source": [
    "def initialize_model():\n",
    "    \n",
    "    reg_l1 = regularizers.L1(0.01)\n",
    "    reg_l2 = regularizers.L2(0.01)\n",
    "    reg_l1_l2 = regularizers.l1_l2(l1=0.01, l2=0.01)\n",
    "    \n",
    "    opt = optimizers.RMSprop(learning_rate=0.0001)\n",
    "    \n",
    "    model = Sequential()\n",
    "    embedding_size = 200\n",
    "    model.add(Embedding(input_dim = vocab_size+1, input_length=50,\n",
    "                        output_dim=embedding_size, mask_zero=True))\n",
    "    \n",
    "    model.add(LSTM(50, activation='tanh'))\n",
    "    model.add(Dropout(0.4))\n",
    "    model.add(Dense(50, activation='relu', kernel_regularizer=reg_l2))\n",
    "    model.add(Dropout(0.5))\n",
    "    model.add(Dense(3, activation=\"softmax\", kernel_regularizer=reg_l2))\n",
    "    \n",
    "    model.compile(loss='categorical_crossentropy', optimizer=opt,metrics=['accuracy'])\n",
    "\n",
    "    return model"
   ]
  },
  {
   "cell_type": "code",
   "execution_count": 48,
   "id": "82db081f",
   "metadata": {},
   "outputs": [
    {
     "name": "stdout",
     "output_type": "stream",
     "text": [
      "Epoch 1/200\n",
      "368/368 [==============================] - 19s 43ms/step - loss: 1.5219 - accuracy: 0.4625 - val_loss: 1.4103 - val_accuracy: 0.6480\n",
      "Epoch 2/200\n",
      "368/368 [==============================] - 15s 39ms/step - loss: 1.2586 - accuracy: 0.6395 - val_loss: 1.0823 - val_accuracy: 0.6861\n",
      "Epoch 3/200\n",
      "368/368 [==============================] - 15s 40ms/step - loss: 0.9908 - accuracy: 0.6735 - val_loss: 0.9162 - val_accuracy: 0.6793\n",
      "Epoch 4/200\n",
      "368/368 [==============================] - 15s 40ms/step - loss: 0.8532 - accuracy: 0.6876 - val_loss: 0.8114 - val_accuracy: 0.7071\n",
      "Epoch 5/200\n",
      "368/368 [==============================] - 17s 47ms/step - loss: 0.7503 - accuracy: 0.7112 - val_loss: 0.7261 - val_accuracy: 0.7371\n",
      "Epoch 6/200\n",
      "368/368 [==============================] - 15s 41ms/step - loss: 0.6772 - accuracy: 0.7476 - val_loss: 0.6714 - val_accuracy: 0.7588\n",
      "Epoch 7/200\n",
      "368/368 [==============================] - 14s 39ms/step - loss: 0.6122 - accuracy: 0.7874 - val_loss: 0.6314 - val_accuracy: 0.7646\n",
      "Epoch 8/200\n",
      "368/368 [==============================] - 14s 39ms/step - loss: 0.5621 - accuracy: 0.8106 - val_loss: 0.6101 - val_accuracy: 0.7741\n",
      "Epoch 9/200\n",
      "368/368 [==============================] - 15s 42ms/step - loss: 0.5261 - accuracy: 0.8285 - val_loss: 0.5893 - val_accuracy: 0.7782\n",
      "Epoch 10/200\n",
      "368/368 [==============================] - 15s 41ms/step - loss: 0.4985 - accuracy: 0.8414 - val_loss: 0.5846 - val_accuracy: 0.7816\n",
      "Epoch 11/200\n",
      "368/368 [==============================] - 15s 40ms/step - loss: 0.4760 - accuracy: 0.8509 - val_loss: 0.5793 - val_accuracy: 0.7833\n",
      "Epoch 12/200\n",
      "368/368 [==============================] - 14s 39ms/step - loss: 0.4545 - accuracy: 0.8578 - val_loss: 0.5759 - val_accuracy: 0.7813\n",
      "Epoch 13/200\n",
      "368/368 [==============================] - 17s 45ms/step - loss: 0.4429 - accuracy: 0.8627 - val_loss: 0.5724 - val_accuracy: 0.7837\n",
      "Epoch 14/200\n",
      "368/368 [==============================] - 16s 42ms/step - loss: 0.4265 - accuracy: 0.8713 - val_loss: 0.5758 - val_accuracy: 0.7820\n",
      "Epoch 15/200\n",
      "368/368 [==============================] - 15s 41ms/step - loss: 0.4106 - accuracy: 0.8798 - val_loss: 0.5717 - val_accuracy: 0.7813\n",
      "Epoch 16/200\n",
      "368/368 [==============================] - 14s 39ms/step - loss: 0.3974 - accuracy: 0.8829 - val_loss: 0.5732 - val_accuracy: 0.7820\n",
      "Epoch 17/200\n",
      "368/368 [==============================] - 14s 39ms/step - loss: 0.3859 - accuracy: 0.8889 - val_loss: 0.5790 - val_accuracy: 0.7823\n",
      "Epoch 18/200\n",
      "368/368 [==============================] - 15s 39ms/step - loss: 0.3797 - accuracy: 0.8907 - val_loss: 0.5698 - val_accuracy: 0.7864\n",
      "Epoch 19/200\n",
      "368/368 [==============================] - 15s 39ms/step - loss: 0.3706 - accuracy: 0.8949 - val_loss: 0.5730 - val_accuracy: 0.7847\n",
      "Epoch 20/200\n",
      "368/368 [==============================] - 14s 39ms/step - loss: 0.3618 - accuracy: 0.8988 - val_loss: 0.5802 - val_accuracy: 0.7854\n",
      "Epoch 21/200\n",
      "368/368 [==============================] - 17s 47ms/step - loss: 0.3488 - accuracy: 0.9016 - val_loss: 0.5823 - val_accuracy: 0.7871\n",
      "Epoch 22/200\n",
      "368/368 [==============================] - 16s 44ms/step - loss: 0.3395 - accuracy: 0.9051 - val_loss: 0.5910 - val_accuracy: 0.7847\n",
      "Epoch 23/200\n",
      "368/368 [==============================] - 15s 40ms/step - loss: 0.3342 - accuracy: 0.9066 - val_loss: 0.5942 - val_accuracy: 0.7827\n"
     ]
    }
   ],
   "source": [
    "model = initialize_model()\n",
    "es = EarlyStopping(patience=5, restore_best_weights=True)\n",
    "history = model.fit(X_train_pad, y_train, epochs=200, batch_size=32, verbose=1, callbacks=[es], validation_split=0.2 );"
   ]
  },
  {
   "cell_type": "code",
   "execution_count": 49,
   "id": "79ce42d7",
   "metadata": {},
   "outputs": [
    {
     "name": "stdout",
     "output_type": "stream",
     "text": [
      "Model: \"sequential_6\"\n",
      "_________________________________________________________________\n",
      " Layer (type)                Output Shape              Param #   \n",
      "=================================================================\n",
      " embedding_6 (Embedding)     (None, 50, 200)           4589600   \n",
      "                                                                 \n",
      " lstm_7 (LSTM)               (None, 50)                50200     \n",
      "                                                                 \n",
      " dropout_12 (Dropout)        (None, 50)                0         \n",
      "                                                                 \n",
      " dense_11 (Dense)            (None, 50)                2550      \n",
      "                                                                 \n",
      " dropout_13 (Dropout)        (None, 50)                0         \n",
      "                                                                 \n",
      " dense_12 (Dense)            (None, 3)                 153       \n",
      "                                                                 \n",
      "=================================================================\n",
      "Total params: 4,642,503\n",
      "Trainable params: 4,642,503\n",
      "Non-trainable params: 0\n",
      "_________________________________________________________________\n"
     ]
    }
   ],
   "source": [
    " model.summary()"
   ]
  },
  {
   "cell_type": "code",
   "execution_count": 53,
   "id": "61d8e245",
   "metadata": {},
   "outputs": [
    {
     "data": {
      "image/png": "[encoded data removed]",
      "text/plain": [
       "<Figure size 432x288 with 1 Axes>"
      ]
     },
     "metadata": {
      "needs_background": "light"
     },
     "output_type": "display_data"
    }
   ],
   "source": [
    "import matplotlib.pyplot as plt\n",
    "\n",
    "plt.plot(history.history['loss'])\n",
    "plt.plot(history.history['val_loss'])\n",
    "plt.ylim((0,1));"
   ]
  },
  {
   "cell_type": "code",
   "execution_count": 54,
   "id": "b510f5be",
   "metadata": {},
   "outputs": [
    {
     "data": {
      "image/png": "[encoded data removed]",
      "text/plain": [
       "<Figure size 432x288 with 1 Axes>"
      ]
     },
     "metadata": {
      "needs_background": "light"
     },
     "output_type": "display_data"
    }
   ],
   "source": [
    "plt.plot(history.history['accuracy'])\n",
    "plt.plot(history.history['val_accuracy'])\n",
    "plt.ylim((0,1));"
   ]
  },
  {
   "cell_type": "code",
   "execution_count": 19,
   "id": "0b5f2915",
   "metadata": {},
   "outputs": [],
   "source": [
    "X_test_token = tk.texts_to_sequences(X_test)"
   ]
  },
  {
   "cell_type": "code",
   "execution_count": 20,
   "id": "9fbd34b5",
   "metadata": {},
   "outputs": [
    {
     "data": {
      "text/plain": [
       "array([   73,  2012,  3069,  1704,  1885,   659,  1747,   694, 15166,\n",
       "         105,     0,     0,     0,     0,     0,     0,     0,     0,\n",
       "           0,     0,     0,     0,     0,     0,     0,     0,     0,\n",
       "           0,     0,     0,     0,     0,     0,     0,     0,     0,\n",
       "           0,     0,     0,     0,     0,     0,     0,     0,     0,\n",
       "           0,     0,     0,     0,     0], dtype=int32)"
      ]
     },
     "execution_count": 20,
     "metadata": {},
     "output_type": "execute_result"
    }
   ],
   "source": [
    "X_test_pad = pad_sequences(X_test_token, dtype='int32', padding='post', value=0, maxlen=50 )\n",
    "X_test_pad[0]"
   ]
  },
  {
   "cell_type": "code",
   "execution_count": 55,
   "id": "4a74a835",
   "metadata": {},
   "outputs": [
    {
     "data": {
      "text/plain": [
       "[0.5444003939628601, 0.8032058477401733]"
      ]
     },
     "execution_count": 55,
     "metadata": {},
     "output_type": "execute_result"
    }
   ],
   "source": [
    "model.evaluate(X_test_pad, y_test, verbose=0)"
   ]
  },
  {
   "cell_type": "code",
   "execution_count": null,
   "id": "5c57d577",
   "metadata": {},
   "outputs": [],
   "source": [
    "std_list = {'eh': 'é', \n",
    "            'vc': 'você', \n",
    "            'vcs': 'vocês',\n",
    "            'tb': 'também',\n",
    "            'tambem':'também'\n",
    "            'tbm': 'também', \n",
    "            'obg': 'obrigado',\n",
    "            'obrigada' : 'obrigado'\n",
    "            'gnt': 'gente', \n",
    "            'q': 'que', \n",
    "            'n': 'não', \n",
    "            'cmg': 'comigo', \n",
    "            'p': 'para',\n",
    "            'pra' :'para'\n",
    "            'ta': 'está',\n",
    "            'tá' : 'está',\n",
    "            'to': 'estou', \n",
    "            'vdd': 'verdade'\n",
    "            'bjos' : 'beijo',\n",
    "            'bjo' : 'beijo',\n",
    "            'kd': 'cadê',\n",
    "            'cade', 'cadê',\n",
    "            'ha' : 'há',\n",
    "            'cmg' : 'comigo',\n",
    "            'cm' : 'com',\n",
    "            'pc' : 'cá',\n",
    "            'aq' : 'aqui'\n",
    "            'qdo' : 'quando',\n",
    "            'tem' : 'tém'\n",
    "            'p' : 'para',\n",
    "            'k' : 'que'}"
   ]
  },
  {
   "cell_type": "code",
   "execution_count": 85,
   "id": "c33d5378",
   "metadata": {},
   "outputs": [],
   "source": [
    "letters = ['a','e','h','i','k','o','u','y']\n",
    "\n",
    "def remove_onomatopeia (tweets):\n",
    "   # for tweet in tweets :\n",
    "    for word in tweets :\n",
    "        if word.count('k') >= 2: \n",
    "            word_ = 'kkkk'\n",
    "            tweets[tweets.index(word)] = word_\n",
    "            results = tweets\n",
    "            \n",
    "        if word.count('ah') >=2:\n",
    "            word_ = 'ah'\n",
    "            tweets[tweets.index(word)] = word_\n",
    "            results = tweets\n",
    "        \n",
    "        for letter in word :\n",
    "            if word.startswith(f'{letter}{letter}') or word.endswith(f'{letter}{letter}'):\n",
    "                word_ = f'{letter}{}\n",
    "                tweets[tweets.index(word)] = word_\n",
    "                results = tweets\n",
    "        \n",
    "    return results"
   ]
  },
  {
   "cell_type": "code",
   "execution_count": 87,
   "id": "4ceffb84",
   "metadata": {},
   "outputs": [
    {
     "data": {
      "text/plain": [
       "['ta', 'kkkk', 'kkkk', 'fbqhjbv', 'bcb', 'ah', 'ah', 'ah', 'aaaaaaah']"
      ]
     },
     "execution_count": 87,
     "metadata": {},
     "output_type": "execute_result"
    }
   ],
   "source": [
    "kkkk(['ta', 'kk', 'kkkkkkkkk', 'fbqhjbv', 'bcb', 'ahaha', 'ah', 'hahahaha', 'aaaaaaah'])"
   ]
  },
  {
   "cell_type": "code",
   "execution_count": null,
   "id": "b6866582",
   "metadata": {},
   "outputs": [],
   "source": []
  }
 ],
 "metadata": {
  "kernelspec": {
   "display_name": "Python 3 (ipykernel)",
   "language": "python",
   "name": "python3"
  },
  "language_info": {
   "codemirror_mode": {
    "name": "ipython",
    "version": 3
   },
   "file_extension": ".py",
   "mimetype": "text/x-python",
   "name": "python",
   "nbconvert_exporter": "python",
   "pygments_lexer": "ipython3",
   "version": "3.8.12"
  },
  "toc": {
   "base_numbering": 1,
   "nav_menu": {},
   "number_sections": true,
   "sideBar": true,
   "skip_h1_title": false,
   "title_cell": "Table of Contents",
   "title_sidebar": "Contents",
   "toc_cell": false,
   "toc_position": {},
   "toc_section_display": true,
   "toc_window_display": false
  }
 },
 "nbformat": 4,
 "nbformat_minor": 5
}
