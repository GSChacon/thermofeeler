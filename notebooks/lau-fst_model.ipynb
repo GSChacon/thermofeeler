{
 "cells": [
  {
   "cell_type": "markdown",
   "id": "660c9480",
   "metadata": {},
   "source": [
    "## Best model"
   ]
  },
  {
   "cell_type": "code",
   "execution_count": 1,
   "id": "60adfe21",
   "metadata": {},
   "outputs": [],
   "source": [
    "import warnings\n",
    "warnings.filterwarnings('ignore')"
   ]
  },
  {
   "cell_type": "code",
   "execution_count": 2,
   "id": "386cd671",
   "metadata": {},
   "outputs": [],
   "source": [
    "import pandas as pd\n",
    "import numpy as np"
   ]
  },
  {
   "cell_type": "code",
   "execution_count": 3,
   "id": "518d30ae",
   "metadata": {},
   "outputs": [],
   "source": [
    "path = '../thermofeeler/data/tokenized_dataset.csv'\n",
    "df = pd.read_csv(path)"
   ]
  },
  {
   "cell_type": "code",
   "execution_count": 4,
   "id": "7c092795",
   "metadata": {},
   "outputs": [],
   "source": [
    "df = df.drop(columns=['Unnamed: 0'])\n",
    "df_pos = df[df.encoded_sentiment == 1][:7000]\n",
    "df_neg = df[df.encoded_sentiment == -1][:7000]\n",
    "df_net = df[df.encoded_sentiment == 0][:7000]"
   ]
  },
  {
   "cell_type": "code",
   "execution_count": 5,
   "id": "a63fff5b",
   "metadata": {},
   "outputs": [],
   "source": [
    "small_df = pd.concat([df_pos, df_neg, df_net])"
   ]
  },
  {
   "cell_type": "code",
   "execution_count": 6,
   "id": "cfbab688",
   "metadata": {},
   "outputs": [],
   "source": [
    "X = small_df.tweet_text\n",
    "y = small_df.encoded_sentiment\n",
    "y = pd.get_dummies(y)"
   ]
  },
  {
   "cell_type": "code",
   "execution_count": 7,
   "id": "4b66c110",
   "metadata": {},
   "outputs": [
    {
     "data": {
      "text/plain": [
       "((14699,), (6301,), (14699, 3), (6301, 3))"
      ]
     },
     "execution_count": 7,
     "metadata": {},
     "output_type": "execute_result"
    }
   ],
   "source": [
    "from sklearn.model_selection import train_test_split\n",
    "X_train, X_test, y_train, y_test = train_test_split(X,y, train_size=0.7, random_state=1)\n",
    "X_train.shape, X_test.shape, y_train.shape, y_test.shape"
   ]
  },
  {
   "cell_type": "code",
   "execution_count": 8,
   "id": "e74b4aba",
   "metadata": {},
   "outputs": [
    {
     "data": {
      "text/plain": [
       "[3, 61, 121, 62, 87, 603, 470, 100, 2546, 67, 1720, 752, 192, 817]"
      ]
     },
     "execution_count": 8,
     "metadata": {},
     "output_type": "execute_result"
    }
   ],
   "source": [
    "from tensorflow.keras.preprocessing.text import Tokenizer\n",
    "tk = Tokenizer()\n",
    "tk.fit_on_texts(X_train)\n",
    "X_train_token = tk.texts_to_sequences(X_train)\n",
    "X_train_token[0]"
   ]
  },
  {
   "cell_type": "code",
   "execution_count": 10,
   "id": "9968575a",
   "metadata": {},
   "outputs": [
    {
     "data": {
      "text/plain": [
       "(41, 0, 24625)"
      ]
     },
     "execution_count": 10,
     "metadata": {},
     "output_type": "execute_result"
    }
   ],
   "source": [
    "maxLength = max(len(x) for x in X_train_token)\n",
    "minLength = min(len(x) for x in X_train_token)\n",
    "vocab_size = len(tk.word_index)\n",
    "maxLength, minLength, vocab_size"
   ]
  },
  {
   "cell_type": "code",
   "execution_count": 11,
   "id": "2149bfb4",
   "metadata": {},
   "outputs": [
    {
     "data": {
      "text/plain": [
       "array([   3,   61,  121,   62,   87,  603,  470,  100, 2546,   67, 1720,\n",
       "        752,  192,  817,    0,    0,    0,    0,    0,    0,    0,    0,\n",
       "          0,    0,    0,    0,    0,    0,    0,    0,    0,    0,    0,\n",
       "          0,    0,    0,    0,    0,    0,    0,    0,    0,    0,    0,\n",
       "          0,    0,    0,    0,    0,    0], dtype=int32)"
      ]
     },
     "execution_count": 11,
     "metadata": {},
     "output_type": "execute_result"
    }
   ],
   "source": [
    "from tensorflow.keras.preprocessing.sequence import pad_sequences\n",
    "X_train_pad = pad_sequences(X_train_token, dtype='int32', padding='post', value=0, maxlen=50 )\n",
    "X_train_pad[0]"
   ]
  },
  {
   "cell_type": "code",
   "execution_count": 12,
   "id": "d2632744",
   "metadata": {},
   "outputs": [],
   "source": [
    "from tensorflow.keras.models import Sequential\n",
    "from tensorflow.keras.layers import *\n",
    "from tensorflow.keras.callbacks import EarlyStopping\n",
    "from tensorflow.keras import regularizers\n",
    "from tensorflow.keras import optimizers"
   ]
  },
  {
   "cell_type": "code",
   "execution_count": 13,
   "id": "2318220f",
   "metadata": {},
   "outputs": [],
   "source": [
    "def initialize_model():\n",
    "    \n",
    "    reg_l1 = regularizers.L1(0.01)\n",
    "    reg_l2 = regularizers.L2(0.01)\n",
    "    reg_l1_l2 = regularizers.l1_l2(l1=0.01, l2=0.01)\n",
    "    \n",
    "    opt = optimizers.RMSprop(learning_rate=0.0001)\n",
    "    \n",
    "    model = Sequential()\n",
    "    embedding_size = 200\n",
    "    model.add(Embedding(input_dim = vocab_size+1, input_length=50,\n",
    "                        output_dim=embedding_size, mask_zero=True))\n",
    "    \n",
    "    model.add(LSTM(50, activation='tanh'))\n",
    "    model.add(Dropout(0.4))\n",
    "    model.add(Dense(50, activation='relu', kernel_regularizer=reg_l2))\n",
    "    model.add(Dropout(0.5))\n",
    "    model.add(Dense(3, activation=\"softmax\", kernel_regularizer=reg_l2))\n",
    "    \n",
    "    model.compile(loss='categorical_crossentropy', optimizer=opt,metrics=['accuracy'])\n",
    "\n",
    "    return model"
   ]
  },
  {
   "cell_type": "code",
   "execution_count": 14,
   "id": "82db081f",
   "metadata": {},
   "outputs": [
    {
     "name": "stderr",
     "output_type": "stream",
     "text": [
      "2022-03-23 14:03:54.628569: I tensorflow/core/platform/cpu_feature_guard.cc:151] This TensorFlow binary is optimized with oneAPI Deep Neural Network Library (oneDNN) to use the following CPU instructions in performance-critical operations:  SSE4.2\n",
      "To enable them in other operations, rebuild TensorFlow with the appropriate compiler flags.\n"
     ]
    },
    {
     "name": "stdout",
     "output_type": "stream",
     "text": [
      "Epoch 1/200\n",
      "368/368 [==============================] - 11s 24ms/step - loss: 1.5053 - accuracy: 0.5153 - val_loss: 1.2947 - val_accuracy: 0.6265\n",
      "Epoch 2/200\n",
      "368/368 [==============================] - 8s 22ms/step - loss: 1.1227 - accuracy: 0.6640 - val_loss: 0.9861 - val_accuracy: 0.6568\n",
      "Epoch 3/200\n",
      "368/368 [==============================] - 8s 22ms/step - loss: 0.8865 - accuracy: 0.6795 - val_loss: 0.7997 - val_accuracy: 0.6714\n",
      "Epoch 4/200\n",
      "368/368 [==============================] - 8s 22ms/step - loss: 0.7411 - accuracy: 0.6890 - val_loss: 0.6881 - val_accuracy: 0.6861\n",
      "Epoch 5/200\n",
      "368/368 [==============================] - 8s 22ms/step - loss: 0.6552 - accuracy: 0.7291 - val_loss: 0.6214 - val_accuracy: 0.7510\n",
      "Epoch 6/200\n",
      "368/368 [==============================] - 8s 23ms/step - loss: 0.5979 - accuracy: 0.7676 - val_loss: 0.5782 - val_accuracy: 0.7765\n",
      "Epoch 7/200\n",
      "368/368 [==============================] - 8s 23ms/step - loss: 0.5533 - accuracy: 0.7989 - val_loss: 0.5474 - val_accuracy: 0.7915\n",
      "Epoch 8/200\n",
      "368/368 [==============================] - 8s 22ms/step - loss: 0.5163 - accuracy: 0.8259 - val_loss: 0.5331 - val_accuracy: 0.8003\n",
      "Epoch 9/200\n",
      "368/368 [==============================] - 8s 23ms/step - loss: 0.4883 - accuracy: 0.8441 - val_loss: 0.5199 - val_accuracy: 0.8027\n",
      "Epoch 10/200\n",
      "368/368 [==============================] - 9s 26ms/step - loss: 0.4603 - accuracy: 0.8553 - val_loss: 0.5128 - val_accuracy: 0.8109\n",
      "Epoch 11/200\n",
      "368/368 [==============================] - 8s 23ms/step - loss: 0.4453 - accuracy: 0.8655 - val_loss: 0.5108 - val_accuracy: 0.8068\n",
      "Epoch 12/200\n",
      "368/368 [==============================] - 8s 23ms/step - loss: 0.4268 - accuracy: 0.8712 - val_loss: 0.5041 - val_accuracy: 0.8095\n",
      "Epoch 13/200\n",
      "368/368 [==============================] - 8s 22ms/step - loss: 0.4098 - accuracy: 0.8762 - val_loss: 0.5073 - val_accuracy: 0.8088\n",
      "Epoch 14/200\n",
      "368/368 [==============================] - 8s 22ms/step - loss: 0.4015 - accuracy: 0.8828 - val_loss: 0.5042 - val_accuracy: 0.8099\n",
      "Epoch 15/200\n",
      "368/368 [==============================] - 8s 23ms/step - loss: 0.3909 - accuracy: 0.8861 - val_loss: 0.5027 - val_accuracy: 0.8088\n",
      "Epoch 16/200\n",
      "368/368 [==============================] - 8s 22ms/step - loss: 0.3770 - accuracy: 0.8923 - val_loss: 0.4997 - val_accuracy: 0.8129\n",
      "Epoch 17/200\n",
      "368/368 [==============================] - 8s 22ms/step - loss: 0.3719 - accuracy: 0.8945 - val_loss: 0.5024 - val_accuracy: 0.8126\n",
      "Epoch 18/200\n",
      "368/368 [==============================] - 8s 22ms/step - loss: 0.3603 - accuracy: 0.8987 - val_loss: 0.5072 - val_accuracy: 0.8109\n",
      "Epoch 19/200\n",
      "368/368 [==============================] - 8s 22ms/step - loss: 0.3518 - accuracy: 0.9009 - val_loss: 0.5197 - val_accuracy: 0.8109\n",
      "Epoch 20/200\n",
      "368/368 [==============================] - 8s 22ms/step - loss: 0.3444 - accuracy: 0.9044 - val_loss: 0.5168 - val_accuracy: 0.8112\n",
      "Epoch 21/200\n",
      "368/368 [==============================] - 8s 22ms/step - loss: 0.3400 - accuracy: 0.9067 - val_loss: 0.5166 - val_accuracy: 0.8126\n",
      "CPU times: user 9min 28s, sys: 1min 4s, total: 10min 33s\n",
      "Wall time: 2min 55s\n"
     ]
    }
   ],
   "source": [
    "%%time\n",
    "model = initialize_model()\n",
    "es = EarlyStopping(patience=5, restore_best_weights=True)\n",
    "history = model.fit(X_train_pad, y_train, epochs=200, batch_size=32, verbose=1, callbacks=[es], validation_split=0.2 );"
   ]
  },
  {
   "cell_type": "code",
   "execution_count": 15,
   "id": "79ce42d7",
   "metadata": {},
   "outputs": [
    {
     "name": "stdout",
     "output_type": "stream",
     "text": [
      "Model: \"sequential\"\n",
      "_________________________________________________________________\n",
      " Layer (type)                Output Shape              Param #   \n",
      "=================================================================\n",
      " embedding (Embedding)       (None, 50, 200)           4925200   \n",
      "                                                                 \n",
      " lstm (LSTM)                 (None, 50)                50200     \n",
      "                                                                 \n",
      " dropout (Dropout)           (None, 50)                0         \n",
      "                                                                 \n",
      " dense (Dense)               (None, 50)                2550      \n",
      "                                                                 \n",
      " dropout_1 (Dropout)         (None, 50)                0         \n",
      "                                                                 \n",
      " dense_1 (Dense)             (None, 3)                 153       \n",
      "                                                                 \n",
      "=================================================================\n",
      "Total params: 4,978,103\n",
      "Trainable params: 4,978,103\n",
      "Non-trainable params: 0\n",
      "_________________________________________________________________\n"
     ]
    }
   ],
   "source": [
    " model.summary()"
   ]
  },
  {
   "cell_type": "code",
   "execution_count": 16,
   "id": "61d8e245",
   "metadata": {},
   "outputs": [
    {
     "data": {
      "image/png": "[encoded data removed]",
      "text/plain": [
       "<Figure size 432x288 with 1 Axes>"
      ]
     },
     "metadata": {
      "needs_background": "light"
     },
     "output_type": "display_data"
    }
   ],
   "source": [
    "import matplotlib.pyplot as plt\n",
    "\n",
    "plt.plot(history.history['loss'])\n",
    "plt.plot(history.history['val_loss'])\n",
    "plt.ylim((0,1));"
   ]
  },
  {
   "cell_type": "code",
   "execution_count": 17,
   "id": "b510f5be",
   "metadata": {},
   "outputs": [
    {
     "data": {
      "image/png": "[encoded data removed]",
      "text/plain": [
       "<Figure size 432x288 with 1 Axes>"
      ]
     },
     "metadata": {
      "needs_background": "light"
     },
     "output_type": "display_data"
    }
   ],
   "source": [
    "plt.plot(history.history['accuracy'])\n",
    "plt.plot(history.history['val_accuracy'])\n",
    "plt.ylim((0,1));"
   ]
  },
  {
   "cell_type": "code",
   "execution_count": 18,
   "id": "0b5f2915",
   "metadata": {},
   "outputs": [],
   "source": [
    "X_test_token = tk.texts_to_sequences(X_test)"
   ]
  },
  {
   "cell_type": "code",
   "execution_count": 19,
   "id": "9fbd34b5",
   "metadata": {},
   "outputs": [
    {
     "data": {
      "text/plain": [
       "array([699,  16, 554, 158,   0,   0,   0,   0,   0,   0,   0,   0,   0,\n",
       "         0,   0,   0,   0,   0,   0,   0,   0,   0,   0,   0,   0,   0,\n",
       "         0,   0,   0,   0,   0,   0,   0,   0,   0,   0,   0,   0,   0,\n",
       "         0,   0,   0,   0,   0,   0,   0,   0,   0,   0,   0], dtype=int32)"
      ]
     },
     "execution_count": 19,
     "metadata": {},
     "output_type": "execute_result"
    }
   ],
   "source": [
    "X_test_pad = pad_sequences(X_test_token, dtype='int32', padding='post', value=0, maxlen=50 )\n",
    "X_test_pad[0]"
   ]
  },
  {
   "cell_type": "code",
   "execution_count": 20,
   "id": "4a74a835",
   "metadata": {},
   "outputs": [
    {
     "data": {
      "text/plain": [
       "[0.4923836588859558, 0.8205046653747559]"
      ]
     },
     "execution_count": 20,
     "metadata": {},
     "output_type": "execute_result"
    }
   ],
   "source": [
    "model.evaluate(X_test_pad, y_test, verbose=0)"
   ]
  },
  {
   "cell_type": "markdown",
   "id": "cd6bcef1",
   "metadata": {},
   "source": [
    "## Vocab after advanced preprocessing"
   ]
  },
  {
   "cell_type": "code",
   "execution_count": 22,
   "id": "b97bd0b9",
   "metadata": {},
   "outputs": [],
   "source": [
    "import re"
   ]
  },
  {
   "cell_type": "code",
   "execution_count": null,
   "id": "cc2ce394",
   "metadata": {},
   "outputs": [],
   "source": [
    "# Pattern matching for all case alphabets# Pattern matching for all case alphabets\n",
    "Pattern_alpha = re.compile(r\"([A-Za-z])\\1{1,}\", re.DOTALL)  \n",
    "# Limiting all the  repeatation to two characters.\n",
    "Formatted_tweet = Pattern_alpha.sub(r\"\\1\\1\", tweet)   # r'\\1\\1' --> It limits all the repeatation to two characters.\n",
    "return Formatted_tweet"
   ]
  },
  {
   "cell_type": "code",
   "execution_count": 23,
   "id": "c33d5378",
   "metadata": {},
   "outputs": [],
   "source": [
    "def remove_dupla(tweet):\n",
    "    for word in tweet:\n",
    "        let = word[:2]\n",
    "        if word.count(let) >= 2: \n",
    "            tweet = let.sub(r'\\2',tweet)\n",
    "            tweet[tweet.index(word)] = word_\n",
    "    return tweet"
   ]
  },
  {
   "cell_type": "code",
   "execution_count": 24,
   "id": "0cbc24ba",
   "metadata": {},
   "outputs": [
    {
     "data": {
      "text/plain": [
       "'hehehehehe'"
      ]
     },
     "execution_count": 24,
     "metadata": {},
     "output_type": "execute_result"
    }
   ],
   "source": [
    "remove_dupla('hehehehehe')"
   ]
  },
  {
   "cell_type": "code",
   "execution_count": 35,
   "id": "7f004cf5",
   "metadata": {},
   "outputs": [],
   "source": [
    "def strip_accents(s):\n",
    "    return (''.join(c for c in unicodedata.normalize('NFD', s) if unicodedata.category(c) != 'Mn'))"
   ]
  },
  {
   "cell_type": "code",
   "execution_count": 36,
   "id": "7174823d",
   "metadata": {},
   "outputs": [
    {
     "data": {
      "text/plain": [
       "'ealcaeo'"
      ]
     },
     "execution_count": 36,
     "metadata": {},
     "output_type": "execute_result"
    }
   ],
   "source": [
    "strip_accents('éàlçâêô')"
   ]
  },
  {
   "cell_type": "code",
   "execution_count": null,
   "id": "5c57d577",
   "metadata": {},
   "outputs": [],
   "source": [
    "std_list = {'é':'ser','eh':'ser','vc':'voce','vcs':'voces','tb': 'tambem','tbm': 'tambem', \n",
    "            'obg': 'obrigado','obrigada':'obrigado','gnt': 'gente', 'q': 'que', 'n': 'nao', \n",
    "            'cmg': 'comigo', 'p':'para','pra' :'para','ta': 'está','tá':'está','to': 'estou', \n",
    "            'vdd':'verdade','bjos':'beijo','bjo':'beijo','kd': 'cade', 'pq':'porque',\n",
    "            'cmg':'comigo','cm':'com','pc':'ca','aq':'aqui','qdo':'quando','p':'para','k':'que','agr':'agora'}\n",
    "\n",
    "verb_list = {'sou':'ser','es':'ser','somos':'ser','sao':'ser','era':'ser','eras':'ser','era':'ser',\n",
    "             'eramos':'ser','ereis':'ser','eram':'ser', 'fui':'ser', 'foste':'ser', 'foi':'ser','fomos':'ser',\n",
    "             'fostes':'ser','foram':'ser','fora':'ser','foras':'ser','fôramos':'ser','foreis':'ser', 'serei':'ser',\n",
    "             'sera':'ser','seremos':'ser','sereis':'ser','serao':'ser', 'seria':'ser','serias':'ser',\n",
    "             'seriamos':'ser','serieis':'ser','seriam':'ser','seja':'ser','sejas':'ser','seja':'ser',\n",
    "             'sejamos':'ser','sejais':'ser','sejam':'ser','fosse':'ser','fosses':'ser','fosse':'ser',\n",
    "             'fossemos':'ser','fosseis':'ser','fossem':'ser',\n",
    "             'estou':'estar', 'esta':'estar', 'estamos':'estar', 'estao':'estar', 'estive':'estar', \n",
    "             'esteve':'estar','estivemos':'estar','estiveram':'estar', 'estava':'estar', 'estavamos':'estar', \n",
    "             'estavam':'estar', 'estivera':'estar', 'estivéramos':'estar', 'esteja':'estar', 'estejamos':'estar', \n",
    "             'estejam':'estar','estivesse':'estar', 'estivessemos':'estar', 'estivessem':'estar','estiver':'estar',\n",
    "             'estivermos':'estar','estiverem':'estar', 'estaremos':'estar',\n",
    "             'havia':'haver', 'houveram':'haver',\n",
    "             'hei':'haver','ha':'haver','havemos':'haver','hao':'haver', 'houve':'haver', 'houvemos':'haver', \n",
    "             'houveram':'haver', 'houvera':'haver', 'houveramos':'haver', 'haja':'haver','hajamos':'haver', \n",
    "             'hajam':'haver', 'houvesse':'haver', 'houvessemos':'haver', 'houvessem':'haver', 'houver':'haver', \n",
    "             'houvermos':'haver', 'houverem':'haver','houverei':'haver', 'houveremos':'haver',\n",
    "             'houverao':'haver', 'houveria':'haver', 'houveriamos':'haver', 'houveriam':'haver',\n",
    "             'tenho':'ter', 'temos':'ter','tinha':'ter', 'tinhamos':'ter', 'tinham':'ter', 'tive':'ter', \n",
    "             'teve':'ter', 'tivemos':'ter', 'tiveram':'ter', 'tivera':'ter','tiveramos':'ter','tenha':'ter',\n",
    "             'tenhamos':'ter', 'tenham':'ter', 'tivesse':'ter', 'tivessemos':'ter', \n",
    "             'tivessem':'ter', 'tiver':'ter', 'tivermos':'ter', 'tiverem':'ter', 'terei':'ter', 'tera':'ter',\n",
    "             'teremos':'ter', 'terao':'ter', 'teria':'ter', 'teriamos':'ter', 'teriam':'ter', 'tem':'ter',\n",
    "             'deve':'dever', 'devem':'dever', 'devendo':'dever', 'devera':'dever', 'deverao':'dever', \n",
    "             'deveria':'dever', 'deveriam':'dever', 'devia':'dever', 'deviam':'dever',\n",
    "             'faz':'fazer','fazeis':'fazer','fazem':'fazer','fazemos':'fazer','fazendo':'fazer','fazes':'fazer',\n",
    "             'faço':'fazer','fazia':'fazer','fazias':'fazer','fazia':'fazer','faziamos':'fazer','fazieis':'fazer',\n",
    "             'faziam':'fazer','farei':'fazer','faras':'fazer','fara':'fazer','faremos':'fazer',\n",
    "             'fareis':'fazer','farao':'fazer','faça':'fazer','faças':'fazer','faça':'fazer','façamos':'fazer',\n",
    "             'façais':'fazer','façam':'fazer','fizesse':'fazer',\n",
    "             'fizesses':'fazer','fizesse':'fazer','fizessemos':'fazer','fizesseis':'fazer','fizessem':'fazer',\n",
    "             'quero':'querer','queres':'querer','quer':'querer','queremos':'querer','quereis':'querer',\n",
    "             'querem':'querer','queria':'querer','querias':'querer','queria':'querer','queriamos':'querer',\n",
    "             'querieis':'querer','queriam':'querer'}\n"
   ]
  },
  {
   "cell_type": "code",
   "execution_count": null,
   "id": "94f22857",
   "metadata": {},
   "outputs": [],
   "source": [
    "def remove_abbreviation(tweet):\n",
    "    for word in tweet:\n",
    "        if word in std_list.keys():\n",
    "            word_ = std_list[word]\n",
    "            tweet[tweet.index(word)] = word_\n",
    "    return tweet"
   ]
  },
  {
   "cell_type": "code",
   "execution_count": null,
   "id": "7d804940",
   "metadata": {},
   "outputs": [],
   "source": [
    "def remove_conjugaison(tweet):\n",
    "    for word in tweet:\n",
    "        if word in verb_list.keys():\n",
    "            word_ = verb_list[word]\n",
    "            tweet[tweet.index(word)] = word_\n",
    "    return tweet"
   ]
  },
  {
   "cell_type": "code",
   "execution_count": 28,
   "id": "47896f08",
   "metadata": {},
   "outputs": [],
   "source": [
    "def lemmatization(tweet):\n",
    "    lemma = \"\"\n",
    "    for sent in nlp(tweet).sentences:\n",
    "        for word in sent.words:\n",
    "            lemma += word.lemma + \" \"\n",
    "    return lemma"
   ]
  },
  {
   "cell_type": "code",
   "execution_count": 29,
   "id": "e01d3c4a",
   "metadata": {},
   "outputs": [
    {
     "data": {
      "application/vnd.jupyter.widget-view+json": {
       "model_id": "c0958ca09fc2446fad75c395f1987368",
       "version_major": 2,
       "version_minor": 0
      },
      "text/plain": [
       "Downloading https://raw.githubusercontent.com/stanfordnlp/stanza-resources/main/resources_1.3.0.json:   0%|   …"
      ]
     },
     "metadata": {},
     "output_type": "display_data"
    },
    {
     "name": "stderr",
     "output_type": "stream",
     "text": [
      "2022-03-23 15:46:32 INFO: Downloading default packages for language: pt (Portuguese)...\n",
      "2022-03-23 15:46:33 INFO: File exists: /Users/laurannefossat/stanza_resources/pt/default.zip.\n",
      "2022-03-23 15:46:34 INFO: Finished downloading models and saved to /Users/laurannefossat/stanza_resources.\n",
      "2022-03-23 15:46:34 INFO: Loading these models for language: pt (Portuguese):\n",
      "=======================\n",
      "| Processor | Package |\n",
      "-----------------------\n",
      "| tokenize  | bosque  |\n",
      "| mwt       | bosque  |\n",
      "| pos       | bosque  |\n",
      "| lemma     | bosque  |\n",
      "| depparse  | bosque  |\n",
      "=======================\n",
      "\n",
      "2022-03-23 15:46:34 INFO: Use device: cpu\n",
      "2022-03-23 15:46:34 INFO: Loading: tokenize\n",
      "2022-03-23 15:46:34 INFO: Loading: mwt\n",
      "2022-03-23 15:46:34 INFO: Loading: pos\n",
      "2022-03-23 15:46:34 INFO: Loading: lemma\n",
      "2022-03-23 15:46:34 INFO: Loading: depparse\n",
      "2022-03-23 15:46:34 INFO: Done loading processors!\n"
     ]
    }
   ],
   "source": [
    "import re\n",
    "from nltk.tokenize import word_tokenize\n",
    "import pandas as pd\n",
    "import unicodedata\n",
    "import stanza\n",
    "\n",
    "stanza.download('pt')\n",
    "nlp = stanza.Pipeline('pt')"
   ]
  },
  {
   "cell_type": "code",
   "execution_count": null,
   "id": "b6866582",
   "metadata": {},
   "outputs": [],
   "source": [
    "def preproc_func(tweet):\n",
    "    '''Does the preprocessing of the tweets'''\n",
    "    \n",
    "    tweet = tweet.lower() # lowercase\n",
    "    \n",
    "    tweet=re.sub('https?://[A-Za-z0-9./]+','',tweet) # remove links que começam com https?://\n",
    "    tweet=re.sub('https://[A-Za-z0-9./]+','',tweet) # remove links que começam com https://\n",
    "    tweet=re.sub('http://[A-Za-z0-9./]+','',tweet) # remove links que começam com http://\n",
    "    \n",
    "    tweet = re.sub(r'@[A-Za-z0-9_]+','',tweet) # remove @mentions\n",
    "    tweet = re.sub(r'#',' ',tweet) # remove #hashtags\n",
    "    \n",
    "    tweet = re.sub(r'[^\\w\\s]','',tweet) # remove punctuation\n",
    "    tweet = re.sub(r'[0-9]',' number',tweet) # remove numbers\n",
    "    \n",
    "    print('lemmatization')\n",
    "    tweet = lemmatization(tweet)\n",
    "    tweet = strip_accents(tweet) # remove accents\n",
    "    print('tokenize')\n",
    "    word_tokens=word_tokenize(tweet) # tokenize\n",
    "    \n",
    "    word_tokens = remove_onomatopeia(word_tokens) # remove onomatopeias\n",
    "    word_tokens = remove_abbreviation(word_tokens) # remove abbreviations\n",
    "    word_tokens = remove_conjugaison(word_tokens) # remove conjugaisons\n",
    "    \n",
    "    # stopwords: remove articles, prepositions, conjunctions etc\n",
    "    stopwords=['a','ah','g','h', 'd','ca','te','tu','tua','tuas','um','uma','voce','voces','vos', 'la','lo','lá',\n",
    "               'as','ao','aos','aquela','aquelas','aquele','aqueles','aquilo','as','ate','com','como','da','das',\n",
    "               'de','dela','delas','dele','deles','depois','do','dos','e','ela','elas','ele','eles','em','entre',\n",
    "               'essa','essas','esse','esses','eu','for','isso','isto','já','lhe','lhes','me','mesmo','meu','meus',\n",
    "               'minha','minhas','muito','na','nas','no','nos','nossa','nossas','nosso','nossos','num','numa',\n",
    "               'nós','oh','o','os','para','pela','pelas','pelo','pelos','por','qual','quando','que','quem',\n",
    "               'se','sem','seu','seus','somos','sou','sua','suas','so','tambem', 'mas','ou', 'nem', \n",
    "               'este','teu','teus','estes','estas','agora','ai','alem','algo','alguém','algum','ainda',\n",
    "               'alguma','algumas','alguns', 'ali','ampla','amplas', 'amplo', 'amplos','ante', 'antes','apenas',\n",
    "               'apoio','após','aqui','aquilo','assim','atrás','através','bastante','breve','cada', 'cedo', 'cento', \n",
    "               'certamente','certeza','cima','coisa','coisas','da','dao','daquela', 'daquelas','daquele',\n",
    "               'daqueles','dentro','contudo','debaixo','demais','depois','desde','dessa','dessas','desse','desses',\n",
    "               'desta','destas','deste','destes','embora','enquanto','entre','etc','feita','feitas','feito', \n",
    "               'feitos','for','fora','geral','grande','grandes','hoje', 'hora', 'horas', 'longe',\n",
    "               'lugar', 'maior','maioria','mais','meio', 'menor', 'menos', 'mes', 'meses','mesma', 'mesmas',\n",
    "               'mesmo', 'mesmos','muita', 'muitas','muito','muitos','naquela', 'naquelas', 'naquele', 'naqueles',\n",
    "               'nessa', 'nessas', 'nesse', 'nesses', 'nesta', 'nestas', 'neste', 'nestes','num', 'numa','onde',\n",
    "               'ontem','perto','parte','outra', 'outras', 'outro', 'outros', 'pois', 'porém', 'porque',\n",
    "               'possivel', 'possivelmente','pouca', 'poucas', 'pouco', 'poucos', 'primeira', 'primeiras',\n",
    "               'primeiro', 'primeiros','propria','proprias','proprio', 'proprios', 'proxima', 'proximas',\n",
    "               'proximo', 'proximos','quais', 'quanto', 'quantos','quem','sempre','si', 'sido','sob', 'sobre',\n",
    "               'tal', 'talvez','tampouco', 'tanta', 'tantas','tanto', 'tao', 'tarde', 'te', 'todo', 'todos',\n",
    "               'toda', 'todas','tudo', 'ultima', 'ultimas', 'ultimo', 'ultimos','vários','vez', 'vezes',]\n",
    "    \n",
    "    filtered_tweet = [w for w in word_tokens if not w in stopwords] # remove stopwords\n",
    "\n",
    "    return filtered_tweet"
   ]
  },
  {
   "cell_type": "code",
   "execution_count": null,
   "id": "91cc4687",
   "metadata": {},
   "outputs": [],
   "source": [
    "df_2 = pd.read_csv('../thermofeeler/data/encoded_df.csv')"
   ]
  },
  {
   "cell_type": "code",
   "execution_count": null,
   "id": "c21cd98f",
   "metadata": {},
   "outputs": [],
   "source": [
    "df_2.tweet_text.head()"
   ]
  },
  {
   "cell_type": "code",
   "execution_count": null,
   "id": "855dbc6a",
   "metadata": {
    "scrolled": true
   },
   "outputs": [],
   "source": [
    "#df_2.tweet_text = df_2.tweet_text.apply(preproc_func)"
   ]
  },
  {
   "cell_type": "code",
   "execution_count": null,
   "id": "d03da102",
   "metadata": {},
   "outputs": [],
   "source": [
    "#df_2.tweet_text.head()"
   ]
  },
  {
   "cell_type": "code",
   "execution_count": null,
   "id": "767d4d82",
   "metadata": {},
   "outputs": [],
   "source": [
    "df_2 = df_2.drop(columns=['Unnamed: 0'])\n",
    "df_pos_2 = df_2[df_2.encoded_sentiment == 1][:1000]\n",
    "df_neg_2 = df_2[df_2.encoded_sentiment == -1][:1000]\n",
    "df_net_2 = df_2[df_2.encoded_sentiment == 0][:1000]"
   ]
  },
  {
   "cell_type": "code",
   "execution_count": null,
   "id": "5b2e85de",
   "metadata": {},
   "outputs": [],
   "source": [
    "small_df_2 = pd.concat([df_pos_2, df_neg_2, df_net_2])"
   ]
  },
  {
   "cell_type": "code",
   "execution_count": null,
   "id": "0f99f0f6",
   "metadata": {
    "scrolled": true
   },
   "outputs": [],
   "source": [
    "%%time\n",
    "small_df_2.tweet_text = small_df_2.tweet_text.apply(preproc_func)"
   ]
  },
  {
   "cell_type": "code",
   "execution_count": null,
   "id": "f4040a08",
   "metadata": {},
   "outputs": [],
   "source": [
    "X_2 = small_df_2.tweet_text\n",
    "y_2 = small_df_2.encoded_sentiment\n",
    "y_2 = pd.get_dummies(y_2)"
   ]
  },
  {
   "cell_type": "code",
   "execution_count": null,
   "id": "695384d2",
   "metadata": {},
   "outputs": [],
   "source": [
    "X_train_2, X_test_2, y_train_2, y_test_2 = train_test_split(X_2,y_2, train_size=0.7, random_state=1)"
   ]
  },
  {
   "cell_type": "code",
   "execution_count": null,
   "id": "6477d567",
   "metadata": {},
   "outputs": [],
   "source": [
    "tk_2 = Tokenizer()\n",
    "tk_2.fit_on_texts(X_train_2)\n",
    "X_train_token_2 = tk_2.texts_to_sequences(X_train_2)"
   ]
  },
  {
   "cell_type": "code",
   "execution_count": null,
   "id": "0113d8a5",
   "metadata": {},
   "outputs": [],
   "source": [
    "maxLength_2 = max(len(x) for x in X_train_token_2)\n",
    "minLength_2 = min(len(x) for x in X_train_token_2)\n",
    "vocab_size_2 = len(tk_2.word_index)\n",
    "maxLength_2, minLength_2, vocab_size_2"
   ]
  },
  {
   "cell_type": "code",
   "execution_count": null,
   "id": "2fe3d4a7",
   "metadata": {},
   "outputs": [],
   "source": [
    "small_df_2.head()"
   ]
  },
  {
   "cell_type": "code",
   "execution_count": null,
   "id": "a19c31ac",
   "metadata": {},
   "outputs": [],
   "source": [
    "X_train_pad_2 = pad_sequences(X_train_token_2, dtype='int32', padding='post', value=0, maxlen=50)"
   ]
  },
  {
   "cell_type": "code",
   "execution_count": null,
   "id": "cecbb262",
   "metadata": {},
   "outputs": [],
   "source": [
    "%%time\n",
    "model = initialize_model()\n",
    "es = EarlyStopping(patience=5, restore_best_weights=True)\n",
    "history = model.fit(X_train_pad_2, y_train, epochs=200, batch_size=32, verbose=1, callbacks=[es], validation_split=0.2 );"
   ]
  },
  {
   "cell_type": "code",
   "execution_count": null,
   "id": "962290e6",
   "metadata": {},
   "outputs": [],
   "source": [
    "X_test_token_2 = tk_2.texts_to_sequences(X_test_2)\n",
    "X_test_pad_2 = pad_sequences(X_test_token_2, dtype='int32', padding='post', value=0, maxlen=50 )"
   ]
  },
  {
   "cell_type": "code",
   "execution_count": null,
   "id": "5c95321d",
   "metadata": {},
   "outputs": [],
   "source": [
    "model.evaluate(X_test_pad_2, y_test_2, verbose=0)"
   ]
  },
  {
   "cell_type": "code",
   "execution_count": null,
   "id": "2c0205a9",
   "metadata": {},
   "outputs": [],
   "source": [
    "preproc_func('@bkcfb oi ta tudo bem agr hello #feliz#good ., çêâ àé, amei amo sou é sera, amantes amigos amigas ')"
   ]
  },
  {
   "cell_type": "code",
   "execution_count": null,
   "id": "71c7eb6c",
   "metadata": {},
   "outputs": [],
   "source": [
    "import re"
   ]
  },
  {
   "cell_type": "code",
   "execution_count": 39,
   "id": "14948a23",
   "metadata": {},
   "outputs": [],
   "source": [
    "t1 = '@bkcfb oi ta tudo bem agr hello #feliz#good ., çêâ àé,  amei amo sou é sera, està, amantes amigos amigas '"
   ]
  },
  {
   "cell_type": "code",
   "execution_count": 40,
   "id": "44b0ab1e",
   "metadata": {},
   "outputs": [
    {
     "name": "stdout",
     "output_type": "stream",
     "text": [
      "@bkcfb oi er tudo bem agr hello #feliz#good . , dar àé , amar amar ser ser ser , estar , amante amigo amiga @bkcfb oi er tudo bem agr hello #feliz#good . , dar o aé , amar amar ser ser ser , estar , amante amigo amiga @bkcfb oi er tudo bem agr hello #feliz#good . , dar o aé , amar amar ser ser ser , estar , amante amigo amiga @bkcfb oi er tudo bem agr hello #feliz#good . , dar o aé , amar amar ser ser ser , estar , amante amigo amiga @bkcfb oi er tudo bem agr hello #feliz#good . , dar o aé , amar amar ser ser ser , estar , amante amigo amiga @bkcfb oi er tudo bem agr hello #feliz#good . , dar o aé , amar amar ser ser ser , estar , amante amigo amiga @bkcfb oi er tudo bem agr hello #feliz#good . , dar o aé , amar amar ser ser ser , estar , amante amigo amiga @bkcfb oi er tudo bem agr hello #feliz#good . , dar o aé , amar amar ser ser ser , estar , amante amigo amiga @bkcfb oi er tudo bem agr hello #feliz#good . , dar o aé , amar amar ser ser ser , estar , amante amigo amiga @bkcfb oi er tudo bem agr hello #feliz#good . , dar àé , amar amar ser ser ser , estar , amante amigo amiga \n",
      "CPU times: user 1.06 s, sys: 17.3 ms, total: 1.08 s\n",
      "Wall time: 1.05 s\n"
     ]
    }
   ],
   "source": [
    "%%time\n",
    "lista2 = t1+t1+t1+t1+t1+t1+t1+t1+t1+t1\n",
    "t = lemmatization(lista2)\n",
    "print(t)"
   ]
  },
  {
   "cell_type": "code",
   "execution_count": null,
   "id": "511ea1f8",
   "metadata": {},
   "outputs": [],
   "source": [
    "lista = [t1,t1,t1,t1,t1,t1,t1,t1,t1,t1]"
   ]
  },
  {
   "cell_type": "code",
   "execution_count": null,
   "id": "10e904b2",
   "metadata": {},
   "outputs": [],
   "source": [
    "%%time\n",
    "for t in lista:\n",
    "    t = lemmatization(t)\n",
    "    print(t)"
   ]
  },
  {
   "cell_type": "code",
   "execution_count": null,
   "id": "d313593d",
   "metadata": {},
   "outputs": [],
   "source": [
    "t2 = ['@bkcfb' ,'oi', 'ta', 'tudo', 'bem agr hello #feliz#good ., çêâ àé,  amei amo sou é sera, està, amantes amigos amigas ']"
   ]
  },
  {
   "cell_type": "code",
   "execution_count": null,
   "id": "6826e67d",
   "metadata": {},
   "outputs": [],
   "source": [
    "'@bkcfb  5546 #oi ta tudo bem agr hello #feliz#good amei amo sou é sera, amantes amigos amigas'"
   ]
  }
 ],
 "metadata": {
  "kernelspec": {
   "display_name": "Python 3 (ipykernel)",
   "language": "python",
   "name": "python3"
  },
  "language_info": {
   "codemirror_mode": {
    "name": "ipython",
    "version": 3
   },
   "file_extension": ".py",
   "mimetype": "text/x-python",
   "name": "python",
   "nbconvert_exporter": "python",
   "pygments_lexer": "ipython3",
   "version": "3.8.12"
  },
  "toc": {
   "base_numbering": 1,
   "nav_menu": {},
   "number_sections": true,
   "sideBar": true,
   "skip_h1_title": false,
   "title_cell": "Table of Contents",
   "title_sidebar": "Contents",
   "toc_cell": false,
   "toc_position": {},
   "toc_section_display": true,
   "toc_window_display": false
  }
 },
 "nbformat": 4,
 "nbformat_minor": 5
}
