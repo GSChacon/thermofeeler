{
 "cells": [
  {
   "cell_type": "markdown",
   "id": "660c9480",
   "metadata": {},
   "source": [
    "## Best model"
   ]
  },
  {
   "cell_type": "code",
   "execution_count": 1,
   "id": "60adfe21",
   "metadata": {},
   "outputs": [],
   "source": [
    "import warnings\n",
    "warnings.filterwarnings('ignore')"
   ]
  },
  {
   "cell_type": "code",
   "execution_count": 2,
   "id": "386cd671",
   "metadata": {},
   "outputs": [],
   "source": [
    "import pandas as pd\n",
    "import numpy as np"
   ]
  },
  {
   "cell_type": "code",
   "execution_count": 3,
   "id": "518d30ae",
   "metadata": {},
   "outputs": [],
   "source": [
    "path = '../thermofeeler/data/tokenized_dataset.csv'\n",
    "df = pd.read_csv(path)"
   ]
  },
  {
   "cell_type": "code",
   "execution_count": 4,
   "id": "7c092795",
   "metadata": {},
   "outputs": [],
   "source": [
    "df = df.drop(columns=['Unnamed: 0'])\n",
    "df_pos = df[df.encoded_sentiment == 1][:7000]\n",
    "df_neg = df[df.encoded_sentiment == -1][:7000]\n",
    "df_net = df[df.encoded_sentiment == 0][:7000]"
   ]
  },
  {
   "cell_type": "code",
   "execution_count": 5,
   "id": "a63fff5b",
   "metadata": {},
   "outputs": [],
   "source": [
    "small_df = pd.concat([df_pos, df_neg, df_net])"
   ]
  },
  {
   "cell_type": "code",
   "execution_count": 6,
   "id": "cfbab688",
   "metadata": {},
   "outputs": [],
   "source": [
    "X = small_df.tweet_text\n",
    "y = small_df.encoded_sentiment\n",
    "y = pd.get_dummies(y)"
   ]
  },
  {
   "cell_type": "code",
   "execution_count": 7,
   "id": "4b66c110",
   "metadata": {},
   "outputs": [
    {
     "data": {
      "text/plain": [
       "((14699,), (6301,), (14699, 3), (6301, 3))"
      ]
     },
     "execution_count": 7,
     "metadata": {},
     "output_type": "execute_result"
    }
   ],
   "source": [
    "from sklearn.model_selection import train_test_split\n",
    "X_train, X_test, y_train, y_test = train_test_split(X,y, train_size=0.7, random_state=1)\n",
    "X_train.shape, X_test.shape, y_train.shape, y_test.shape"
   ]
  },
  {
   "cell_type": "code",
   "execution_count": 8,
   "id": "e74b4aba",
   "metadata": {},
   "outputs": [
    {
     "data": {
      "text/plain": [
       "[3, 61, 121, 62, 87, 603, 470, 100, 2546, 67, 1720, 752, 192, 817]"
      ]
     },
     "execution_count": 8,
     "metadata": {},
     "output_type": "execute_result"
    }
   ],
   "source": [
    "from tensorflow.keras.preprocessing.text import Tokenizer\n",
    "tk = Tokenizer()\n",
    "tk.fit_on_texts(X_train)\n",
    "X_train_token = tk.texts_to_sequences(X_train)\n",
    "X_train_token[0]"
   ]
  },
  {
   "cell_type": "code",
   "execution_count": 9,
   "id": "9968575a",
   "metadata": {},
   "outputs": [
    {
     "data": {
      "text/plain": [
       "(41, 0, 24625)"
      ]
     },
     "execution_count": 9,
     "metadata": {},
     "output_type": "execute_result"
    }
   ],
   "source": [
    "maxLength = max(len(x) for x in X_train_token)\n",
    "minLength = min(len(x) for x in X_train_token)\n",
    "vocab_size = len(tk.word_index)\n",
    "maxLength, minLength, vocab_size"
   ]
  },
  {
   "cell_type": "code",
   "execution_count": 10,
   "id": "2149bfb4",
   "metadata": {},
   "outputs": [
    {
     "data": {
      "text/plain": [
       "array([   3,   61,  121,   62,   87,  603,  470,  100, 2546,   67, 1720,\n",
       "        752,  192,  817,    0,    0,    0,    0,    0,    0,    0,    0,\n",
       "          0,    0,    0,    0,    0,    0,    0,    0,    0,    0,    0,\n",
       "          0,    0,    0,    0,    0,    0,    0,    0,    0,    0,    0,\n",
       "          0,    0,    0,    0,    0,    0], dtype=int32)"
      ]
     },
     "execution_count": 10,
     "metadata": {},
     "output_type": "execute_result"
    }
   ],
   "source": [
    "from tensorflow.keras.preprocessing.sequence import pad_sequences\n",
    "X_train_pad = pad_sequences(X_train_token, dtype='int32', padding='post', value=0, maxlen=50 )\n",
    "X_train_pad[0]"
   ]
  },
  {
   "cell_type": "code",
   "execution_count": 11,
   "id": "d2632744",
   "metadata": {},
   "outputs": [],
   "source": [
    "from tensorflow.keras.models import Sequential\n",
    "from tensorflow.keras.layers import *\n",
    "from tensorflow.keras.callbacks import EarlyStopping\n",
    "from tensorflow.keras import regularizers\n",
    "from tensorflow.keras import optimizers"
   ]
  },
  {
   "cell_type": "code",
   "execution_count": 12,
   "id": "2318220f",
   "metadata": {},
   "outputs": [],
   "source": [
    "def initialize_model():\n",
    "    \n",
    "    reg_l1 = regularizers.L1(0.01)\n",
    "    reg_l2 = regularizers.L2(0.01)\n",
    "    reg_l1_l2 = regularizers.l1_l2(l1=0.01, l2=0.01)\n",
    "    \n",
    "    opt = optimizers.RMSprop(learning_rate=0.0001)\n",
    "    \n",
    "    model = Sequential()\n",
    "    embedding_size = 200\n",
    "    model.add(Embedding(input_dim = vocab_size+1, input_length=50,\n",
    "                        output_dim=embedding_size, mask_zero=True))\n",
    "    \n",
    "    model.add(LSTM(50, activation='tanh'))\n",
    "    model.add(Dropout(0.4))\n",
    "    model.add(Dense(50, activation='relu', kernel_regularizer=reg_l2))\n",
    "    model.add(Dropout(0.5))\n",
    "    model.add(Dense(3, activation=\"softmax\", kernel_regularizer=reg_l2))\n",
    "    \n",
    "    model.compile(loss='categorical_crossentropy', optimizer=opt,metrics=['accuracy'])\n",
    "\n",
    "    return model"
   ]
  },
  {
   "cell_type": "code",
   "execution_count": 13,
   "id": "82db081f",
   "metadata": {},
   "outputs": [
    {
     "name": "stderr",
     "output_type": "stream",
     "text": [
      "2022-03-24 15:24:47.986276: I tensorflow/core/platform/cpu_feature_guard.cc:151] This TensorFlow binary is optimized with oneAPI Deep Neural Network Library (oneDNN) to use the following CPU instructions in performance-critical operations:  SSE4.2\n",
      "To enable them in other operations, rebuild TensorFlow with the appropriate compiler flags.\n"
     ]
    },
    {
     "name": "stdout",
     "output_type": "stream",
     "text": [
      "Epoch 1/200\n",
      "368/368 [==============================] - 18s 40ms/step - loss: 1.5150 - accuracy: 0.4709 - val_loss: 1.3695 - val_accuracy: 0.5929\n",
      "Epoch 2/200\n",
      "368/368 [==============================] - 13s 36ms/step - loss: 1.1721 - accuracy: 0.6314 - val_loss: 1.0140 - val_accuracy: 0.6408\n",
      "Epoch 3/200\n",
      "368/368 [==============================] - 14s 37ms/step - loss: 0.9254 - accuracy: 0.6623 - val_loss: 0.8218 - val_accuracy: 0.6578\n",
      "Epoch 4/200\n",
      "368/368 [==============================] - 14s 38ms/step - loss: 0.7637 - accuracy: 0.6768 - val_loss: 0.6996 - val_accuracy: 0.6667\n",
      "Epoch 5/200\n",
      "368/368 [==============================] - 15s 42ms/step - loss: 0.6682 - accuracy: 0.6925 - val_loss: 0.6349 - val_accuracy: 0.6857\n",
      "Epoch 6/200\n",
      "368/368 [==============================] - 16s 42ms/step - loss: 0.6157 - accuracy: 0.7118 - val_loss: 0.5958 - val_accuracy: 0.7323\n",
      "Epoch 7/200\n",
      "368/368 [==============================] - 20s 55ms/step - loss: 0.5761 - accuracy: 0.7567 - val_loss: 0.5612 - val_accuracy: 0.7786\n",
      "Epoch 8/200\n",
      "368/368 [==============================] - 17s 47ms/step - loss: 0.5339 - accuracy: 0.8007 - val_loss: 0.5258 - val_accuracy: 0.7956\n",
      "Epoch 9/200\n",
      "368/368 [==============================] - 22s 60ms/step - loss: 0.4942 - accuracy: 0.8274 - val_loss: 0.5042 - val_accuracy: 0.8116\n",
      "Epoch 10/200\n",
      "368/368 [==============================] - 18s 48ms/step - loss: 0.4624 - accuracy: 0.8467 - val_loss: 0.4909 - val_accuracy: 0.8136\n",
      "Epoch 11/200\n",
      "368/368 [==============================] - 20s 55ms/step - loss: 0.4452 - accuracy: 0.8597 - val_loss: 0.4838 - val_accuracy: 0.8163\n",
      "Epoch 12/200\n",
      "368/368 [==============================] - 22s 61ms/step - loss: 0.4257 - accuracy: 0.8604 - val_loss: 0.4760 - val_accuracy: 0.8119\n",
      "Epoch 13/200\n",
      "368/368 [==============================] - 23s 62ms/step - loss: 0.4068 - accuracy: 0.8703 - val_loss: 0.4734 - val_accuracy: 0.8146\n",
      "Epoch 14/200\n",
      "368/368 [==============================] - 17s 46ms/step - loss: 0.3935 - accuracy: 0.8764 - val_loss: 0.4692 - val_accuracy: 0.8170\n",
      "Epoch 15/200\n",
      "368/368 [==============================] - 18s 48ms/step - loss: 0.3824 - accuracy: 0.8829 - val_loss: 0.4719 - val_accuracy: 0.8143\n",
      "Epoch 16/200\n",
      "368/368 [==============================] - 17s 47ms/step - loss: 0.3720 - accuracy: 0.8874 - val_loss: 0.4722 - val_accuracy: 0.8194\n",
      "Epoch 17/200\n",
      "368/368 [==============================] - 18s 48ms/step - loss: 0.3645 - accuracy: 0.8916 - val_loss: 0.4757 - val_accuracy: 0.8190\n",
      "Epoch 18/200\n",
      "368/368 [==============================] - 19s 51ms/step - loss: 0.3510 - accuracy: 0.8964 - val_loss: 0.4788 - val_accuracy: 0.8177\n",
      "Epoch 19/200\n",
      "368/368 [==============================] - 21s 58ms/step - loss: 0.3443 - accuracy: 0.9026 - val_loss: 0.4853 - val_accuracy: 0.8160\n",
      "CPU times: user 18min 38s, sys: 2min 37s, total: 21min 16s\n",
      "Wall time: 5min 42s\n"
     ]
    }
   ],
   "source": [
    "%%time\n",
    "model = initialize_model()\n",
    "es = EarlyStopping(patience=5, restore_best_weights=True)\n",
    "history = model.fit(X_train_pad, y_train, epochs=200, batch_size=32, verbose=1, callbacks=[es], validation_split=0.2 );"
   ]
  },
  {
   "cell_type": "code",
   "execution_count": 14,
   "id": "79ce42d7",
   "metadata": {},
   "outputs": [
    {
     "name": "stdout",
     "output_type": "stream",
     "text": [
      "Model: \"sequential\"\n",
      "_________________________________________________________________\n",
      " Layer (type)                Output Shape              Param #   \n",
      "=================================================================\n",
      " embedding (Embedding)       (None, 50, 200)           4925200   \n",
      "                                                                 \n",
      " lstm (LSTM)                 (None, 50)                50200     \n",
      "                                                                 \n",
      " dropout (Dropout)           (None, 50)                0         \n",
      "                                                                 \n",
      " dense (Dense)               (None, 50)                2550      \n",
      "                                                                 \n",
      " dropout_1 (Dropout)         (None, 50)                0         \n",
      "                                                                 \n",
      " dense_1 (Dense)             (None, 3)                 153       \n",
      "                                                                 \n",
      "=================================================================\n",
      "Total params: 4,978,103\n",
      "Trainable params: 4,978,103\n",
      "Non-trainable params: 0\n",
      "_________________________________________________________________\n"
     ]
    }
   ],
   "source": [
    " model.summary()"
   ]
  },
  {
   "cell_type": "code",
   "execution_count": 15,
   "id": "61d8e245",
   "metadata": {},
   "outputs": [
    {
     "data": {
      "image/png": "[encoded data removed]",
      "text/plain": [
       "<Figure size 432x288 with 1 Axes>"
      ]
     },
     "metadata": {
      "needs_background": "light"
     },
     "output_type": "display_data"
    }
   ],
   "source": [
    "import matplotlib.pyplot as plt\n",
    "\n",
    "plt.plot(history.history['loss'])\n",
    "plt.plot(history.history['val_loss'])\n",
    "plt.ylim((0,1));"
   ]
  },
  {
   "cell_type": "code",
   "execution_count": 16,
   "id": "b510f5be",
   "metadata": {},
   "outputs": [
    {
     "data": {
      "image/png": "[encoded data removed]",
      "text/plain": [
       "<Figure size 432x288 with 1 Axes>"
      ]
     },
     "metadata": {
      "needs_background": "light"
     },
     "output_type": "display_data"
    }
   ],
   "source": [
    "plt.plot(history.history['accuracy'])\n",
    "plt.plot(history.history['val_accuracy'])\n",
    "plt.ylim((0,1));"
   ]
  },
  {
   "cell_type": "code",
   "execution_count": 17,
   "id": "0b5f2915",
   "metadata": {},
   "outputs": [],
   "source": [
    "X_test_token = tk.texts_to_sequences(X_test)"
   ]
  },
  {
   "cell_type": "code",
   "execution_count": 18,
   "id": "9fbd34b5",
   "metadata": {},
   "outputs": [
    {
     "data": {
      "text/plain": [
       "array([699,  16, 554, 158,   0,   0,   0,   0,   0,   0,   0,   0,   0,\n",
       "         0,   0,   0,   0,   0,   0,   0,   0,   0,   0,   0,   0,   0,\n",
       "         0,   0,   0,   0,   0,   0,   0,   0,   0,   0,   0,   0,   0,\n",
       "         0,   0,   0,   0,   0,   0,   0,   0,   0,   0,   0], dtype=int32)"
      ]
     },
     "execution_count": 18,
     "metadata": {},
     "output_type": "execute_result"
    }
   ],
   "source": [
    "X_test_pad = pad_sequences(X_test_token, dtype='int32', padding='post', value=0, maxlen=50 )\n",
    "X_test_pad[0]"
   ]
  },
  {
   "cell_type": "code",
   "execution_count": 19,
   "id": "4a74a835",
   "metadata": {},
   "outputs": [
    {
     "data": {
      "text/plain": [
       "[0.4760596454143524, 0.8214569091796875]"
      ]
     },
     "execution_count": 19,
     "metadata": {},
     "output_type": "execute_result"
    }
   ],
   "source": [
    "model.evaluate(X_test_pad, y_test, verbose=0)"
   ]
  }
 ],
 "metadata": {
  "kernelspec": {
   "display_name": "Python 3 (ipykernel)",
   "language": "python",
   "name": "python3"
  },
  "language_info": {
   "codemirror_mode": {
    "name": "ipython",
    "version": 3
   },
   "file_extension": ".py",
   "mimetype": "text/x-python",
   "name": "python",
   "nbconvert_exporter": "python",
   "pygments_lexer": "ipython3",
   "version": "3.8.12"
  },
  "toc": {
   "base_numbering": 1,
   "nav_menu": {},
   "number_sections": true,
   "sideBar": true,
   "skip_h1_title": false,
   "title_cell": "Table of Contents",
   "title_sidebar": "Contents",
   "toc_cell": false,
   "toc_position": {},
   "toc_section_display": true,
   "toc_window_display": false
  }
 },
 "nbformat": 4,
 "nbformat_minor": 5
}
