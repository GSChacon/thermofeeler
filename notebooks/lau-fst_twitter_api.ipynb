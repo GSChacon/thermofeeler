{
 "cells": [
  {
   "cell_type": "code",
   "execution_count": 1,
   "id": "91dddfa0",
   "metadata": {},
   "outputs": [],
   "source": [
    "import os\n",
    "import tweepy\n",
    "import pandas as pd\n",
    "from dotenv import load_dotenv, find_dotenv\n",
    "\n",
    "env_path = find_dotenv()\n",
    "load_dotenv(env_path)\n",
    "bearer_token = os.getenv('BEARER_TOKEN')"
   ]
  },
  {
   "cell_type": "code",
   "execution_count": 2,
   "id": "6a7367f5",
   "metadata": {},
   "outputs": [],
   "source": [
    "client = tweepy.Client(bearer_token=bearer_token)"
   ]
  },
  {
   "cell_type": "code",
   "execution_count": 3,
   "id": "6974d960",
   "metadata": {},
   "outputs": [],
   "source": [
    "query = '\"iphone 7\" lang:pt'\n",
    "#['word', '\"words\"', 'word1 OR word2, '@mention', '#hashtag', 'to:account', 'since:year-month-day']\n",
    "# queries can be 512 characters long"
   ]
  },
  {
   "cell_type": "code",
   "execution_count": 4,
   "id": "bb8a2944",
   "metadata": {},
   "outputs": [],
   "source": [
    "tweets = client.search_recent_tweets(query=query, \n",
    "                                     tweet_fields=['author_id','created_at','source','entities'],\n",
    "                                     max_results=10)"
   ]
  },
  {
   "cell_type": "code",
   "execution_count": 5,
   "id": "460c376c",
   "metadata": {
    "collapsed": true
   },
   "outputs": [
    {
     "name": "stdout",
     "output_type": "stream",
     "text": [
      "Vocês são muito folgados pah, na minha época usávamos iPhone 7, aquele bloco mesmo, mas ligávamos, tirávamos foto ali mesmo, fazíamos trabalho.\n",
      "Agora vocês só querem lamborghini voadora, sabe quanto custa aquilo???\n",
      "Mimados!\n",
      "Tweet id : 1507044263745495043\n",
      "Author id : 1071683025057009665\n",
      "Date : 2022-03-24 17:18:46+00:00\n",
      "Source : Twitter for iPhone\n",
      "------\n",
      "Tô indecisa se pego o iPhone 7 Plus ou 8 normal 🤦🏽‍♀️\n",
      "Tweet id : 1507027182278918144\n",
      "Author id : 1017080815283589120\n",
      "Date : 2022-03-24 16:10:54+00:00\n",
      "Source : Twitter for iPhone\n",
      "------\n",
      "@BrbaraQuintao câmera de iphone 7 deixa qualquer um bonito\n",
      "Tweet id : 1507018938051223552\n",
      "Author id : 913878304914100224\n",
      "Date : 2022-03-24 15:38:08+00:00\n",
      "Source : Twitter for iPhone\n",
      "------\n",
      "Se o @Casimiro não for reagir a entrevista do morador de rua mais famoso do Brasil eu sou um iPhone 7\n",
      "Tweet id : 1507013402283020297\n",
      "Author id : 1297353504043028480\n",
      "Date : 2022-03-24 15:16:08+00:00\n",
      "Source : Twitter for iPhone\n",
      "------\n",
      "Troca da tela e aplicação de película 3D iPhone 7 Plus (A1784).\n",
      "\n",
      "Avenida 15 de Novembro, 1182 - Centro, ao lado da Rua São Lourenço - Matão/SP, fone (16)98832-8951.\n",
      "\n",
      "Quebrou seu smartphone? Sua TV não liga mais? Não consegue jogar seu game preferido? Venha para a CS Matão. https://t.co/mtS0odFNpV\n",
      "Tweet id : 1507006353646125056\n",
      "Author id : 1158681851030069248\n",
      "Date : 2022-03-24 14:48:08+00:00\n",
      "Source : Twitter for Android\n",
      "------\n",
      "RT @hink3l: alguma alma boa tem capinha de iphone 7/8 pra rolo?\n",
      "Tweet id : 1507001455907115008\n",
      "Author id : 923310293110935553\n",
      "Date : 2022-03-24 14:28:40+00:00\n",
      "Source : broot do twitter\n",
      "------\n",
      "alguma alma boa tem capinha de iphone 7/8 pra rolo?\n",
      "Tweet id : 1507001434281156615\n",
      "Author id : 1435031865585455106\n",
      "Date : 2022-03-24 14:28:35+00:00\n",
      "Source : Twitter for iPhone\n",
      "------\n",
      "RT @sereitati: celular já tá dando uns bug, tbm né, iPhone 7 32gb kkkkkkkkkkk quase 6 anos com esse guerreiro\n",
      "Tweet id : 1507000224396546055\n",
      "Author id : 923310293110935553\n",
      "Date : 2022-03-24 14:23:46+00:00\n",
      "Source : broot do twitter\n",
      "------\n",
      "celular já tá dando uns bug, tbm né, iPhone 7 32gb kkkkkkkkkkk quase 6 anos com esse guerreiro\n",
      "Tweet id : 1507000202837708805\n",
      "Author id : 137045312\n",
      "Date : 2022-03-24 14:23:41+00:00\n",
      "Source : Twitter for iPhone\n",
      "------\n",
      "Disponível 🍏\n",
      "- IPHONE 7 PLUS 128GB 🍏\n",
      "-BATERIA 100%\n",
      "-1.899$\n",
      "PREÇO PROMOCIONAL ‼️\n",
      "RLF IMPORTADOS 🍏📱\n",
      "ZAP 21991703721 https://t.co/Gs21n7kbpr\n",
      "Tweet id : 1506993626848575494\n",
      "Author id : 906958464492208130\n",
      "Date : 2022-03-24 13:57:33+00:00\n",
      "Source : Twitter Web App\n",
      "------\n"
     ]
    }
   ],
   "source": [
    "for tweet in tweets.data:\n",
    "    print(tweet.text)\n",
    "    print(f\"Tweet id : {tweet.id}\")\n",
    "    print(f\"Author id : {tweet.author_id}\")\n",
    "    print(f\"Date : {tweet.created_at}\")\n",
    "    print(f\"Source : {tweet.source}\")\n",
    "    if tweet.entities != None :\n",
    "        if 'hashtags' in tweet.entities.keys():\n",
    "            for i in range(len(tweet.entities['hashtags'])):\n",
    "                hashtags = []\n",
    "                hashtags.append(tweet.entities['hashtags'][i]['tag'])\n",
    "            print(f\"Hashtags : {hashtags}\")\n",
    "    print('------')"
   ]
  },
  {
   "cell_type": "code",
   "execution_count": 6,
   "id": "dab3bbd1",
   "metadata": {},
   "outputs": [],
   "source": [
    "def hashtag_list(tweet):\n",
    "    hashtags = []\n",
    "    if tweet.entities != None :\n",
    "        if 'hashtags' in tweet.entities.keys():\n",
    "            for i in range(len(tweet.entities['hashtags'])):\n",
    "                hashtags.append(tweet.entities['hashtags'][i]['tag'])\n",
    "    return hashtags"
   ]
  },
  {
   "cell_type": "code",
   "execution_count": 7,
   "id": "f8bec14f",
   "metadata": {},
   "outputs": [],
   "source": [
    "tweets_search = [[],[],[],[],[]]\n",
    "for tweet in tweets.data :\n",
    "    tweets_search[0].append(tweet.text)\n",
    "    tweets_search[1].append(tweet.author_id)\n",
    "    tweets_search[2].append(tweet.created_at)\n",
    "    tweets_search[3].append(tweet.source)\n",
    "    tweets_search[4].append(hashtag_list(tweet))"
   ]
  },
  {
   "cell_type": "code",
   "execution_count": 8,
   "id": "3302ea9f",
   "metadata": {
    "collapsed": true
   },
   "outputs": [
    {
     "data": {
      "text/plain": [
       "[['Vocês são muito folgados pah, na minha época usávamos iPhone 7, aquele bloco mesmo, mas ligávamos, tirávamos foto ali mesmo, fazíamos trabalho.\\nAgora vocês só querem lamborghini voadora, sabe quanto custa aquilo???\\nMimados!',\n",
       "  'Tô indecisa se pego o iPhone 7 Plus ou 8 normal 🤦🏽\\u200d♀️',\n",
       "  '@BrbaraQuintao câmera de iphone 7 deixa qualquer um bonito',\n",
       "  'Se o @Casimiro não for reagir a entrevista do morador de rua mais famoso do Brasil eu sou um iPhone 7',\n",
       "  'Troca da tela e aplicação de película 3D iPhone 7 Plus (A1784).\\n\\nAvenida 15 de Novembro, 1182 - Centro, ao lado da Rua São Lourenço - Matão/SP, fone (16)98832-8951.\\n\\nQuebrou seu smartphone? Sua TV não liga mais? Não consegue jogar seu game preferido? Venha para a CS Matão. https://t.co/mtS0odFNpV',\n",
       "  'RT @hink3l: alguma alma boa tem capinha de iphone 7/8 pra rolo?',\n",
       "  'alguma alma boa tem capinha de iphone 7/8 pra rolo?',\n",
       "  'RT @sereitati: celular já tá dando uns bug, tbm né, iPhone 7 32gb kkkkkkkkkkk quase 6 anos com esse guerreiro',\n",
       "  'celular já tá dando uns bug, tbm né, iPhone 7 32gb kkkkkkkkkkk quase 6 anos com esse guerreiro',\n",
       "  'Disponível 🍏\\n- IPHONE 7 PLUS 128GB 🍏\\n-BATERIA 100%\\n-1.899$\\nPREÇO PROMOCIONAL ‼️\\nRLF IMPORTADOS 🍏📱\\nZAP 21991703721 https://t.co/Gs21n7kbpr'],\n",
       " [1071683025057009665,\n",
       "  1017080815283589120,\n",
       "  913878304914100224,\n",
       "  1297353504043028480,\n",
       "  1158681851030069248,\n",
       "  923310293110935553,\n",
       "  1435031865585455106,\n",
       "  923310293110935553,\n",
       "  137045312,\n",
       "  906958464492208130],\n",
       " [datetime.datetime(2022, 3, 24, 17, 18, 46, tzinfo=datetime.timezone.utc),\n",
       "  datetime.datetime(2022, 3, 24, 16, 10, 54, tzinfo=datetime.timezone.utc),\n",
       "  datetime.datetime(2022, 3, 24, 15, 38, 8, tzinfo=datetime.timezone.utc),\n",
       "  datetime.datetime(2022, 3, 24, 15, 16, 8, tzinfo=datetime.timezone.utc),\n",
       "  datetime.datetime(2022, 3, 24, 14, 48, 8, tzinfo=datetime.timezone.utc),\n",
       "  datetime.datetime(2022, 3, 24, 14, 28, 40, tzinfo=datetime.timezone.utc),\n",
       "  datetime.datetime(2022, 3, 24, 14, 28, 35, tzinfo=datetime.timezone.utc),\n",
       "  datetime.datetime(2022, 3, 24, 14, 23, 46, tzinfo=datetime.timezone.utc),\n",
       "  datetime.datetime(2022, 3, 24, 14, 23, 41, tzinfo=datetime.timezone.utc),\n",
       "  datetime.datetime(2022, 3, 24, 13, 57, 33, tzinfo=datetime.timezone.utc)],\n",
       " ['Twitter for iPhone',\n",
       "  'Twitter for iPhone',\n",
       "  'Twitter for iPhone',\n",
       "  'Twitter for iPhone',\n",
       "  'Twitter for Android',\n",
       "  'broot do twitter',\n",
       "  'Twitter for iPhone',\n",
       "  'broot do twitter',\n",
       "  'Twitter for iPhone',\n",
       "  'Twitter Web App'],\n",
       " [[], [], [], [], [], [], [], [], [], []]]"
      ]
     },
     "execution_count": 8,
     "metadata": {},
     "output_type": "execute_result"
    }
   ],
   "source": [
    "tweets_search"
   ]
  },
  {
   "cell_type": "code",
   "execution_count": 9,
   "id": "0d9b74e1",
   "metadata": {},
   "outputs": [],
   "source": [
    "from thermofeeler.utils import preproc_func"
   ]
  },
  {
   "cell_type": "code",
   "execution_count": 10,
   "id": "806d5039",
   "metadata": {},
   "outputs": [],
   "source": [
    "preproc_tweets=[]\n",
    "for tweet in tweets_search[0]:\n",
    "    preproc_tweets.append(preproc_func(tweet))"
   ]
  },
  {
   "cell_type": "code",
   "execution_count": 11,
   "id": "fb6dcd25",
   "metadata": {},
   "outputs": [
    {
     "data": {
      "text/plain": [
       "['folgados',\n",
       " 'pah',\n",
       " 'época',\n",
       " 'usávamos',\n",
       " 'iphone',\n",
       " 'bloco',\n",
       " 'mas',\n",
       " 'ligávamos',\n",
       " 'tirávamos',\n",
       " 'foto',\n",
       " 'ali',\n",
       " 'fazíamos',\n",
       " 'trabalho',\n",
       " 'agora',\n",
       " 'querem',\n",
       " 'lamborghini',\n",
       " 'voadora',\n",
       " 'sabe',\n",
       " 'quanto',\n",
       " 'custa',\n",
       " 'mimados']"
      ]
     },
     "execution_count": 11,
     "metadata": {},
     "output_type": "execute_result"
    }
   ],
   "source": [
    "preproc_tweets[0]"
   ]
  },
  {
   "cell_type": "code",
   "execution_count": null,
   "id": "a4f1cbb3",
   "metadata": {},
   "outputs": [],
   "source": [
    "#for tweet in tweepy.Paginator(client.search_recent_tweets, query=query,\n",
    "#                              tweet_fields=['context_annotations', 'created_at'], max_results=100).flatten(limit=1000):\n",
    "#    print(tweet)"
   ]
  },
  {
   "cell_type": "code",
   "execution_count": 12,
   "id": "52212145",
   "metadata": {},
   "outputs": [],
   "source": [
    "from datetime import datetime, timedelta\n",
    "tweets_search = []\n",
    "now = datetime.now() + timedelta(hours=3)\n",
    "start_time = now - timedelta(days=7)\n",
    "end_time = now - timedelta(days=6)\n",
    "\n",
    "for loop in range(6):\n",
    "    tweets = client.search_recent_tweets(query=query, \n",
    "                                     start_time=start_time,\n",
    "                                     end_time=end_time,\n",
    "                                     tweet_fields=['author_id','created_at','source','entities'],\n",
    "                                     max_results=20)\n",
    "    tweets_search.append(tweets)\n",
    "    start_time += timedelta(days=1)\n",
    "    end_time += timedelta(days=1)"
   ]
  },
  {
   "cell_type": "code",
   "execution_count": 13,
   "id": "2409ecd6",
   "metadata": {},
   "outputs": [],
   "source": [
    "tweets_ = [[],[],[],[],[]]\n",
    "for tweets in tweets_search:\n",
    "    for tweet in tweets.data :\n",
    "        tweets_[0].append(tweet.text)\n",
    "        tweets_[1].append(tweet.author_id)\n",
    "        tweets_[2].append(tweet.created_at)\n",
    "        tweets_[3].append(tweet.source)\n",
    "        tweets_[4].append(hashtag_list(tweet))"
   ]
  },
  {
   "cell_type": "code",
   "execution_count": 14,
   "id": "011c6e18",
   "metadata": {},
   "outputs": [
    {
     "data": {
      "text/plain": [
       "111"
      ]
     },
     "execution_count": 14,
     "metadata": {},
     "output_type": "execute_result"
    }
   ],
   "source": [
    "len(tweets_[0])"
   ]
  },
  {
   "cell_type": "code",
   "execution_count": 15,
   "id": "da087bae",
   "metadata": {},
   "outputs": [],
   "source": [
    "import matplotlib.pyplot as plt"
   ]
  },
  {
   "cell_type": "code",
   "execution_count": 33,
   "id": "1078b422",
   "metadata": {},
   "outputs": [],
   "source": [
    "import numpy as np\n",
    "L = np.random.randint(-1,2,111)\n",
    "L = L.tolist()"
   ]
  },
  {
   "cell_type": "code",
   "execution_count": 35,
   "id": "2a1f3c56",
   "metadata": {},
   "outputs": [
    {
     "data": {
      "image/png": "[encoded data removed]",
      "text/plain": [
       "<Figure size 1440x360 with 1 Axes>"
      ]
     },
     "metadata": {
      "needs_background": "light"
     },
     "output_type": "display_data"
    }
   ],
   "source": [
    "plt.figure(figsize=(20,5))\n",
    "plt.plot(sorted(tweets_[2]), L)\n",
    "plt.ylabel(\"Outcome\")\n",
    "plt.;"
   ]
  }
 ],
 "metadata": {
  "kernelspec": {
   "display_name": "Python 3 (ipykernel)",
   "language": "python",
   "name": "python3"
  },
  "language_info": {
   "codemirror_mode": {
    "name": "ipython",
    "version": 3
   },
   "file_extension": ".py",
   "mimetype": "text/x-python",
   "name": "python",
   "nbconvert_exporter": "python",
   "pygments_lexer": "ipython3",
   "version": "3.8.12"
  },
  "toc": {
   "base_numbering": 1,
   "nav_menu": {},
   "number_sections": true,
   "sideBar": true,
   "skip_h1_title": false,
   "title_cell": "Table of Contents",
   "title_sidebar": "Contents",
   "toc_cell": false,
   "toc_position": {},
   "toc_section_display": true,
   "toc_window_display": false
  }
 },
 "nbformat": 4,
 "nbformat_minor": 5
}
