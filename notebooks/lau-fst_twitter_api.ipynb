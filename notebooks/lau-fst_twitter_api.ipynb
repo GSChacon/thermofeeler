{
 "cells": [
  {
   "cell_type": "code",
   "execution_count": 1,
   "id": "91dddfa0",
   "metadata": {},
   "outputs": [],
   "source": [
    "import os\n",
    "import tweepy\n",
    "import pandas as pd\n",
    "from dotenv import load_dotenv, find_dotenv\n",
    "\n",
    "env_path = find_dotenv()\n",
    "load_dotenv(env_path)\n",
    "\n",
    "api_key = os.getenv('API_KEY')\n",
    "api_key_secret = os.getenv('API_KEY_SECRET')\n",
    "bearer_token = os.getenv('BEARER_TOKEN')"
   ]
  },
  {
   "cell_type": "code",
   "execution_count": 2,
   "id": "6a7367f5",
   "metadata": {},
   "outputs": [],
   "source": [
    "client = tweepy.Client(bearer_token=bearer_token)\n",
    "auth = tweepy.OAuthHandler(api_key, api_key_secret)\n",
    "api = tweepy.API(auth)"
   ]
  },
  {
   "cell_type": "code",
   "execution_count": 3,
   "id": "6974d960",
   "metadata": {},
   "outputs": [],
   "source": [
    "query = '\"iphone 7\" lang:pt'\n",
    "#['word', '\"words\"', 'word1 OR word2, '@mention', '#hashtag', 'to:account', 'since:year-month-day']\n",
    "# queries can be 512 characters long"
   ]
  },
  {
   "cell_type": "code",
   "execution_count": 4,
   "id": "bb8a2944",
   "metadata": {},
   "outputs": [],
   "source": [
    "tweets = client.search_recent_tweets(query=query, \n",
    "                                     tweet_fields=['author_id','created_at','source','entities'],\n",
    "                                     max_results=10)"
   ]
  },
  {
   "cell_type": "code",
   "execution_count": 5,
   "id": "460c376c",
   "metadata": {
    "scrolled": true
   },
   "outputs": [
    {
     "name": "stdout",
     "output_type": "stream",
     "text": [
      "RT @will_moutinho: Eu trabalho com um IPhone 7 e tenho um Xr, volta e meia me dá um bug na mente 😂😂😂\n",
      "Tweet id : 1506979409923911680\n",
      "Author id : 923310293110935553\n",
      "Date : 2022-03-24 13:01:04+00:00\n",
      "Source : broot do twitter\n",
      "------\n",
      "Eu trabalho com um IPhone 7 e tenho um Xr, volta e meia me dá um bug na mente 😂😂😂\n",
      "Tweet id : 1506979388327591941\n",
      "Author id : 1101682233524539393\n",
      "Date : 2022-03-24 13:00:59+00:00\n",
      "Source : Twitter for iPhone\n",
      "------\n",
      "@Nevraeatme Chorando com meu iPhone 7\n",
      "Tweet id : 1506973633633263620\n",
      "Author id : 1263279296744996870\n",
      "Date : 2022-03-24 12:38:07+00:00\n",
      "Source : Twitter for iPhone\n",
      "------\n",
      "RT @juliasouzaabr: Vendo IPhone 7 Plus ✨ (é meu xodó, tá em perfeito estado!)\n",
      "Mais informações só me chamar no pvd✨\n",
      "\n",
      "Quem puder dar RT! 🦋🙏🏿…\n",
      "Tweet id : 1506954931709919233\n",
      "Author id : 737456821007437824\n",
      "Date : 2022-03-24 11:23:48+00:00\n",
      "Source : Twitter for iPhone\n",
      "------\n",
      "RT @alertanatal: Por volta das 19h30, na Rua João Câmara, a guarnição visualizou um indivíduo em atitude suspeita. Na abordagem foi localiz…\n",
      "Tweet id : 1506938955190710275\n",
      "Author id : 923310293110935553\n",
      "Date : 2022-03-24 10:20:19+00:00\n",
      "Source : broot do twitter\n",
      "------\n",
      "Por volta das 19h30, na Rua João Câmara, a guarnição visualizou um indivíduo em atitude suspeita. Na abordagem foi localizado em sua posse um iPhone 7 plus vermelho (IMEI 355356084728721) envolto completamente em papel alumínio. Segundo o envolvido, o ap… https://t.co/nsUKvocalT https://t.co/a1YHD8dj3P\n",
      "Tweet id : 1506938933019619328\n",
      "Author id : 1474840765301989378\n",
      "Date : 2022-03-24 10:20:13+00:00\n",
      "Source : IFTTT\n",
      "------\n",
      "Sobreviventes do iphone 7 plus, o apple music tá a funcionar direito?\n",
      "Tweet id : 1506911013924487168\n",
      "Author id : 875397434356224000\n",
      "Date : 2022-03-24 08:29:17+00:00\n",
      "Source : Twitter for iPhone\n",
      "------\n",
      "@SkywalkerKyle @vaidesmaiar IPhone 7, 7 Plus 8, 8 Plus SE 2020, que ainda vai receber o novo iOS roda perfeito, agora compra um samsung que depois de alguns meses o celular já tá dando aqueles leg. Ninguém merece\n",
      "Tweet id : 1506858213852991490\n",
      "Author id : 988568991844192256\n",
      "Date : 2022-03-24 04:59:28+00:00\n",
      "Source : Twitter for Android\n",
      "------\n",
      "Sou muito bonita pra usar um iPhone 7, mereço o 12 no mínimo\n",
      "Tweet id : 1506853209993891840\n",
      "Author id : 1242430980\n",
      "Date : 2022-03-24 04:39:35+00:00\n",
      "Source : Twitter for iPhone\n",
      "------\n",
      "RT @Fetoffoletto: Gente, tô vendendo um iPhone 7 Plus, 128gb.. carregador (tá funcionando) , caixa, nf, duas capinhas.. ele ta inteiro.. qu…\n",
      "Tweet id : 1506830087303352323\n",
      "Author id : 3622387576\n",
      "Date : 2022-03-24 03:07:43+00:00\n",
      "Source : Twitter for Android\n",
      "------\n"
     ]
    }
   ],
   "source": [
    "for tweet in tweets.data:\n",
    "    print(tweet.text)\n",
    "    print(f\"Tweet id : {tweet.id}\")\n",
    "    print(f\"Author id : {tweet.author_id}\")\n",
    "    print(f\"Date : {tweet.created_at}\")\n",
    "    print(f\"Source : {tweet.source}\")\n",
    "    if tweet.entities != None :\n",
    "        if 'hashtags' in tweet.entities.keys():\n",
    "            for i in range(len(tweet.entities['hashtags'])):\n",
    "                hashtags = []\n",
    "                hashtags.append(tweet.entities['hashtags'][i]['tag'])\n",
    "            print(f\"Hashtags : {hashtags}\")\n",
    "    print('------')"
   ]
  },
  {
   "cell_type": "code",
   "execution_count": 6,
   "id": "0a05fa38",
   "metadata": {},
   "outputs": [
    {
     "name": "stdout",
     "output_type": "stream",
     "text": [
      "[<Tweet id=1506979409923911680 text='RT @will_moutinho: Eu trabalho com um IPhone 7 e tenho um Xr, volta e meia me dá um bug na mente 😂😂😂'>, <Tweet id=1506979388327591941 text='Eu trabalho com um IPhone 7 e tenho um Xr, volta e meia me dá um bug na mente 😂😂😂'>, <Tweet id=1506973633633263620 text='@Nevraeatme Chorando com meu iPhone 7'>, <Tweet id=1506954931709919233 text='RT @juliasouzaabr: Vendo IPhone 7 Plus ✨ (é meu xodó, tá em perfeito estado!)\\nMais informações só me chamar no pvd✨\\n\\nQuem puder dar RT! 🦋🙏🏿…'>, <Tweet id=1506938955190710275 text='RT @alertanatal: Por volta das 19h30, na Rua João Câmara, a guarnição visualizou um indivíduo em atitude suspeita. Na abordagem foi localiz…'>, <Tweet id=1506938933019619328 text='Por volta das 19h30, na Rua João Câmara, a guarnição visualizou um indivíduo em atitude suspeita. Na abordagem foi localizado em sua posse um iPhone 7 plus vermelho (IMEI 355356084728721) envolto completamente em papel alumínio. Segundo o envolvido, o ap… https://t.co/nsUKvocalT https://t.co/a1YHD8dj3P'>, <Tweet id=1506911013924487168 text='Sobreviventes do iphone 7 plus, o apple music tá a funcionar direito?'>, <Tweet id=1506858213852991490 text='@SkywalkerKyle @vaidesmaiar IPhone 7, 7 Plus 8, 8 Plus SE 2020, que ainda vai receber o novo iOS roda perfeito, agora compra um samsung que depois de alguns meses o celular já tá dando aqueles leg. Ninguém merece'>, <Tweet id=1506853209993891840 text='Sou muito bonita pra usar um iPhone 7, mereço o 12 no mínimo'>, <Tweet id=1506830087303352323 text='RT @Fetoffoletto: Gente, tô vendendo um iPhone 7 Plus, 128gb.. carregador (tá funcionando) , caixa, nf, duas capinhas.. ele ta inteiro.. qu…'>]\n"
     ]
    }
   ],
   "source": [
    "print(tweets.data)"
   ]
  },
  {
   "cell_type": "code",
   "execution_count": 7,
   "id": "dab3bbd1",
   "metadata": {},
   "outputs": [],
   "source": [
    "def hashtag_list(tweet):\n",
    "    hashtags = []\n",
    "    if tweet.entities != None :\n",
    "        if 'hashtags' in tweet.entities.keys():\n",
    "            for i in range(len(tweet.entities['hashtags'])):\n",
    "                hashtags.append(tweet.entities['hashtags'][i]['tag'])\n",
    "    return hashtags"
   ]
  },
  {
   "cell_type": "code",
   "execution_count": 8,
   "id": "f8bec14f",
   "metadata": {},
   "outputs": [],
   "source": [
    "tweets_search = [[],[],[],[],[]]\n",
    "for tweet in tweets.data :\n",
    "    tweets_search[0].append(tweet.text)\n",
    "    tweets_search[1].append(tweet.author_id)\n",
    "    tweets_search[2].append(tweet.created_at)\n",
    "    tweets_search[3].append(tweet.source)\n",
    "    tweets_search[4].append(hashtag_list(tweet))"
   ]
  },
  {
   "cell_type": "code",
   "execution_count": 9,
   "id": "3302ea9f",
   "metadata": {},
   "outputs": [
    {
     "data": {
      "text/plain": [
       "[['RT @will_moutinho: Eu trabalho com um IPhone 7 e tenho um Xr, volta e meia me dá um bug na mente 😂😂😂',\n",
       "  'Eu trabalho com um IPhone 7 e tenho um Xr, volta e meia me dá um bug na mente 😂😂😂',\n",
       "  '@Nevraeatme Chorando com meu iPhone 7',\n",
       "  'RT @juliasouzaabr: Vendo IPhone 7 Plus ✨ (é meu xodó, tá em perfeito estado!)\\nMais informações só me chamar no pvd✨\\n\\nQuem puder dar RT! 🦋🙏🏿…',\n",
       "  'RT @alertanatal: Por volta das 19h30, na Rua João Câmara, a guarnição visualizou um indivíduo em atitude suspeita. Na abordagem foi localiz…',\n",
       "  'Por volta das 19h30, na Rua João Câmara, a guarnição visualizou um indivíduo em atitude suspeita. Na abordagem foi localizado em sua posse um iPhone 7 plus vermelho (IMEI 355356084728721) envolto completamente em papel alumínio. Segundo o envolvido, o ap… https://t.co/nsUKvocalT https://t.co/a1YHD8dj3P',\n",
       "  'Sobreviventes do iphone 7 plus, o apple music tá a funcionar direito?',\n",
       "  '@SkywalkerKyle @vaidesmaiar IPhone 7, 7 Plus 8, 8 Plus SE 2020, que ainda vai receber o novo iOS roda perfeito, agora compra um samsung que depois de alguns meses o celular já tá dando aqueles leg. Ninguém merece',\n",
       "  'Sou muito bonita pra usar um iPhone 7, mereço o 12 no mínimo',\n",
       "  'RT @Fetoffoletto: Gente, tô vendendo um iPhone 7 Plus, 128gb.. carregador (tá funcionando) , caixa, nf, duas capinhas.. ele ta inteiro.. qu…'],\n",
       " [923310293110935553,\n",
       "  1101682233524539393,\n",
       "  1263279296744996870,\n",
       "  737456821007437824,\n",
       "  923310293110935553,\n",
       "  1474840765301989378,\n",
       "  875397434356224000,\n",
       "  988568991844192256,\n",
       "  1242430980,\n",
       "  3622387576],\n",
       " [datetime.datetime(2022, 3, 24, 13, 1, 4, tzinfo=datetime.timezone.utc),\n",
       "  datetime.datetime(2022, 3, 24, 13, 0, 59, tzinfo=datetime.timezone.utc),\n",
       "  datetime.datetime(2022, 3, 24, 12, 38, 7, tzinfo=datetime.timezone.utc),\n",
       "  datetime.datetime(2022, 3, 24, 11, 23, 48, tzinfo=datetime.timezone.utc),\n",
       "  datetime.datetime(2022, 3, 24, 10, 20, 19, tzinfo=datetime.timezone.utc),\n",
       "  datetime.datetime(2022, 3, 24, 10, 20, 13, tzinfo=datetime.timezone.utc),\n",
       "  datetime.datetime(2022, 3, 24, 8, 29, 17, tzinfo=datetime.timezone.utc),\n",
       "  datetime.datetime(2022, 3, 24, 4, 59, 28, tzinfo=datetime.timezone.utc),\n",
       "  datetime.datetime(2022, 3, 24, 4, 39, 35, tzinfo=datetime.timezone.utc),\n",
       "  datetime.datetime(2022, 3, 24, 3, 7, 43, tzinfo=datetime.timezone.utc)],\n",
       " ['broot do twitter',\n",
       "  'Twitter for iPhone',\n",
       "  'Twitter for iPhone',\n",
       "  'Twitter for iPhone',\n",
       "  'broot do twitter',\n",
       "  'IFTTT',\n",
       "  'Twitter for iPhone',\n",
       "  'Twitter for Android',\n",
       "  'Twitter for iPhone',\n",
       "  'Twitter for Android'],\n",
       " [[], [], [], [], [], [], [], [], [], []]]"
      ]
     },
     "execution_count": 9,
     "metadata": {},
     "output_type": "execute_result"
    }
   ],
   "source": [
    "tweets_search"
   ]
  },
  {
   "cell_type": "code",
   "execution_count": 10,
   "id": "0d9b74e1",
   "metadata": {},
   "outputs": [],
   "source": [
    "from thermofeeler.utils import preproc_func"
   ]
  },
  {
   "cell_type": "code",
   "execution_count": 11,
   "id": "806d5039",
   "metadata": {},
   "outputs": [],
   "source": [
    "preproc_tweets=[]\n",
    "for tweet in tweets_search[0]:\n",
    "    preproc_tweets.append(preproc_func(tweet))"
   ]
  },
  {
   "cell_type": "code",
   "execution_count": 12,
   "id": "fb6dcd25",
   "metadata": {},
   "outputs": [
    {
     "data": {
      "text/plain": [
       "['rt',\n",
       " 'trabalho',\n",
       " 'iphone',\n",
       " 'tenho',\n",
       " 'xr',\n",
       " 'volta',\n",
       " 'meia',\n",
       " 'dá',\n",
       " 'bug',\n",
       " 'mente']"
      ]
     },
     "execution_count": 12,
     "metadata": {},
     "output_type": "execute_result"
    }
   ],
   "source": [
    "preproc_tweets[0]"
   ]
  },
  {
   "cell_type": "code",
   "execution_count": 13,
   "id": "a4f1cbb3",
   "metadata": {},
   "outputs": [],
   "source": [
    "#for tweet in tweepy.Paginator(client.search_recent_tweets, query=query,\n",
    "#                              tweet_fields=['context_annotations', 'created_at'], max_results=100).flatten(limit=1000):\n",
    "#    print(tweet)"
   ]
  },
  {
   "cell_type": "code",
   "execution_count": 14,
   "id": "f130767c",
   "metadata": {},
   "outputs": [
    {
     "data": {
      "application/vnd.jupyter.widget-view+json": {
       "model_id": "04eb96ce49604bd091f643f3fe538d46",
       "version_major": 2,
       "version_minor": 0
      },
      "text/plain": [
       "Downloading https://raw.githubusercontent.com/stanfordnlp/stanza-resources/main/resources_1.3.0.json:   0%|   …"
      ]
     },
     "metadata": {},
     "output_type": "display_data"
    },
    {
     "name": "stderr",
     "output_type": "stream",
     "text": [
      "2022-03-24 10:08:42 INFO: Downloading default packages for language: pt (Portuguese)...\n",
      "2022-03-24 10:08:43 INFO: File exists: /Users/laurannefossat/stanza_resources/pt/default.zip.\n",
      "2022-03-24 10:08:45 INFO: Finished downloading models and saved to /Users/laurannefossat/stanza_resources.\n",
      "2022-03-24 10:08:45 INFO: Loading these models for language: pt (Portuguese):\n",
      "=======================\n",
      "| Processor | Package |\n",
      "-----------------------\n",
      "| tokenize  | bosque  |\n",
      "| mwt       | bosque  |\n",
      "| pos       | bosque  |\n",
      "| lemma     | bosque  |\n",
      "| depparse  | bosque  |\n",
      "=======================\n",
      "\n",
      "2022-03-24 10:08:45 INFO: Use device: cpu\n",
      "2022-03-24 10:08:45 INFO: Loading: tokenize\n",
      "2022-03-24 10:08:45 INFO: Loading: mwt\n",
      "2022-03-24 10:08:45 INFO: Loading: pos\n",
      "2022-03-24 10:08:45 INFO: Loading: lemma\n",
      "2022-03-24 10:08:45 INFO: Loading: depparse\n",
      "2022-03-24 10:08:45 INFO: Done loading processors!\n"
     ]
    }
   ],
   "source": [
    "import stanza\n",
    "stanza.download('pt')\n",
    "nlp = stanza.Pipeline('pt')\n",
    "def lemmatization(tweet):\n",
    "    lemma = \"\"\n",
    "    for sent in nlp(tweet).sentences:\n",
    "        for word in sent.words:\n",
    "            lemma += word.lemma + \" \"\n",
    "    return lemma"
   ]
  },
  {
   "cell_type": "code",
   "execution_count": 15,
   "id": "69379c6e",
   "metadata": {},
   "outputs": [
    {
     "name": "stderr",
     "output_type": "stream",
     "text": [
      "/Users/laurannefossat/.pyenv/versions/3.8.12/envs/thermofeeler/lib/python3.8/site-packages/stanza/models/common/beam.py:86: UserWarning: __floordiv__ is deprecated, and its behavior will change in a future version of pytorch. It currently rounds toward 0 (like the 'trunc' function NOT 'floor'). This results in incorrect rounding for negative values. To keep the current behavior, use torch.div(a, b, rounding_mode='trunc'), or for actual floor division, use torch.div(a, b, rounding_mode='floor').\n",
      "  prevK = bestScoresId // numWords\n"
     ]
    },
    {
     "name": "stdout",
     "output_type": "stream",
     "text": [
      "CPU times: user 2.3 s, sys: 84.5 ms, total: 2.38 s\n",
      "Wall time: 2.39 s\n"
     ]
    }
   ],
   "source": [
    "%%time\n",
    "preproc_tweets=[]\n",
    "for tweet in tweets_search[0]:\n",
    "    preproc_tweets.append(lemmatization(tweet))"
   ]
  },
  {
   "cell_type": "code",
   "execution_count": 16,
   "id": "511f9889",
   "metadata": {},
   "outputs": [
    {
     "data": {
      "text/plain": [
       "['RT @will _moutir : eu trabalho com um IPhone 7 e ter um xr , volta e meia eu dar um bug em o mente 😂😂😂 ',\n",
       " 'eu trabalho com um IPhone 7 e ter um xr , volta e meia eu dar um bug em o mente 😂😂😂 ',\n",
       " 'dNevraeater chorar com meu iphone 7 ',\n",
       " 'RT @juliasouzaabr : ver IPhone 7 Plus ✨ ( ser meu xodó , estar em perfeito estado ! ) mais informação só eu chamar em o pvd✨ quem poder dar RT ! 🦋🙏🏿 ... ',\n",
       " 'RT @alertanatal : por volta de o 19h30 , em o Rua João Câmara , o guarnição visualizar um indivíduo em atitude suspeito . em o abordagem ser localiz ... ',\n",
       " 'por volta de o 19h30 , em o Rua João Câmara , o guarnição visualizar um indivíduo em atitude suspeito . em o abordagem ser localizar em seu posse um iphone 7 plus vermelho ( IMEI 355356084728721 ) envolter completamente em papel alumínio . segundo o envolver , o ap… https://t.co/nsUKvocalT https://t.co/a1YHD8dj3P ',\n",
       " 'sobrevivente de o iphone 7 plus , o apple music estar a funcionar direito ? ',\n",
       " '@SkywalkerKyle @vaidesmaiar IPhone 7 , 7 Plus 8 , 8 Plus se 2020 , que ainda ir receber o novo iOS roda perfeito , agora compra um samsung que depois de algum mês o celular já estar dar aquele leg . ninguém merecer ',\n",
       " 'ser muito bonito pra usar um iphone 7 , mereçar o 12 em o pequeno ',\n",
       " 'RT @ Fetoffoletto : gente , ter vender um iphone 7 Plus , 128gb.. carregador ( estar funcionar ) , caixa , nf , dois capinha .. ele er inteiro .. qu… ']"
      ]
     },
     "execution_count": 16,
     "metadata": {},
     "output_type": "execute_result"
    }
   ],
   "source": [
    "preproc_tweets"
   ]
  }
 ],
 "metadata": {
  "kernelspec": {
   "display_name": "Python 3 (ipykernel)",
   "language": "python",
   "name": "python3"
  },
  "language_info": {
   "codemirror_mode": {
    "name": "ipython",
    "version": 3
   },
   "file_extension": ".py",
   "mimetype": "text/x-python",
   "name": "python",
   "nbconvert_exporter": "python",
   "pygments_lexer": "ipython3",
   "version": "3.8.12"
  },
  "toc": {
   "base_numbering": 1,
   "nav_menu": {},
   "number_sections": true,
   "sideBar": true,
   "skip_h1_title": false,
   "title_cell": "Table of Contents",
   "title_sidebar": "Contents",
   "toc_cell": false,
   "toc_position": {},
   "toc_section_display": true,
   "toc_window_display": false
  }
 },
 "nbformat": 4,
 "nbformat_minor": 5
}
