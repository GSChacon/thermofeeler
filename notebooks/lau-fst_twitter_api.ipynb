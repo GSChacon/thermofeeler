{
 "cells": [
  {
   "cell_type": "code",
   "execution_count": 1,
   "id": "91dddfa0",
   "metadata": {},
   "outputs": [],
   "source": [
    "import os\n",
    "import tweepy\n",
    "import pandas as pd\n",
    "from dotenv import load_dotenv, find_dotenv\n",
    "\n",
    "env_path = find_dotenv()\n",
    "load_dotenv(env_path)\n",
    "\n",
    "api_key = os.getenv('API_KEY')\n",
    "api_key_secret = os.getenv('API_KEY_SECRET')\n",
    "bearer_token = os.getenv('BEARER_TOKEN')"
   ]
  },
  {
   "cell_type": "code",
   "execution_count": 2,
   "id": "6a7367f5",
   "metadata": {},
   "outputs": [],
   "source": [
    "client = tweepy.Client(bearer_token=bearer_token)\n",
    "auth = tweepy.OAuthHandler(api_key, api_key_secret)\n",
    "api = tweepy.API(auth)"
   ]
  },
  {
   "cell_type": "code",
   "execution_count": 3,
   "id": "6974d960",
   "metadata": {},
   "outputs": [],
   "source": [
    "query = '(feliz OR felizmente) lang:pt'\n",
    "#['word', '\"words\"', 'word1 OR word2, '@mention', '#hashtag', 'to:account', 'since:year-month-day']\n",
    "# queries can be 512 characters long"
   ]
  },
  {
   "cell_type": "code",
   "execution_count": 4,
   "id": "bb8a2944",
   "metadata": {},
   "outputs": [],
   "source": [
    "tweets = client.search_recent_tweets(query=query, \n",
    "                                     tweet_fields=['author_id','created_at','source','entities'],\n",
    "                                     max_results=10)"
   ]
  },
  {
   "cell_type": "code",
   "execution_count": 5,
   "id": "460c376c",
   "metadata": {
    "scrolled": true
   },
   "outputs": [
    {
     "name": "stdout",
     "output_type": "stream",
     "text": [
      "RT @VascodaGama: Hoje é dia de comemorar o aniversário do nosso zagueiro! 🥳\n",
      "\n",
      "Feliz Cumple, Quintero! 🎉🎂\n",
      "\n",
      "📸: Rafael Ribeiro | #VascoDaGama h…\n",
      "Tweet id : 1506729339966181384\n",
      "Author id : 4602622767\n",
      "Date : 2022-03-23 20:27:22+00:00\n",
      "Source : Twitter for Android\n",
      "Hashtags : ['VascoDaGama']\n",
      "------\n",
      "@LariiPomper @delgallo_pedro Carai!! Isso que aconteceu com você não foi nem \"falta de coversa\", foi falta de caráter mesmo. Lamento por tudo isso e espero que você tenha conseguido superar, seguir feliz e que esteja com alguém que exalte todos os dias suas qualidades e faça você se sentir segura 🙂 Força!!\n",
      "Tweet id : 1506729339483738114\n",
      "Author id : 1498397274841485316\n",
      "Date : 2022-03-23 20:27:22+00:00\n",
      "Source : Twitter for Android\n",
      "------\n",
      "Qualquer coisa que te faz feliz vai inevitavelmente acabar, e quanto mais feliz você estiver, mais vai doer quando acabar…\n",
      "Tweet id : 1506729337160355844\n",
      "Author id : 1411819215795986439\n",
      "Date : 2022-03-23 20:27:22+00:00\n",
      "Source : Twitter for iPhone\n",
      "------\n",
      "O meu corpinho só precisa de tatuagem nova para eu ser feliz.\n",
      "Tweet id : 1506729336552013826\n",
      "Author id : 1374122332399271945\n",
      "Date : 2022-03-23 20:27:22+00:00\n",
      "Source : Twitter for iPhone\n",
      "------\n",
      "RT @matheusl75: Se algum dia alguém falar mal do Beco da lama… feliz essa pessoa n é, pqp melhor rolê de Natal, onde q vc encontra 4 rodas…\n",
      "Tweet id : 1506729334890975243\n",
      "Author id : 65424784\n",
      "Date : 2022-03-23 20:27:21+00:00\n",
      "Source : Twitter for Android\n",
      "------\n",
      "RT @_Kailanezinha: eu levo muito a sério o fato de quem não me da feliz aniversário\n",
      "Tweet id : 1506729332009484290\n",
      "Author id : 1316796604284837888\n",
      "Date : 2022-03-23 20:27:21+00:00\n",
      "Source : Twitter for iPhone\n",
      "------\n",
      "@Silva_DG Feliz por isso, amo meus Zoeirões da Galáxia ❤️, estou sentindo falta do DG líder novamente, torcer por essa liderança essa semana 🎲😉\n",
      "Tweet id : 1506729330843570178\n",
      "Author id : 1410978856002109442\n",
      "Date : 2022-03-23 20:27:20+00:00\n",
      "Source : Twitter for Android\n",
      "------\n",
      "RT @Terrord4las1: Vigia, tem gente do seu lado que odeia te ver feliz… bagulho louco..!\n",
      "Tweet id : 1506729326213054471\n",
      "Author id : 1036101168026607616\n",
      "Date : 2022-03-23 20:27:19+00:00\n",
      "Source : Twitter for Android\n",
      "------\n",
      "Um feliz aniversário especial do @goldorayo! Tmj fera, sou seu fã.\n",
      "\n",
      "Aprendi a mentir com você. https://t.co/ANFBP4YTjN\n",
      "Tweet id : 1506729324770115589\n",
      "Author id : 1247574087951679488\n",
      "Date : 2022-03-23 20:27:19+00:00\n",
      "Source : Twitter for Android\n",
      "------\n",
      "RT @btsgogh: feliz aniversário mina eu tenho muito orgulho de você por tudo, obrigado por fazer parte do twice pinguim nós onces te amamos…\n",
      "Tweet id : 1506729324489097226\n",
      "Author id : 1451788442304647170\n",
      "Date : 2022-03-23 20:27:19+00:00\n",
      "Source : Twitter for iPhone\n",
      "------\n"
     ]
    }
   ],
   "source": [
    "for tweet in tweets.data:\n",
    "    print(tweet.text)\n",
    "    print(f\"Tweet id : {tweet.id}\")\n",
    "    print(f\"Author id : {tweet.author_id}\")\n",
    "    print(f\"Date : {tweet.created_at}\")\n",
    "    print(f\"Source : {tweet.source}\")\n",
    "    if tweet.entities != None :\n",
    "        if 'hashtags' in tweet.entities.keys():\n",
    "            for i in range(len(tweet.entities['hashtags'])):\n",
    "                hashtags = []\n",
    "                hashtags.append(tweet.entities['hashtags'][i]['tag'])\n",
    "            print(f\"Hashtags : {hashtags}\")\n",
    "    print('------')"
   ]
  },
  {
   "cell_type": "code",
   "execution_count": 6,
   "id": "dab3bbd1",
   "metadata": {},
   "outputs": [],
   "source": [
    "def hashtag_list(tweet):\n",
    "    hashtags = []\n",
    "    if tweet.entities != None :\n",
    "        if 'hashtags' in tweet.entities.keys():\n",
    "            for i in range(len(tweet.entities['hashtags'])):\n",
    "                hashtags.append(tweet.entities['hashtags'][i]['tag'])\n",
    "    return hashtags"
   ]
  },
  {
   "cell_type": "code",
   "execution_count": 7,
   "id": "f8bec14f",
   "metadata": {},
   "outputs": [],
   "source": [
    "tweets_search = [[],[],[],[],[]]\n",
    "for tweet in tweets.data :\n",
    "    tweets_search[0].append(tweet.text)\n",
    "    tweets_search[1].append(tweet.author_id)\n",
    "    tweets_search[2].append(tweet.created_at)\n",
    "    tweets_search[3].append(tweet.source)\n",
    "    tweets_search[4].append(hashtag_list(tweet))"
   ]
  },
  {
   "cell_type": "code",
   "execution_count": 8,
   "id": "3302ea9f",
   "metadata": {},
   "outputs": [
    {
     "data": {
      "text/plain": [
       "[['RT @VascodaGama: Hoje é dia de comemorar o aniversário do nosso zagueiro! 🥳\\n\\nFeliz Cumple, Quintero! 🎉🎂\\n\\n📸: Rafael Ribeiro | #VascoDaGama h…',\n",
       "  '@LariiPomper @delgallo_pedro Carai!! Isso que aconteceu com você não foi nem \"falta de coversa\", foi falta de caráter mesmo. Lamento por tudo isso e espero que você tenha conseguido superar, seguir feliz e que esteja com alguém que exalte todos os dias suas qualidades e faça você se sentir segura 🙂 Força!!',\n",
       "  'Qualquer coisa que te faz feliz vai inevitavelmente acabar, e quanto mais feliz você estiver, mais vai doer quando acabar…',\n",
       "  'O meu corpinho só precisa de tatuagem nova para eu ser feliz.',\n",
       "  'RT @matheusl75: Se algum dia alguém falar mal do Beco da lama… feliz essa pessoa n é, pqp melhor rolê de Natal, onde q vc encontra 4 rodas…',\n",
       "  'RT @_Kailanezinha: eu levo muito a sério o fato de quem não me da feliz aniversário',\n",
       "  '@Silva_DG Feliz por isso, amo meus Zoeirões da Galáxia ❤️, estou sentindo falta do DG líder novamente, torcer por essa liderança essa semana 🎲😉',\n",
       "  'RT @Terrord4las1: Vigia, tem gente do seu lado que odeia te ver feliz… bagulho louco..!',\n",
       "  'Um feliz aniversário especial do @goldorayo! Tmj fera, sou seu fã.\\n\\nAprendi a mentir com você. https://t.co/ANFBP4YTjN',\n",
       "  'RT @btsgogh: feliz aniversário mina eu tenho muito orgulho de você por tudo, obrigado por fazer parte do twice pinguim nós onces te amamos…'],\n",
       " [4602622767,\n",
       "  1498397274841485316,\n",
       "  1411819215795986439,\n",
       "  1374122332399271945,\n",
       "  65424784,\n",
       "  1316796604284837888,\n",
       "  1410978856002109442,\n",
       "  1036101168026607616,\n",
       "  1247574087951679488,\n",
       "  1451788442304647170],\n",
       " [datetime.datetime(2022, 3, 23, 20, 27, 22, tzinfo=datetime.timezone.utc),\n",
       "  datetime.datetime(2022, 3, 23, 20, 27, 22, tzinfo=datetime.timezone.utc),\n",
       "  datetime.datetime(2022, 3, 23, 20, 27, 22, tzinfo=datetime.timezone.utc),\n",
       "  datetime.datetime(2022, 3, 23, 20, 27, 22, tzinfo=datetime.timezone.utc),\n",
       "  datetime.datetime(2022, 3, 23, 20, 27, 21, tzinfo=datetime.timezone.utc),\n",
       "  datetime.datetime(2022, 3, 23, 20, 27, 21, tzinfo=datetime.timezone.utc),\n",
       "  datetime.datetime(2022, 3, 23, 20, 27, 20, tzinfo=datetime.timezone.utc),\n",
       "  datetime.datetime(2022, 3, 23, 20, 27, 19, tzinfo=datetime.timezone.utc),\n",
       "  datetime.datetime(2022, 3, 23, 20, 27, 19, tzinfo=datetime.timezone.utc),\n",
       "  datetime.datetime(2022, 3, 23, 20, 27, 19, tzinfo=datetime.timezone.utc)],\n",
       " ['Twitter for Android',\n",
       "  'Twitter for Android',\n",
       "  'Twitter for iPhone',\n",
       "  'Twitter for iPhone',\n",
       "  'Twitter for Android',\n",
       "  'Twitter for iPhone',\n",
       "  'Twitter for Android',\n",
       "  'Twitter for Android',\n",
       "  'Twitter for Android',\n",
       "  'Twitter for iPhone'],\n",
       " [['VascoDaGama'], [], [], [], [], [], [], [], [], []]]"
      ]
     },
     "execution_count": 8,
     "metadata": {},
     "output_type": "execute_result"
    }
   ],
   "source": [
    "tweets_search"
   ]
  },
  {
   "cell_type": "code",
   "execution_count": 10,
   "id": "6a898b18",
   "metadata": {},
   "outputs": [],
   "source": [
    "from nltk.tokenize import word_tokenize\n",
    "import re\n",
    "\n",
    "# define a preproc function\n",
    "def preproc_func(tweet):\n",
    "    '''Does the preprocessing of the tweets'''\n",
    "\n",
    "    # stopwords: remove articles, prepositions, conjunctions etc\n",
    "    stopwords=['rt','a','ah','g','h', 'cá','te','tu','tua','tuas','tém','um','uma','você','vocês','vos',\n",
    "               'à','às','ao','aos','aquela','aquelas','aquele','aqueles','aquilo','as','até','com',\n",
    "               'como','da','das','de','dela','delas','dele','deles','depois','do','dos','e','ela','elas',\n",
    "               'ele','eles','em','entre','essa','essas','esse','esses','esta','eu','foi','fomos','for',\n",
    "               'fora','foram','forem','formos','fosse','fossem','fui','fôramos','fôssemos', 'isso','isto',\n",
    "               'já','lhe','lhes','me','mesmo','meu','meus','minha','minhas','muito','na','nas','no','nos',\n",
    "               'nossa','nossas','nosso','nossos','num','numa','nós','oh','o','os','para','pela','pelas','pelo',\n",
    "               'pelos','por','qual','quando','que','quem','se','seja','sejam','sejamos','sem','serei','seremos',\n",
    "               'seria','seriam','será','serão','seríamos','seu','seus','somos','sou','sua','suas','são',\n",
    "               'só','também','ah','q','g','oh','eh','vc','tbm','também','tambem','voceh','você','voce']\n",
    "\n",
    "    tweet = tweet.lower() # lowercase\n",
    "\n",
    "    tweet=re.sub('https?://[A-Za-z0-9./]+','',tweet) # remove links que começam com https?://\n",
    "    tweet=re.sub('https://[A-Za-z0-9./]+','',tweet) # remove links que começam com https://\n",
    "    tweet=re.sub('http://[A-Za-z0-9./]+','',tweet) # remove links que começam com http://\n",
    "\n",
    "    tweet = re.sub(r'@[A-Za-z0-9_]+','',tweet) # remove @mentions\n",
    "    tweet = re.sub(r'#','',tweet) # remove #hashtags\n",
    "\n",
    "    tweet = re.sub(r'[^\\w\\s]','',tweet) # remove remove punctuation\n",
    "    tweet = re.sub(r'[0-9]','',tweet) # remove numbers\n",
    "\n",
    "    word_tokens=word_tokenize(tweet) # tokenize\n",
    "\n",
    "    filtered_tweet = [w for w in word_tokens if not w in stopwords] # remove stopwords\n",
    "\n",
    "    return filtered_tweet"
   ]
  },
  {
   "cell_type": "code",
   "execution_count": 11,
   "id": "806d5039",
   "metadata": {},
   "outputs": [],
   "source": [
    "preproc_tweets=[]\n",
    "for tweet in tweets_search[0]:\n",
    "    preproc_tweets.append(preproc_func(tweet))"
   ]
  },
  {
   "cell_type": "code",
   "execution_count": 13,
   "id": "fb6dcd25",
   "metadata": {},
   "outputs": [
    {
     "data": {
      "text/plain": [
       "['saudade',\n",
       " 'é',\n",
       " 'enorme',\n",
       " 'rebanho',\n",
       " 'mas',\n",
       " 'tempo',\n",
       " 'feliz',\n",
       " 'orgulhosa',\n",
       " 'ver',\n",
       " 'marilinha',\n",
       " 'jamais',\n",
       " 'esquecida']"
      ]
     },
     "execution_count": 13,
     "metadata": {},
     "output_type": "execute_result"
    }
   ],
   "source": [
    "preproc_tweets[0]"
   ]
  },
  {
   "cell_type": "code",
   "execution_count": null,
   "id": "a4f1cbb3",
   "metadata": {},
   "outputs": [],
   "source": [
    "#for tweet in tweepy.Paginator(client.search_recent_tweets, query=query,\n",
    "#                              tweet_fields=['context_annotations', 'created_at'], max_results=100).flatten(limit=1000):\n",
    "#    print(tweet)"
   ]
  },
  {
   "cell_type": "code",
   "execution_count": 11,
   "id": "f130767c",
   "metadata": {},
   "outputs": [
    {
     "data": {
      "application/vnd.jupyter.widget-view+json": {
       "model_id": "785b2616f8ba4187848cb77d6aaea846",
       "version_major": 2,
       "version_minor": 0
      },
      "text/plain": [
       "Downloading https://raw.githubusercontent.com/stanfordnlp/stanza-resources/main/resources_1.3.0.json:   0%|   …"
      ]
     },
     "metadata": {},
     "output_type": "display_data"
    },
    {
     "name": "stderr",
     "output_type": "stream",
     "text": [
      "2022-03-23 17:28:32 INFO: Downloading default packages for language: pt (Portuguese)...\n",
      "2022-03-23 17:28:33 INFO: File exists: /Users/laurannefossat/stanza_resources/pt/default.zip.\n",
      "2022-03-23 17:28:34 INFO: Finished downloading models and saved to /Users/laurannefossat/stanza_resources.\n",
      "2022-03-23 17:28:34 INFO: Loading these models for language: pt (Portuguese):\n",
      "=======================\n",
      "| Processor | Package |\n",
      "-----------------------\n",
      "| tokenize  | bosque  |\n",
      "| mwt       | bosque  |\n",
      "| pos       | bosque  |\n",
      "| lemma     | bosque  |\n",
      "| depparse  | bosque  |\n",
      "=======================\n",
      "\n",
      "2022-03-23 17:28:34 INFO: Use device: cpu\n",
      "2022-03-23 17:28:34 INFO: Loading: tokenize\n",
      "2022-03-23 17:28:34 INFO: Loading: mwt\n",
      "2022-03-23 17:28:34 INFO: Loading: pos\n",
      "2022-03-23 17:28:34 INFO: Loading: lemma\n",
      "2022-03-23 17:28:34 INFO: Loading: depparse\n",
      "2022-03-23 17:28:34 INFO: Done loading processors!\n"
     ]
    }
   ],
   "source": [
    "import stanza\n",
    "stanza.download('pt')\n",
    "nlp = stanza.Pipeline('pt')\n",
    "def lemmatization(tweet):\n",
    "    lemma = \"\"\n",
    "    for sent in nlp(tweet).sentences:\n",
    "        for word in sent.words:\n",
    "            lemma += word.lemma + \" \"\n",
    "    return lemma"
   ]
  },
  {
   "cell_type": "code",
   "execution_count": 13,
   "id": "69379c6e",
   "metadata": {},
   "outputs": [
    {
     "name": "stdout",
     "output_type": "stream",
     "text": [
      "CPU times: user 1.39 s, sys: 27.8 ms, total: 1.42 s\n",
      "Wall time: 1.41 s\n"
     ]
    }
   ],
   "source": [
    "%%time\n",
    "preproc_tweets=[]\n",
    "for tweet in tweets_search[0]:\n",
    "    preproc_tweets.append(lemmatization(tweet))"
   ]
  },
  {
   "cell_type": "code",
   "execution_count": 14,
   "id": "511f9889",
   "metadata": {},
   "outputs": [
    {
     "data": {
      "text/plain": [
       "['RT @ VascodaGama : hoje ser dia de comemorar o aniversário de o nosso zagueiro ! 🥳 feliz Cumple , Quintero ! 🎉 🎂 ser : Rafael Ribeiro | # VascoDaGama h ',\n",
       " '@lariipomper @ delgallo _pedro Carai ! ! isso que acontecer com você não ser nem « falta de coversa « , ser falta de caráter mesmo . lamentar por tudo isso e esperar que você ter conseguir superar , seguir feliz e que estar com alguém que exaltar todo o dia seu qualidade e fazer você se sentir seguro ser Força ! ! ',\n",
       " 'qualquer coisa que tu fazer feliz ir inevitavelmente acabar , e quanto mais feliz você estar , mais ir doer quando acabar ... ',\n",
       " 'o meu corpinho só precisar de tatuagem novo para eu ser feliz . ',\n",
       " 'RT @matheusl75 : se algum dia alguém falar mal de o Beco de o lama ... feliz esse pessoa n ser , pqp bom rolê de Natal , onde q vc encontrar 4 roda ... ',\n",
       " 'RT @ _Kailanezinha : eu levar muito a sério o fato de quem não eu de o feliz aniversário ',\n",
       " '@silva _DG feliz por isso , amar meu Zoeirões de o Galáxia ❤️ , estar sentir falta de o DG líder novamente , torcer por esse liderança esse semana 🎲😉 ',\n",
       " 'RT @ Terrord4las1 : Vigia , ter gente de o seu lado que odeiar tu ver feliz ... bagulho louco .. ! ',\n",
       " 'um feliz aniversário especial de o @goldorayo ! Tmj fera , ser seu fã. aprender a mentir com você . https://t.co/ANFBP4YTjN ',\n",
       " 'RT @btsgogh : feliz aniversário mino eu ter muito orgulho de você por tudo , obrigar por fazer parte de o twice pinguim nós oncer tu amar ... ']"
      ]
     },
     "execution_count": 14,
     "metadata": {},
     "output_type": "execute_result"
    }
   ],
   "source": [
    "preproc_tweets"
   ]
  }
 ],
 "metadata": {
  "kernelspec": {
   "display_name": "Python 3 (ipykernel)",
   "language": "python",
   "name": "python3"
  },
  "language_info": {
   "codemirror_mode": {
    "name": "ipython",
    "version": 3
   },
   "file_extension": ".py",
   "mimetype": "text/x-python",
   "name": "python",
   "nbconvert_exporter": "python",
   "pygments_lexer": "ipython3",
   "version": "3.8.12"
  },
  "toc": {
   "base_numbering": 1,
   "nav_menu": {},
   "number_sections": true,
   "sideBar": true,
   "skip_h1_title": false,
   "title_cell": "Table of Contents",
   "title_sidebar": "Contents",
   "toc_cell": false,
   "toc_position": {},
   "toc_section_display": true,
   "toc_window_display": false
  }
 },
 "nbformat": 4,
 "nbformat_minor": 5
}
