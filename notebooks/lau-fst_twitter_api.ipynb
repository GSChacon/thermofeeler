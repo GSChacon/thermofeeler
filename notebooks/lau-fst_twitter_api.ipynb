{
 "cells": [
  {
   "cell_type": "code",
   "execution_count": 1,
   "id": "91dddfa0",
   "metadata": {},
   "outputs": [],
   "source": [
    "import os\n",
    "import tweepy\n",
    "import pandas as pd\n",
    "from dotenv import load_dotenv, find_dotenv\n",
    "\n",
    "env_path = find_dotenv()\n",
    "load_dotenv(env_path)\n",
    "\n",
    "api_key = os.getenv('API_KEY')\n",
    "api_key_secret = os.getenv('API_KEY_SECRET')\n",
    "bearer_token = os.getenv('BEARER_TOKEN')"
   ]
  },
  {
   "cell_type": "code",
   "execution_count": 2,
   "id": "6a7367f5",
   "metadata": {},
   "outputs": [],
   "source": [
    "client = tweepy.Client(bearer_token=bearer_token)\n",
    "auth = tweepy.OAuthHandler(api_key, api_key_secret)\n",
    "api = tweepy.API(auth)"
   ]
  },
  {
   "cell_type": "code",
   "execution_count": 3,
   "id": "6974d960",
   "metadata": {},
   "outputs": [],
   "source": [
    "query = '(feliz OR felizmente) lang:pt -aniversário'\n",
    "#['word', '\"words\"', 'word1 OR word2, '@mention', '#hashtag', 'to:account', 'since:year-month-day']\n",
    "# queries can be 512 characters long"
   ]
  },
  {
   "cell_type": "code",
   "execution_count": 4,
   "id": "bb8a2944",
   "metadata": {},
   "outputs": [],
   "source": [
    "tweets = client.search_recent_tweets(query=query, tweet_fields=['context_annotations', 'created_at'], max_results=10)"
   ]
  },
  {
   "cell_type": "code",
   "execution_count": 5,
   "id": "460c376c",
   "metadata": {},
   "outputs": [
    {
     "name": "stdout",
     "output_type": "stream",
     "text": [
      "@__bkzinho Óia! Feliz em saber disso! ❤\n",
      "------\n",
      "RT @Fanyramosof: SEU NONÔ SEMPRE MUITO FELIZ. https://t.co/rUuk7biUHI\n",
      "------\n",
      "RT @iaraNaika: Comprei isso aqui pra Isabella agr ela está se intitulando a pessoa mais feliz do mundo https://t.co/RSFaXQP51l\n",
      "------\n",
      "falaram a mesma coisa do homem aranha do tom quando queriam encher o saco porque homem com 30 anos na cara e memória efetiva não pode ver ninguém feliz https://t.co/q0us305N3H\n",
      "------\n",
      "o casal feliz nas minhas mentions ♥️♥️\n",
      "------\n",
      "Sexta feira logo ali ... 🇵🇰 vem ser feliz no ptn vidas\n",
      "------\n",
      "tô muito feliz com uma coisa\n",
      "------\n",
      "EU VO CHORAAR MDS COMO SOU FELIZ https://t.co/6vJSzetOxU\n",
      "------\n",
      "fico feliz dms qnd entendo uma matéria q tenho dificuldade\n",
      "------\n",
      "@KayqueCarlos4 Sim, (in)felizmente.\n",
      "------\n"
     ]
    }
   ],
   "source": [
    "for tweet in tweets.data:\n",
    "    print(tweet.text)\n",
    "    print('------')"
   ]
  },
  {
   "cell_type": "code",
   "execution_count": 6,
   "id": "f8bec14f",
   "metadata": {},
   "outputs": [],
   "source": [
    "tweets_search = []\n",
    "for tweet in tweets.data :\n",
    "    tweets_search.append(tweet.text)"
   ]
  },
  {
   "cell_type": "code",
   "execution_count": 7,
   "id": "2d373936",
   "metadata": {},
   "outputs": [],
   "source": [
    "tweets_search = pd.Series(tweets_search)"
   ]
  },
  {
   "cell_type": "code",
   "execution_count": 8,
   "id": "945487f3",
   "metadata": {},
   "outputs": [
    {
     "data": {
      "text/plain": [
       "'RT @Fanyramosof: SEU NONÔ SEMPRE MUITO FELIZ. https://t.co/rUuk7biUHI'"
      ]
     },
     "execution_count": 8,
     "metadata": {},
     "output_type": "execute_result"
    }
   ],
   "source": [
    "X_pred = pd.DataFrame(tweets_search, columns=['tweet_text'])\n",
    "X_pred['tweet_text'][1]"
   ]
  },
  {
   "cell_type": "code",
   "execution_count": 9,
   "id": "a4f1cbb3",
   "metadata": {},
   "outputs": [],
   "source": [
    "#for tweet in tweepy.Paginator(client.search_recent_tweets, query=query,\n",
    "#                              tweet_fields=['context_annotations', 'created_at'], max_results=100).flatten(limit=1000):\n",
    "#    print(tweet)"
   ]
  }
 ],
 "metadata": {
  "kernelspec": {
   "display_name": "Python 3 (ipykernel)",
   "language": "python",
   "name": "python3"
  },
  "language_info": {
   "codemirror_mode": {
    "name": "ipython",
    "version": 3
   },
   "file_extension": ".py",
   "mimetype": "text/x-python",
   "name": "python",
   "nbconvert_exporter": "python",
   "pygments_lexer": "ipython3",
   "version": "3.8.12"
  },
  "toc": {
   "base_numbering": 1,
   "nav_menu": {},
   "number_sections": true,
   "sideBar": true,
   "skip_h1_title": false,
   "title_cell": "Table of Contents",
   "title_sidebar": "Contents",
   "toc_cell": false,
   "toc_position": {},
   "toc_section_display": true,
   "toc_window_display": false
  }
 },
 "nbformat": 4,
 "nbformat_minor": 5
}
