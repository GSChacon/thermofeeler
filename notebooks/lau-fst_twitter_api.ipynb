{
 "cells": [
  {
   "cell_type": "code",
   "execution_count": 1,
   "id": "91dddfa0",
   "metadata": {},
   "outputs": [],
   "source": [
    "import os\n",
    "import tweepy\n",
    "import pandas as pd\n",
    "from dotenv import load_dotenv, find_dotenv\n",
    "\n",
    "env_path = find_dotenv()\n",
    "load_dotenv(env_path)\n",
    "\n",
    "api_key = os.getenv('API_KEY')\n",
    "api_key_secret = os.getenv('API_KEY_SECRET')\n",
    "bearer_token = os.getenv('BEARER_TOKEN')"
   ]
  },
  {
   "cell_type": "code",
   "execution_count": 2,
   "id": "6a7367f5",
   "metadata": {},
   "outputs": [],
   "source": [
    "client = tweepy.Client(bearer_token=bearer_token)\n",
    "auth = tweepy.OAuthHandler(api_key, api_key_secret)\n",
    "api = tweepy.API(auth)"
   ]
  },
  {
   "cell_type": "code",
   "execution_count": 3,
   "id": "6974d960",
   "metadata": {},
   "outputs": [],
   "source": [
    "query = '(feliz OR felizmente) lang:pt'\n",
    "#['word', '\"words\"', 'word1 OR word2, '@mention', '#hashtag', 'to:account', 'since:year-month-day']\n",
    "# queries can be 512 characters long"
   ]
  },
  {
   "cell_type": "code",
   "execution_count": 4,
   "id": "bb8a2944",
   "metadata": {},
   "outputs": [],
   "source": [
    "tweets = client.search_recent_tweets(query=query, \n",
    "                                     tweet_fields=['author_id','created_at','source','entities'],\n",
    "                                     max_results=10)"
   ]
  },
  {
   "cell_type": "code",
   "execution_count": 30,
   "id": "460c376c",
   "metadata": {
    "scrolled": false
   },
   "outputs": [
    {
     "name": "stdout",
     "output_type": "stream",
     "text": [
      "RT @futtmais: Isso aqui é de deixar qualquer um feliz. https://t.co/DLJhRUhXZw\n",
      "Tweet id : 1506334454649917452\n",
      "Author id : 64054151\n",
      "Date : 2022-03-22 18:18:14+00:00\n",
      "Source : Twitter for Android\n",
      "------\n",
      "https://t.co/CZedUmDPOl Vc msma pde pergutar a várias pessoas cmo se sntem e a q atríbuem isso,Certamente 90% citarão círcunstâncias extrnas,cmo,\"sou feliz pq meu cônjuge é maravilhoso\";\"pq tnho sorte\",ou\"sou infeliz pq me casei cm a pessoa errada pq a vida foi mto injusta comigo\n",
      "Tweet id : 1506334451328077835\n",
      "Author id : 1477241059453378563\n",
      "Date : 2022-03-22 18:18:14+00:00\n",
      "Source : Twitter Web App\n",
      "------\n",
      "@daphneblak Kkkkkk que Deus te abençoe fico feliz da galera tá usando seu código\n",
      "Tweet id : 1506334448035450880\n",
      "Author id : 1476325307053494273\n",
      "Date : 2022-03-22 18:18:13+00:00\n",
      "Source : Twitter for Android\n",
      "------\n",
      "Fico feliz pelos meus amigos quando eles tem alguém ....\n",
      "Pq eu mesma só a declaração\n",
      "Tweet id : 1506334445447651332\n",
      "Author id : 476981341\n",
      "Date : 2022-03-22 18:18:12+00:00\n",
      "Source : Twitter for Android\n",
      "------\n",
      "RT @sexghost1s: pq um funk cheio de putaria me deixa tão feliz?\n",
      "Tweet id : 1506334445326028804\n",
      "Author id : 1424759224089862146\n",
      "Date : 2022-03-22 18:18:12+00:00\n",
      "Source : Twitter for Android\n",
      "------\n",
      "RT @ATEEZUnionBra: ATEEZ TALK |\n",
      "\n",
      "[#SEONGHWA] Yunho-ya 🎂 Feliz aniversário 🎂\n",
      "\n",
      "cr: sandorokis https://t.co/C1P0QB9apK\n",
      "Tweet id : 1506334444948492291\n",
      "Author id : 973234340116287488\n",
      "Date : 2022-03-22 18:18:12+00:00\n",
      "Source : Twitter for iPhone\n",
      "Hashtags : ['SEONGHWA']\n",
      "------\n",
      "RT @sinoahdaiIy: Esse dias tem sido tão especiais! \n",
      "\n",
      "📲| Noah Urrea via Instagram Feed. \n",
      "\n",
      "🇵🇹🇧🇷| “Eu acho que estou mais feliz do que já esti…\n",
      "Tweet id : 1506334442197037064\n",
      "Author id : 1442874777060843529\n",
      "Date : 2022-03-22 18:18:12+00:00\n",
      "Source : Twitter for Android\n",
      "------\n",
      "@LJoga @Sameena1702 muito feliz 😀\n",
      "Tweet id : 1506334441484034048\n",
      "Author id : 1345446296799293443\n",
      "Date : 2022-03-22 18:18:11+00:00\n",
      "Source : Twitter for Android\n",
      "------\n",
      "RT @futtmais: Isso aqui é de deixar qualquer um feliz. https://t.co/DLJhRUhXZw\n",
      "Tweet id : 1506334439143620610\n",
      "Author id : 1255420507\n",
      "Date : 2022-03-22 18:18:11+00:00\n",
      "Source : Twitter for Android\n",
      "------\n",
      "Fiz carinho em uma capivara, tô feliz demaiss\n",
      "Tweet id : 1506334431992287236\n",
      "Author id : 709016778463121408\n",
      "Date : 2022-03-22 18:18:09+00:00\n",
      "Source : Twitter for Android\n",
      "------\n"
     ]
    }
   ],
   "source": [
    "for tweet in tweets.data:\n",
    "    print(tweet.text)\n",
    "    print(f\"Tweet id : {tweet.id}\")\n",
    "    print(f\"Author id : {tweet.author_id}\")\n",
    "    print(f\"Date : {tweet.created_at}\")\n",
    "    print(f\"Source : {tweet.source}\")\n",
    "    if tweet.entities != None :\n",
    "        if 'hashtags' in tweet.entities.keys():\n",
    "            for i in range(len(tweet.entities['hashtags'])):\n",
    "                hashtags = []\n",
    "                hashtags.append(tweet.entities['hashtags'][i]['tag'])\n",
    "            print(f\"Hashtags : {hashtags}\")\n",
    "    print('------')"
   ]
  },
  {
   "cell_type": "code",
   "execution_count": 12,
   "id": "f8bec14f",
   "metadata": {},
   "outputs": [],
   "source": [
    "tweets_search = []\n",
    "for tweet in tweets.data :\n",
    "    tweets_search.append(tweet.text)"
   ]
  },
  {
   "cell_type": "code",
   "execution_count": 13,
   "id": "2d373936",
   "metadata": {},
   "outputs": [],
   "source": [
    "tweets_search = pd.Series(tweets_search)"
   ]
  },
  {
   "cell_type": "code",
   "execution_count": 14,
   "id": "945487f3",
   "metadata": {},
   "outputs": [
    {
     "data": {
      "text/html": [
       "<div>\n",
       "<style scoped>\n",
       "    .dataframe tbody tr th:only-of-type {\n",
       "        vertical-align: middle;\n",
       "    }\n",
       "\n",
       "    .dataframe tbody tr th {\n",
       "        vertical-align: top;\n",
       "    }\n",
       "\n",
       "    .dataframe thead th {\n",
       "        text-align: right;\n",
       "    }\n",
       "</style>\n",
       "<table border=\"1\" class=\"dataframe\">\n",
       "  <thead>\n",
       "    <tr style=\"text-align: right;\">\n",
       "      <th></th>\n",
       "      <th>tweet_text</th>\n",
       "    </tr>\n",
       "  </thead>\n",
       "  <tbody>\n",
       "    <tr>\n",
       "      <th>0</th>\n",
       "      <td>RT @futtmais: Isso aqui é de deixar qualquer u...</td>\n",
       "    </tr>\n",
       "    <tr>\n",
       "      <th>1</th>\n",
       "      <td>https://t.co/CZedUmDPOl Vc msma pde pergutar a...</td>\n",
       "    </tr>\n",
       "    <tr>\n",
       "      <th>2</th>\n",
       "      <td>@daphneblak Kkkkkk que Deus te abençoe fico fe...</td>\n",
       "    </tr>\n",
       "    <tr>\n",
       "      <th>3</th>\n",
       "      <td>Fico feliz pelos meus amigos quando eles tem a...</td>\n",
       "    </tr>\n",
       "    <tr>\n",
       "      <th>4</th>\n",
       "      <td>RT @sexghost1s: pq um funk cheio de putaria me...</td>\n",
       "    </tr>\n",
       "    <tr>\n",
       "      <th>5</th>\n",
       "      <td>RT @ATEEZUnionBra: ATEEZ TALK |\\n\\n[#SEONGHWA]...</td>\n",
       "    </tr>\n",
       "    <tr>\n",
       "      <th>6</th>\n",
       "      <td>RT @sinoahdaiIy: Esse dias tem sido tão especi...</td>\n",
       "    </tr>\n",
       "    <tr>\n",
       "      <th>7</th>\n",
       "      <td>@LJoga @Sameena1702 muito feliz 😀</td>\n",
       "    </tr>\n",
       "    <tr>\n",
       "      <th>8</th>\n",
       "      <td>RT @futtmais: Isso aqui é de deixar qualquer u...</td>\n",
       "    </tr>\n",
       "    <tr>\n",
       "      <th>9</th>\n",
       "      <td>Fiz carinho em uma capivara, tô feliz demaiss</td>\n",
       "    </tr>\n",
       "  </tbody>\n",
       "</table>\n",
       "</div>"
      ],
      "text/plain": [
       "                                          tweet_text\n",
       "0  RT @futtmais: Isso aqui é de deixar qualquer u...\n",
       "1  https://t.co/CZedUmDPOl Vc msma pde pergutar a...\n",
       "2  @daphneblak Kkkkkk que Deus te abençoe fico fe...\n",
       "3  Fico feliz pelos meus amigos quando eles tem a...\n",
       "4  RT @sexghost1s: pq um funk cheio de putaria me...\n",
       "5  RT @ATEEZUnionBra: ATEEZ TALK |\\n\\n[#SEONGHWA]...\n",
       "6  RT @sinoahdaiIy: Esse dias tem sido tão especi...\n",
       "7                  @LJoga @Sameena1702 muito feliz 😀\n",
       "8  RT @futtmais: Isso aqui é de deixar qualquer u...\n",
       "9      Fiz carinho em uma capivara, tô feliz demaiss"
      ]
     },
     "execution_count": 14,
     "metadata": {},
     "output_type": "execute_result"
    }
   ],
   "source": [
    "X_pred = pd.DataFrame(tweets_search, columns=['tweet_text'])\n",
    "X_pred"
   ]
  },
  {
   "cell_type": "code",
   "execution_count": null,
   "id": "a4f1cbb3",
   "metadata": {},
   "outputs": [],
   "source": [
    "#for tweet in tweepy.Paginator(client.search_recent_tweets, query=query,\n",
    "#                              tweet_fields=['context_annotations', 'created_at'], max_results=100).flatten(limit=1000):\n",
    "#    print(tweet)"
   ]
  },
  {
   "cell_type": "code",
   "execution_count": 18,
   "id": "3bf5c830",
   "metadata": {},
   "outputs": [
    {
     "ename": "ModuleNotFoundError",
     "evalue": "No module named 'tensorflow.python.keras.activations'",
     "output_type": "error",
     "traceback": [
      "\u001b[0;31m---------------------------------------------------------------------------\u001b[0m",
      "\u001b[0;31mModuleNotFoundError\u001b[0m                       Traceback (most recent call last)",
      "Input \u001b[0;32mIn [18]\u001b[0m, in \u001b[0;36m<cell line: 1>\u001b[0;34m()\u001b[0m\n\u001b[0;32m----> 1\u001b[0m \u001b[38;5;28;01mfrom\u001b[39;00m \u001b[38;5;21;01mthermofeeler\u001b[39;00m\u001b[38;5;21;01m.\u001b[39;00m\u001b[38;5;21;01mutils\u001b[39;00m \u001b[38;5;28;01mimport\u001b[39;00m preproc_func\n",
      "File \u001b[0;32m~/code/GSChacon/thermofeeler/thermofeeler/utils.py:3\u001b[0m, in \u001b[0;36m<module>\u001b[0;34m\u001b[0m\n\u001b[1;32m      1\u001b[0m \u001b[38;5;28;01mimport\u001b[39;00m \u001b[38;5;21;01mre\u001b[39;00m\n\u001b[0;32m----> 3\u001b[0m \u001b[38;5;28;01mfrom\u001b[39;00m \u001b[38;5;21;01mtensorflow\u001b[39;00m\u001b[38;5;21;01m.\u001b[39;00m\u001b[38;5;21;01mkeras\u001b[39;00m\u001b[38;5;21;01m.\u001b[39;00m\u001b[38;5;21;01mpreprocessing\u001b[39;00m\u001b[38;5;21;01m.\u001b[39;00m\u001b[38;5;21;01msequence\u001b[39;00m \u001b[38;5;28;01mimport\u001b[39;00m pad_sequences\n\u001b[1;32m      4\u001b[0m \u001b[38;5;28;01mfrom\u001b[39;00m \u001b[38;5;21;01mtensorflow\u001b[39;00m\u001b[38;5;21;01m.\u001b[39;00m\u001b[38;5;21;01mkeras\u001b[39;00m \u001b[38;5;28;01mimport\u001b[39;00m models\n\u001b[1;32m      6\u001b[0m \u001b[38;5;28;01mimport\u001b[39;00m \u001b[38;5;21;01mnumpy\u001b[39;00m \u001b[38;5;28;01mas\u001b[39;00m \u001b[38;5;21;01mnp\u001b[39;00m\n",
      "File \u001b[0;32m~/.pyenv/versions/3.8.12/envs/thermofeeler/lib/python3.8/site-packages/tensorflow/keras/__init__.py:14\u001b[0m, in \u001b[0;36m<module>\u001b[0;34m\u001b[0m\n\u001b[1;32m     10\u001b[0m \u001b[38;5;28;01mfrom\u001b[39;00m \u001b[38;5;21;01m__future__\u001b[39;00m \u001b[38;5;28;01mimport\u001b[39;00m print_function \u001b[38;5;28;01mas\u001b[39;00m _print_function\n\u001b[1;32m     12\u001b[0m \u001b[38;5;28;01mimport\u001b[39;00m \u001b[38;5;21;01msys\u001b[39;00m \u001b[38;5;28;01mas\u001b[39;00m \u001b[38;5;21;01m_sys\u001b[39;00m\n\u001b[0;32m---> 14\u001b[0m \u001b[38;5;28;01mfrom\u001b[39;00m \u001b[38;5;21;01m.\u001b[39;00m \u001b[38;5;28;01mimport\u001b[39;00m activations\n\u001b[1;32m     15\u001b[0m \u001b[38;5;28;01mfrom\u001b[39;00m \u001b[38;5;21;01m.\u001b[39;00m \u001b[38;5;28;01mimport\u001b[39;00m applications\n\u001b[1;32m     16\u001b[0m \u001b[38;5;28;01mfrom\u001b[39;00m \u001b[38;5;21;01m.\u001b[39;00m \u001b[38;5;28;01mimport\u001b[39;00m backend\n",
      "File \u001b[0;32m~/.pyenv/versions/3.8.12/envs/thermofeeler/lib/python3.8/site-packages/tensorflow/keras/activations/__init__.py:10\u001b[0m, in \u001b[0;36m<module>\u001b[0;34m\u001b[0m\n\u001b[1;32m      6\u001b[0m \u001b[38;5;28;01mfrom\u001b[39;00m \u001b[38;5;21;01m__future__\u001b[39;00m \u001b[38;5;28;01mimport\u001b[39;00m print_function \u001b[38;5;28;01mas\u001b[39;00m _print_function\n\u001b[1;32m      8\u001b[0m \u001b[38;5;28;01mimport\u001b[39;00m \u001b[38;5;21;01msys\u001b[39;00m \u001b[38;5;28;01mas\u001b[39;00m \u001b[38;5;21;01m_sys\u001b[39;00m\n\u001b[0;32m---> 10\u001b[0m \u001b[38;5;28;01mfrom\u001b[39;00m \u001b[38;5;21;01mtensorflow\u001b[39;00m\u001b[38;5;21;01m.\u001b[39;00m\u001b[38;5;21;01mpython\u001b[39;00m\u001b[38;5;21;01m.\u001b[39;00m\u001b[38;5;21;01mkeras\u001b[39;00m\u001b[38;5;21;01m.\u001b[39;00m\u001b[38;5;21;01mactivations\u001b[39;00m \u001b[38;5;28;01mimport\u001b[39;00m deserialize\n\u001b[1;32m     11\u001b[0m \u001b[38;5;28;01mfrom\u001b[39;00m \u001b[38;5;21;01mtensorflow\u001b[39;00m\u001b[38;5;21;01m.\u001b[39;00m\u001b[38;5;21;01mpython\u001b[39;00m\u001b[38;5;21;01m.\u001b[39;00m\u001b[38;5;21;01mkeras\u001b[39;00m\u001b[38;5;21;01m.\u001b[39;00m\u001b[38;5;21;01mactivations\u001b[39;00m \u001b[38;5;28;01mimport\u001b[39;00m elu\n\u001b[1;32m     12\u001b[0m \u001b[38;5;28;01mfrom\u001b[39;00m \u001b[38;5;21;01mtensorflow\u001b[39;00m\u001b[38;5;21;01m.\u001b[39;00m\u001b[38;5;21;01mpython\u001b[39;00m\u001b[38;5;21;01m.\u001b[39;00m\u001b[38;5;21;01mkeras\u001b[39;00m\u001b[38;5;21;01m.\u001b[39;00m\u001b[38;5;21;01mactivations\u001b[39;00m \u001b[38;5;28;01mimport\u001b[39;00m exponential\n",
      "\u001b[0;31mModuleNotFoundError\u001b[0m: No module named 'tensorflow.python.keras.activations'"
     ]
    }
   ],
   "source": [
    "from thermofeeler.utils import preproc_func"
   ]
  }
 ],
 "metadata": {
  "kernelspec": {
   "display_name": "Python 3 (ipykernel)",
   "language": "python",
   "name": "python3"
  },
  "language_info": {
   "codemirror_mode": {
    "name": "ipython",
    "version": 3
   },
   "file_extension": ".py",
   "mimetype": "text/x-python",
   "name": "python",
   "nbconvert_exporter": "python",
   "pygments_lexer": "ipython3",
   "version": "3.8.12"
  },
  "toc": {
   "base_numbering": 1,
   "nav_menu": {},
   "number_sections": true,
   "sideBar": true,
   "skip_h1_title": false,
   "title_cell": "Table of Contents",
   "title_sidebar": "Contents",
   "toc_cell": false,
   "toc_position": {},
   "toc_section_display": true,
   "toc_window_display": false
  }
 },
 "nbformat": 4,
 "nbformat_minor": 5
}
