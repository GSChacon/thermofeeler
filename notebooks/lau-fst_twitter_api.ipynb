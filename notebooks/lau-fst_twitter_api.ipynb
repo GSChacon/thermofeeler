{
 "cells": [
  {
   "cell_type": "code",
   "execution_count": 1,
   "id": "91dddfa0",
   "metadata": {},
   "outputs": [],
   "source": [
    "import os\n",
    "import tweepy\n",
    "import pandas as pd\n",
    "from dotenv import load_dotenv, find_dotenv\n",
    "\n",
    "env_path = find_dotenv()\n",
    "load_dotenv(env_path)\n",
    "\n",
    "api_key = os.getenv('API_KEY')\n",
    "api_key_secret = os.getenv('API_KEY_SECRET')\n",
    "bearer_token = os.getenv('BEARER_TOKEN')"
   ]
  },
  {
   "cell_type": "code",
   "execution_count": 2,
   "id": "6a7367f5",
   "metadata": {},
   "outputs": [],
   "source": [
    "client = tweepy.Client(bearer_token=bearer_token)\n",
    "auth = tweepy.OAuthHandler(api_key, api_key_secret)\n",
    "api = tweepy.API(auth)"
   ]
  },
  {
   "cell_type": "code",
   "execution_count": 3,
   "id": "6974d960",
   "metadata": {},
   "outputs": [],
   "source": [
    "query = '(feliz OR felizmente) lang:pt'\n",
    "#['word', '\"words\"', 'word1 OR word2, '@mention', '#hashtag', 'to:account', 'since:year-month-day']\n",
    "# queries can be 512 characters long"
   ]
  },
  {
   "cell_type": "code",
   "execution_count": 4,
   "id": "bb8a2944",
   "metadata": {},
   "outputs": [],
   "source": [
    "tweets = client.search_recent_tweets(query=query, \n",
    "                                     tweet_fields=['author_id','created_at','source','entities'],\n",
    "                                     max_results=10)"
   ]
  },
  {
   "cell_type": "code",
   "execution_count": 5,
   "id": "460c376c",
   "metadata": {
    "scrolled": true
   },
   "outputs": [
    {
     "name": "stdout",
     "output_type": "stream",
     "text": [
      "@rebanhodamm A saudade é enorme Rebanho, mas ao mesmo tempo muito feliz e orgulhosa de ver que a Marilinha jamais será esquecida! 🤍\n",
      "Tweet id : 1506355299107618816\n",
      "Author id : 1483557837687119874\n",
      "Date : 2022-03-22 19:41:04+00:00\n",
      "Source : Twitter for Android\n",
      "------\n",
      "RT @8luisfernand: Tem vingança melhor que ser feliz?????????? No seu canto, sem piadinha em rede social. Ser feliz fugindo de confusão, sem…\n",
      "Tweet id : 1506355293860642817\n",
      "Author id : 3009112150\n",
      "Date : 2022-03-22 19:41:03+00:00\n",
      "Source : Twitter for iPhone\n",
      "------\n",
      "RT @RACIONAlSDIZ: Um rolê com os aliados já me faz feliz...\n",
      "Tweet id : 1506355290345725962\n",
      "Author id : 1084275597415714816\n",
      "Date : 2022-03-22 19:41:02+00:00\n",
      "Source : Twitter for iPhone\n",
      "------\n",
      "@aethercanon_ VAI SER FELIZ SIM A CARTINHA FOI A PONTA DO ICEBERG\n",
      "Tweet id : 1506355288403816448\n",
      "Author id : 1097144760618442754\n",
      "Date : 2022-03-22 19:41:02+00:00\n",
      "Source : Twitter Web App\n",
      "------\n",
      "RT @CarlaZambelli38: E hoje é o dia dela!\n",
      "\n",
      "Aniversário da nossa primeira-dama, Michelle Bolsonaro, uma mulher íntegra e sábia, que nos insp…\n",
      "Tweet id : 1506355281344835591\n",
      "Author id : 775555973108928512\n",
      "Date : 2022-03-22 19:41:00+00:00\n",
      "Source : Twitter Web App\n",
      "------\n",
      "RT @sanniebloom: Hoje é o dia dele, do nosso dancer!! Yunho, eu te amo mto e tenho um carinho enorme por ti, que hoje vc aproveite mto seu…\n",
      "Tweet id : 1506355280648540163\n",
      "Author id : 1217857316575424516\n",
      "Date : 2022-03-22 19:41:00+00:00\n",
      "Source : Twitter for Android\n",
      "------\n",
      "@KethlimMillena Feliz aniversário mozao amo você 😍😍😍😍😍🥰\n",
      "Tweet id : 1506355279834849280\n",
      "Author id : 1390241889174097921\n",
      "Date : 2022-03-22 19:41:00+00:00\n",
      "Source : Twitter for iPhone\n",
      "------\n",
      "RT @citou_angel: Tem vingança melhor que ser feliz?? No seu canto, sem piadinha em rede social. Ser feliz fugindo de confusão, sem o objeti…\n",
      "Tweet id : 1506355276005486599\n",
      "Author id : 1160988914\n",
      "Date : 2022-03-22 19:40:59+00:00\n",
      "Source : Twitter for Android\n",
      "------\n",
      "RT @TH_Ferreira1: Puta que pariu nunca pensei q iria ser tão apaixonado em uma pessoa igual eu sou na minha namorada, eu só acredito no amo…\n",
      "Tweet id : 1506355275535634445\n",
      "Author id : 798686399218274306\n",
      "Date : 2022-03-22 19:40:59+00:00\n",
      "Source : Twitter for Android\n",
      "------\n",
      "RT @paulomassaxxx: Deixa o vovô ser feliz! 77 anos e cheio de fogo no cú. Adora uma trozoba grossa! Vídeo completo?\n",
      "https://t.co/YgeUsMFcdD…\n",
      "Tweet id : 1506355272746418177\n",
      "Author id : 1368047921598525451\n",
      "Date : 2022-03-22 19:40:58+00:00\n",
      "Source : Twitter for Android\n",
      "------\n"
     ]
    }
   ],
   "source": [
    "for tweet in tweets.data:\n",
    "    print(tweet.text)\n",
    "    print(f\"Tweet id : {tweet.id}\")\n",
    "    print(f\"Author id : {tweet.author_id}\")\n",
    "    print(f\"Date : {tweet.created_at}\")\n",
    "    print(f\"Source : {tweet.source}\")\n",
    "    if tweet.entities != None :\n",
    "        if 'hashtags' in tweet.entities.keys():\n",
    "            for i in range(len(tweet.entities['hashtags'])):\n",
    "                hashtags = []\n",
    "                hashtags.append(tweet.entities['hashtags'][i]['tag'])\n",
    "            print(f\"Hashtags : {hashtags}\")\n",
    "    print('------')"
   ]
  },
  {
   "cell_type": "code",
   "execution_count": 6,
   "id": "dab3bbd1",
   "metadata": {},
   "outputs": [],
   "source": [
    "def hashtag_list(tweet):\n",
    "    hashtags = []\n",
    "    if tweet.entities != None :\n",
    "        if 'hashtags' in tweet.entities.keys():\n",
    "            for i in range(len(tweet.entities['hashtags'])):\n",
    "                hashtags.append(tweet.entities['hashtags'][i]['tag'])\n",
    "    return hashtags"
   ]
  },
  {
   "cell_type": "code",
   "execution_count": 7,
   "id": "f8bec14f",
   "metadata": {},
   "outputs": [],
   "source": [
    "tweets_search = [[],[],[],[],[]]\n",
    "for tweet in tweets.data :\n",
    "    tweets_search[0].append(tweet.text)\n",
    "    tweets_search[1].append(tweet.author_id)\n",
    "    tweets_search[2].append(tweet.created_at)\n",
    "    tweets_search[3].append(tweet.source)\n",
    "    tweets_search[4].append(hashtag_list(tweet))"
   ]
  },
  {
   "cell_type": "code",
   "execution_count": 8,
   "id": "3302ea9f",
   "metadata": {},
   "outputs": [
    {
     "data": {
      "text/plain": [
       "[['@rebanhodamm A saudade é enorme Rebanho, mas ao mesmo tempo muito feliz e orgulhosa de ver que a Marilinha jamais será esquecida! 🤍',\n",
       "  'RT @8luisfernand: Tem vingança melhor que ser feliz?????????? No seu canto, sem piadinha em rede social. Ser feliz fugindo de confusão, sem…',\n",
       "  'RT @RACIONAlSDIZ: Um rolê com os aliados já me faz feliz...',\n",
       "  '@aethercanon_ VAI SER FELIZ SIM A CARTINHA FOI A PONTA DO ICEBERG',\n",
       "  'RT @CarlaZambelli38: E hoje é o dia dela!\\n\\nAniversário da nossa primeira-dama, Michelle Bolsonaro, uma mulher íntegra e sábia, que nos insp…',\n",
       "  'RT @sanniebloom: Hoje é o dia dele, do nosso dancer!! Yunho, eu te amo mto e tenho um carinho enorme por ti, que hoje vc aproveite mto seu…',\n",
       "  '@KethlimMillena Feliz aniversário mozao amo você 😍😍😍😍😍🥰',\n",
       "  'RT @citou_angel: Tem vingança melhor que ser feliz?? No seu canto, sem piadinha em rede social. Ser feliz fugindo de confusão, sem o objeti…',\n",
       "  'RT @TH_Ferreira1: Puta que pariu nunca pensei q iria ser tão apaixonado em uma pessoa igual eu sou na minha namorada, eu só acredito no amo…',\n",
       "  'RT @paulomassaxxx: Deixa o vovô ser feliz! 77 anos e cheio de fogo no cú. Adora uma trozoba grossa! Vídeo completo?\\nhttps://t.co/YgeUsMFcdD…'],\n",
       " [1483557837687119874,\n",
       "  3009112150,\n",
       "  1084275597415714816,\n",
       "  1097144760618442754,\n",
       "  775555973108928512,\n",
       "  1217857316575424516,\n",
       "  1390241889174097921,\n",
       "  1160988914,\n",
       "  798686399218274306,\n",
       "  1368047921598525451],\n",
       " [datetime.datetime(2022, 3, 22, 19, 41, 4, tzinfo=datetime.timezone.utc),\n",
       "  datetime.datetime(2022, 3, 22, 19, 41, 3, tzinfo=datetime.timezone.utc),\n",
       "  datetime.datetime(2022, 3, 22, 19, 41, 2, tzinfo=datetime.timezone.utc),\n",
       "  datetime.datetime(2022, 3, 22, 19, 41, 2, tzinfo=datetime.timezone.utc),\n",
       "  datetime.datetime(2022, 3, 22, 19, 41, tzinfo=datetime.timezone.utc),\n",
       "  datetime.datetime(2022, 3, 22, 19, 41, tzinfo=datetime.timezone.utc),\n",
       "  datetime.datetime(2022, 3, 22, 19, 41, tzinfo=datetime.timezone.utc),\n",
       "  datetime.datetime(2022, 3, 22, 19, 40, 59, tzinfo=datetime.timezone.utc),\n",
       "  datetime.datetime(2022, 3, 22, 19, 40, 59, tzinfo=datetime.timezone.utc),\n",
       "  datetime.datetime(2022, 3, 22, 19, 40, 58, tzinfo=datetime.timezone.utc)],\n",
       " ['Twitter for Android',\n",
       "  'Twitter for iPhone',\n",
       "  'Twitter for iPhone',\n",
       "  'Twitter Web App',\n",
       "  'Twitter Web App',\n",
       "  'Twitter for Android',\n",
       "  'Twitter for iPhone',\n",
       "  'Twitter for Android',\n",
       "  'Twitter for Android',\n",
       "  'Twitter for Android'],\n",
       " [[], [], [], [], [], [], [], [], [], []]]"
      ]
     },
     "execution_count": 8,
     "metadata": {},
     "output_type": "execute_result"
    }
   ],
   "source": [
    "tweets_search"
   ]
  },
  {
   "cell_type": "code",
   "execution_count": 10,
   "id": "6a898b18",
   "metadata": {},
   "outputs": [],
   "source": [
    "from nltk.tokenize import word_tokenize\n",
    "import re\n",
    "\n",
    "# define a preproc function\n",
    "def preproc_func(tweet):\n",
    "    '''Does the preprocessing of the tweets'''\n",
    "\n",
    "    # stopwords: remove articles, prepositions, conjunctions etc\n",
    "    stopwords=['rt','a','ah','g','h', 'cá','te','tu','tua','tuas','tém','um','uma','você','vocês','vos',\n",
    "               'à','às','ao','aos','aquela','aquelas','aquele','aqueles','aquilo','as','até','com',\n",
    "               'como','da','das','de','dela','delas','dele','deles','depois','do','dos','e','ela','elas',\n",
    "               'ele','eles','em','entre','essa','essas','esse','esses','esta','eu','foi','fomos','for',\n",
    "               'fora','foram','forem','formos','fosse','fossem','fui','fôramos','fôssemos', 'isso','isto',\n",
    "               'já','lhe','lhes','me','mesmo','meu','meus','minha','minhas','muito','na','nas','no','nos',\n",
    "               'nossa','nossas','nosso','nossos','num','numa','nós','oh','o','os','para','pela','pelas','pelo',\n",
    "               'pelos','por','qual','quando','que','quem','se','seja','sejam','sejamos','sem','serei','seremos',\n",
    "               'seria','seriam','será','serão','seríamos','seu','seus','somos','sou','sua','suas','são',\n",
    "               'só','também','ah','q','g','oh','eh','vc','tbm','também','tambem','voceh','você','voce']\n",
    "\n",
    "    tweet = tweet.lower() # lowercase\n",
    "\n",
    "    tweet=re.sub('https?://[A-Za-z0-9./]+','',tweet) # remove links que começam com https?://\n",
    "    tweet=re.sub('https://[A-Za-z0-9./]+','',tweet) # remove links que começam com https://\n",
    "    tweet=re.sub('http://[A-Za-z0-9./]+','',tweet) # remove links que começam com http://\n",
    "\n",
    "    tweet = re.sub(r'@[A-Za-z0-9_]+','',tweet) # remove @mentions\n",
    "    tweet = re.sub(r'#','',tweet) # remove #hashtags\n",
    "\n",
    "    tweet = re.sub(r'[^\\w\\s]','',tweet) # remove remove punctuation\n",
    "    tweet = re.sub(r'[0-9]','',tweet) # remove numbers\n",
    "\n",
    "    word_tokens=word_tokenize(tweet) # tokenize\n",
    "\n",
    "    filtered_tweet = [w for w in word_tokens if not w in stopwords] # remove stopwords\n",
    "\n",
    "    return filtered_tweet"
   ]
  },
  {
   "cell_type": "code",
   "execution_count": 11,
   "id": "806d5039",
   "metadata": {},
   "outputs": [],
   "source": [
    "preproc_tweets=[]\n",
    "for tweet in tweets_search[0]:\n",
    "    preproc_tweets.append(preproc_func(tweet))"
   ]
  },
  {
   "cell_type": "code",
   "execution_count": 13,
   "id": "fb6dcd25",
   "metadata": {},
   "outputs": [
    {
     "data": {
      "text/plain": [
       "['saudade',\n",
       " 'é',\n",
       " 'enorme',\n",
       " 'rebanho',\n",
       " 'mas',\n",
       " 'tempo',\n",
       " 'feliz',\n",
       " 'orgulhosa',\n",
       " 'ver',\n",
       " 'marilinha',\n",
       " 'jamais',\n",
       " 'esquecida']"
      ]
     },
     "execution_count": 13,
     "metadata": {},
     "output_type": "execute_result"
    }
   ],
   "source": [
    "preproc_tweets[0]"
   ]
  },
  {
   "cell_type": "code",
   "execution_count": null,
   "id": "a4f1cbb3",
   "metadata": {},
   "outputs": [],
   "source": [
    "#for tweet in tweepy.Paginator(client.search_recent_tweets, query=query,\n",
    "#                              tweet_fields=['context_annotations', 'created_at'], max_results=100).flatten(limit=1000):\n",
    "#    print(tweet)"
   ]
  }
 ],
 "metadata": {
  "kernelspec": {
   "display_name": "Python 3 (ipykernel)",
   "language": "python",
   "name": "python3"
  },
  "language_info": {
   "codemirror_mode": {
    "name": "ipython",
    "version": 3
   },
   "file_extension": ".py",
   "mimetype": "text/x-python",
   "name": "python",
   "nbconvert_exporter": "python",
   "pygments_lexer": "ipython3",
   "version": "3.8.12"
  },
  "toc": {
   "base_numbering": 1,
   "nav_menu": {},
   "number_sections": true,
   "sideBar": true,
   "skip_h1_title": false,
   "title_cell": "Table of Contents",
   "title_sidebar": "Contents",
   "toc_cell": false,
   "toc_position": {},
   "toc_section_display": true,
   "toc_window_display": false
  }
 },
 "nbformat": 4,
 "nbformat_minor": 5
}
