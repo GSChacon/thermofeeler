{
 "cells": [
  {
   "cell_type": "code",
   "execution_count": 1,
   "id": "0ec02b21",
   "metadata": {},
   "outputs": [],
   "source": [
    "import pandas as pd\n",
    "import re\n",
    "import nltk\n",
    "from nltk.tokenize import word_tokenize, sent_tokenize"
   ]
  },
  {
   "cell_type": "code",
   "execution_count": 2,
   "id": "623bdd97",
   "metadata": {},
   "outputs": [],
   "source": [
    "df=pd.read_csv('../thermofeeler/data/encoded_df.csv')"
   ]
  },
  {
   "cell_type": "code",
   "execution_count": 3,
   "id": "e0388c5f",
   "metadata": {},
   "outputs": [],
   "source": [
    "# define a preproc function\n",
    "def preproc_func(tweet):\n",
    "    '''Does the preprocessing of the tweets'''\n",
    "    \n",
    "    # stopwords: remove articles, prepositions, conjunctions etc\n",
    "    stopwords=['a','te','tu','tua','tuas','tém','um','uma','você','vocês','vos','à','às','ao','aos',\n",
    "          'aquela','aquelas','aquele','aqueles','aquilo','as','até','com','como','da','das','de',\n",
    "          'dela','delas','dele','deles','depois','do','dos','e','ela','elas','ele','eles','em',\n",
    "          'entre','essa','essas','esse','esses','esta','eu','foi','fomos','for','fora','foram',\n",
    "          'forem','formos','fosse','fossem','fui','fôramos','fôssemos', 'isso','isto','já','lhe',\n",
    "          'lhes','me','mesmo','meu','meus','minha','minhas','muito','na','nas','no','nos','nossa',\n",
    "          'nossas','nosso','nossos','num','numa','nós','o','os','para','pela','pelas','pelo','pelos',\n",
    "          'por','qual','quando','que','quem','se','seja','sejam','sejamos','sem','serei','seremos',\n",
    "          'seria','seriam','será','serão','seríamos','seu','seus','somos','sou','sua','suas','são',\n",
    "          'só','também']\n",
    "    \n",
    "    tweet = tweet.lower() # lowercase\n",
    "    \n",
    "    tweet=re.sub('https?://[A-Za-z0-9./]+','',tweet) # remove links que começam com https?://\n",
    "    tweet=re.sub('https://[A-Za-z0-9./]+','',tweet) # remove links que começam com https://\n",
    "    tweet=re.sub('http://[A-Za-z0-9./]+','',tweet) # remove links que começam com http://\n",
    "    \n",
    "    tweet = re.sub(r'@[A-Za-z0-9_]+','',tweet) # remove @mentions\n",
    "    tweet = re.sub(r'#','',tweet) # remove #hashtags\n",
    "    \n",
    "    tweet = re.sub(r'[^\\w\\s]','',tweet) # remove remove punctuation\n",
    "    tweet = re.sub(r'[0-9]','',tweet) # remove numbers\n",
    "    \n",
    "    word_tokens=word_tokenize(tweet) # tokenize\n",
    "    \n",
    "    filtered_tweet = [w for w in word_tokens if not w in stopwords] # remove stopwords\n",
    "        \n",
    "    return filtered_tweet"
   ]
  },
  {
   "cell_type": "code",
   "execution_count": 4,
   "id": "7c1b993a",
   "metadata": {},
   "outputs": [
    {
     "name": "stdout",
     "output_type": "stream",
     "text": [
      "CPU times: user 45.2 s, sys: 3.17 s, total: 48.4 s\n",
      "Wall time: 48.4 s\n"
     ]
    }
   ],
   "source": [
    "%%time\n",
    "df['tweet_text']=df['tweet_text'].apply(preproc_func)"
   ]
  },
  {
   "cell_type": "code",
   "execution_count": 9,
   "id": "b37efd5b",
   "metadata": {},
   "outputs": [
    {
     "data": {
      "text/html": [
       "<div>\n",
       "<style scoped>\n",
       "    .dataframe tbody tr th:only-of-type {\n",
       "        vertical-align: middle;\n",
       "    }\n",
       "\n",
       "    .dataframe tbody tr th {\n",
       "        vertical-align: top;\n",
       "    }\n",
       "\n",
       "    .dataframe thead th {\n",
       "        text-align: right;\n",
       "    }\n",
       "</style>\n",
       "<table border=\"1\" class=\"dataframe\">\n",
       "  <thead>\n",
       "    <tr style=\"text-align: right;\">\n",
       "      <th></th>\n",
       "      <th>tweet_text</th>\n",
       "      <th>encoded_sentiment</th>\n",
       "    </tr>\n",
       "  </thead>\n",
       "  <tbody>\n",
       "    <tr>\n",
       "      <th>0</th>\n",
       "      <td>[fato, acho, roger, é, bom, nome, p]</td>\n",
       "      <td>0</td>\n",
       "    </tr>\n",
       "    <tr>\n",
       "      <th>1</th>\n",
       "      <td>[novidade, acaba, anunciar, novo, voo, direto,...</td>\n",
       "      <td>0</td>\n",
       "    </tr>\n",
       "    <tr>\n",
       "      <th>2</th>\n",
       "      <td>[tem, novidade, tem, área, cadaumnasua, imagin...</td>\n",
       "      <td>0</td>\n",
       "    </tr>\n",
       "    <tr>\n",
       "      <th>3</th>\n",
       "      <td>[novidade, taí, sucesso, filhos, lula, pergunt...</td>\n",
       "      <td>0</td>\n",
       "    </tr>\n",
       "    <tr>\n",
       "      <th>4</th>\n",
       "      <td>[livronovidades, segredos, história, luana, ar...</td>\n",
       "      <td>0</td>\n",
       "    </tr>\n",
       "  </tbody>\n",
       "</table>\n",
       "</div>"
      ],
      "text/plain": [
       "                                          tweet_text  encoded_sentiment\n",
       "0               [fato, acho, roger, é, bom, nome, p]                  0\n",
       "1  [novidade, acaba, anunciar, novo, voo, direto,...                  0\n",
       "2  [tem, novidade, tem, área, cadaumnasua, imagin...                  0\n",
       "3  [novidade, taí, sucesso, filhos, lula, pergunt...                  0\n",
       "4  [livronovidades, segredos, história, luana, ar...                  0"
      ]
     },
     "execution_count": 9,
     "metadata": {},
     "output_type": "execute_result"
    }
   ],
   "source": [
    "df=df[['tweet_text','encoded_sentiment']]\n",
    "df.head()"
   ]
  },
  {
   "cell_type": "code",
   "execution_count": 10,
   "id": "c7106d0e",
   "metadata": {},
   "outputs": [],
   "source": [
    "df.to_csv('../thermofeeler/data/tokenized_dataset.csv')"
   ]
  },
  {
   "cell_type": "code",
   "execution_count": null,
   "id": "7c33dce9",
   "metadata": {},
   "outputs": [],
   "source": []
  }
 ],
 "metadata": {
  "kernelspec": {
   "display_name": "Python 3 (ipykernel)",
   "language": "python",
   "name": "python3"
  },
  "language_info": {
   "codemirror_mode": {
    "name": "ipython",
    "version": 3
   },
   "file_extension": ".py",
   "mimetype": "text/x-python",
   "name": "python",
   "nbconvert_exporter": "python",
   "pygments_lexer": "ipython3",
   "version": "3.8.12"
  },
  "toc": {
   "base_numbering": 1,
   "nav_menu": {},
   "number_sections": true,
   "sideBar": true,
   "skip_h1_title": false,
   "title_cell": "Table of Contents",
   "title_sidebar": "Contents",
   "toc_cell": false,
   "toc_position": {},
   "toc_section_display": true,
   "toc_window_display": false
  }
 },
 "nbformat": 4,
 "nbformat_minor": 5
}
