{
 "cells": [
  {
   "cell_type": "code",
   "execution_count": 1,
   "id": "def741f0",
   "metadata": {},
   "outputs": [],
   "source": [
    "import pandas as pd"
   ]
  },
  {
   "cell_type": "code",
   "execution_count": 2,
   "id": "035f9cdc",
   "metadata": {},
   "outputs": [
    {
     "data": {
      "text/plain": [
       "Negativo    522707\n",
       "Positivo    263107\n",
       "Neutro       53283\n",
       "Name: sentiment, dtype: int64"
      ]
     },
     "execution_count": 2,
     "metadata": {},
     "output_type": "execute_result"
    }
   ],
   "source": [
    "# Read the relevant .csv\n",
    "df1=pd.read_csv('../raw_data/NoThemeTweets.csv')\n",
    "df2=pd.read_csv('../raw_data/TweetsNeutralHash.csv')\n",
    "df3=pd.read_csv('../raw_data/TweetsNeutralNews.csv')\n",
    "\n",
    "\n",
    "# Clean dfs\n",
    "df1=df1[['tweet_text','sentiment']]\n",
    "df2=df2[['tweet_text','sentiment']]\n",
    "df3=df3[['tweet_text','sentiment']]\n",
    "\n",
    "# Concatenate dfs\n",
    "\n",
    "df_concat = pd.concat([df1,df2,df3])\n",
    "df_concat['sentiment'].value_counts()"
   ]
  },
  {
   "cell_type": "code",
   "execution_count": 3,
   "id": "5c6b33a5",
   "metadata": {},
   "outputs": [],
   "source": [
    "# Save concat dataset to raw_data\n",
    "df_concat.to_csv('../raw_data/full_dataset.csv')"
   ]
  },
  {
   "cell_type": "code",
   "execution_count": 4,
   "id": "bcbe685e",
   "metadata": {},
   "outputs": [],
   "source": [
    "# Filtrar para balancear o dataset\n",
    "df_neutro=df_concat[df_concat['sentiment']==\"Neutro\"]\n",
    "df_positivo=df_concat[df_concat['sentiment']==\"Positivo\"]\n",
    "df_negativo=df_concat[df_concat['sentiment']==\"Negativo\"]\n"
   ]
  },
  {
   "cell_type": "code",
   "execution_count": 5,
   "id": "1e50bc1e",
   "metadata": {},
   "outputs": [
    {
     "data": {
      "text/plain": [
       "Neutro      53283\n",
       "Positivo    53283\n",
       "Negativo    53283\n",
       "Name: sentiment, dtype: int64"
      ]
     },
     "execution_count": 5,
     "metadata": {},
     "output_type": "execute_result"
    }
   ],
   "source": [
    "# Colher uma sample de tamanho 53283, para todos terem o mesmo tamanho (o menor era o neutro)\n",
    "num_rows=53283\n",
    "df_pos_filtered=df_positivo.sample(num_rows)\n",
    "df_neg_filtered=df_negativo.sample(num_rows)\n",
    "\n",
    "# Concatenate DFs\n",
    "df_full_filtered = pd.concat([df_neutro,df_pos_filtered,df_neg_filtered])\n",
    "\n",
    "# Check concatenation\n",
    "df_full_filtered['sentiment'].value_counts()"
   ]
  },
  {
   "cell_type": "code",
   "execution_count": 6,
   "id": "58450442",
   "metadata": {},
   "outputs": [],
   "source": [
    "# Define encode funcation\n",
    "\n",
    "def encode_sentiment(sentiment):\n",
    "    \"\"\"Encoda os sentimentos [Negativo,Neutro,Positivo] em [-1,0,1], respectivamente\"\"\"\n",
    "    if sentiment == 'Neutro':\n",
    "        return 0\n",
    "    elif sentiment == 'Positivo':\n",
    "        return 1\n",
    "    else:\n",
    "        return -1"
   ]
  },
  {
   "cell_type": "code",
   "execution_count": 7,
   "id": "c5cea359",
   "metadata": {
    "scrolled": true
   },
   "outputs": [
    {
     "data": {
      "text/plain": [
       " 0    53283\n",
       " 1    53283\n",
       "-1    53283\n",
       "Name: encoded_sentiment, dtype: int64"
      ]
     },
     "execution_count": 7,
     "metadata": {},
     "output_type": "execute_result"
    }
   ],
   "source": [
    "# Encode sentiment\n",
    "df_full_filtered['encoded_sentiment']=df_full_filtered['sentiment'].apply(encode_sentiment)\n",
    "\n",
    "# Check encoded df\n",
    "df_full_filtered['encoded_sentiment'].value_counts()"
   ]
  },
  {
   "cell_type": "code",
   "execution_count": 8,
   "id": "b5e2871d",
   "metadata": {
    "scrolled": true
   },
   "outputs": [],
   "source": [
    "# Drop unencoded sentiment\n",
    "df_full_filtered.drop(columns='sentiment',inplace=True)\n",
    "\n",
    "# Save dataset\n",
    "df_full_filtered.to_csv('../thermofeeler/data/encoded_df.csv') # arquivo muito grande = raw_data"
   ]
  },
  {
   "cell_type": "code",
   "execution_count": null,
   "id": "c61724f7",
   "metadata": {},
   "outputs": [],
   "source": []
  }
 ],
 "metadata": {
  "kernelspec": {
   "display_name": "Python 3 (ipykernel)",
   "language": "python",
   "name": "python3"
  },
  "language_info": {
   "codemirror_mode": {
    "name": "ipython",
    "version": 3
   },
   "file_extension": ".py",
   "mimetype": "text/x-python",
   "name": "python",
   "nbconvert_exporter": "python",
   "pygments_lexer": "ipython3",
   "version": "3.8.12"
  },
  "toc": {
   "base_numbering": 1,
   "nav_menu": {},
   "number_sections": true,
   "sideBar": true,
   "skip_h1_title": false,
   "title_cell": "Table of Contents",
   "title_sidebar": "Contents",
   "toc_cell": false,
   "toc_position": {},
   "toc_section_display": true,
   "toc_window_display": false
  }
 },
 "nbformat": 4,
 "nbformat_minor": 5
}
