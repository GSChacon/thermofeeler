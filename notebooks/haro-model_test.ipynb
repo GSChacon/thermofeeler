{
 "cells": [
  {
   "cell_type": "code",
   "execution_count": null,
   "id": "9f5a046c",
   "metadata": {},
   "outputs": [],
   "source": []
  },
  {
   "cell_type": "code",
   "execution_count": 1,
   "id": "368bf748",
   "metadata": {},
   "outputs": [],
   "source": [
    "# imports \n",
    "import pandas as pd\n",
    "import numpy as np\n",
    "import seaborn as sns\n",
    "import matplotlib.pyplot as plt\n",
    "from sklearn.model_selection import train_test_split\n",
    "from keras.preprocessing.text import Tokenizer\n",
    "from tensorflow.keras.preprocessing.sequence import pad_sequences\n",
    "from tensorflow.keras import models\n",
    "from tensorflow.keras import optimizers\n",
    "from tensorflow.keras import callbacks\n",
    "from tensorflow.keras import Sequential, layers\n",
    "\n",
    "from sklearn.linear_model import LogisticRegression\n",
    "from sklearn.model_selection import KFold\n",
    "from sklearn.model_selection import cross_val_score\n"
   ]
  },
  {
   "cell_type": "code",
   "execution_count": 2,
   "id": "d39f647d",
   "metadata": {},
   "outputs": [
    {
     "data": {
      "text/html": [
       "<div>\n",
       "<style scoped>\n",
       "    .dataframe tbody tr th:only-of-type {\n",
       "        vertical-align: middle;\n",
       "    }\n",
       "\n",
       "    .dataframe tbody tr th {\n",
       "        vertical-align: top;\n",
       "    }\n",
       "\n",
       "    .dataframe thead th {\n",
       "        text-align: right;\n",
       "    }\n",
       "</style>\n",
       "<table border=\"1\" class=\"dataframe\">\n",
       "  <thead>\n",
       "    <tr style=\"text-align: right;\">\n",
       "      <th></th>\n",
       "      <th>Unnamed: 0</th>\n",
       "      <th>tweet_text</th>\n",
       "      <th>encoded_sentiment</th>\n",
       "    </tr>\n",
       "  </thead>\n",
       "  <tbody>\n",
       "    <tr>\n",
       "      <th>0</th>\n",
       "      <td>0</td>\n",
       "      <td>['fato', 'acho', 'roger', 'é', 'bom', 'nome', ...</td>\n",
       "      <td>0</td>\n",
       "    </tr>\n",
       "    <tr>\n",
       "      <th>1</th>\n",
       "      <td>1</td>\n",
       "      <td>['novidade', 'acaba', 'anunciar', 'novo', 'voo...</td>\n",
       "      <td>0</td>\n",
       "    </tr>\n",
       "    <tr>\n",
       "      <th>2</th>\n",
       "      <td>2</td>\n",
       "      <td>['tem', 'novidade', 'tem', 'área', 'cadaumnasu...</td>\n",
       "      <td>0</td>\n",
       "    </tr>\n",
       "    <tr>\n",
       "      <th>3</th>\n",
       "      <td>3</td>\n",
       "      <td>['novidade', 'taí', 'sucesso', 'filhos', 'lula...</td>\n",
       "      <td>0</td>\n",
       "    </tr>\n",
       "    <tr>\n",
       "      <th>4</th>\n",
       "      <td>4</td>\n",
       "      <td>['livronovidades', 'segredos', 'história', 'lu...</td>\n",
       "      <td>0</td>\n",
       "    </tr>\n",
       "  </tbody>\n",
       "</table>\n",
       "</div>"
      ],
      "text/plain": [
       "   Unnamed: 0                                         tweet_text  \\\n",
       "0           0  ['fato', 'acho', 'roger', 'é', 'bom', 'nome', ...   \n",
       "1           1  ['novidade', 'acaba', 'anunciar', 'novo', 'voo...   \n",
       "2           2  ['tem', 'novidade', 'tem', 'área', 'cadaumnasu...   \n",
       "3           3  ['novidade', 'taí', 'sucesso', 'filhos', 'lula...   \n",
       "4           4  ['livronovidades', 'segredos', 'história', 'lu...   \n",
       "\n",
       "   encoded_sentiment  \n",
       "0                  0  \n",
       "1                  0  \n",
       "2                  0  \n",
       "3                  0  \n",
       "4                  0  "
      ]
     },
     "execution_count": 2,
     "metadata": {},
     "output_type": "execute_result"
    }
   ],
   "source": [
    "path=('../thermofeeler/data/tokenized_dataset.csv')\n",
    "df = pd.read_csv(path)\n",
    "df.head()"
   ]
  },
  {
   "cell_type": "code",
   "execution_count": 3,
   "id": "b3c0025b",
   "metadata": {},
   "outputs": [
    {
     "data": {
      "text/html": [
       "<div>\n",
       "<style scoped>\n",
       "    .dataframe tbody tr th:only-of-type {\n",
       "        vertical-align: middle;\n",
       "    }\n",
       "\n",
       "    .dataframe tbody tr th {\n",
       "        vertical-align: top;\n",
       "    }\n",
       "\n",
       "    .dataframe thead th {\n",
       "        text-align: right;\n",
       "    }\n",
       "</style>\n",
       "<table border=\"1\" class=\"dataframe\">\n",
       "  <thead>\n",
       "    <tr style=\"text-align: right;\">\n",
       "      <th></th>\n",
       "      <th>Unnamed: 0</th>\n",
       "      <th>encoded_sentiment</th>\n",
       "    </tr>\n",
       "  </thead>\n",
       "  <tbody>\n",
       "    <tr>\n",
       "      <th>count</th>\n",
       "      <td>159849.000000</td>\n",
       "      <td>159849.000000</td>\n",
       "    </tr>\n",
       "    <tr>\n",
       "      <th>mean</th>\n",
       "      <td>79924.000000</td>\n",
       "      <td>0.000000</td>\n",
       "    </tr>\n",
       "    <tr>\n",
       "      <th>std</th>\n",
       "      <td>46144.575927</td>\n",
       "      <td>0.816499</td>\n",
       "    </tr>\n",
       "    <tr>\n",
       "      <th>min</th>\n",
       "      <td>0.000000</td>\n",
       "      <td>-1.000000</td>\n",
       "    </tr>\n",
       "    <tr>\n",
       "      <th>25%</th>\n",
       "      <td>39962.000000</td>\n",
       "      <td>-1.000000</td>\n",
       "    </tr>\n",
       "    <tr>\n",
       "      <th>50%</th>\n",
       "      <td>79924.000000</td>\n",
       "      <td>0.000000</td>\n",
       "    </tr>\n",
       "    <tr>\n",
       "      <th>75%</th>\n",
       "      <td>119886.000000</td>\n",
       "      <td>1.000000</td>\n",
       "    </tr>\n",
       "    <tr>\n",
       "      <th>max</th>\n",
       "      <td>159848.000000</td>\n",
       "      <td>1.000000</td>\n",
       "    </tr>\n",
       "  </tbody>\n",
       "</table>\n",
       "</div>"
      ],
      "text/plain": [
       "          Unnamed: 0  encoded_sentiment\n",
       "count  159849.000000      159849.000000\n",
       "mean    79924.000000           0.000000\n",
       "std     46144.575927           0.816499\n",
       "min         0.000000          -1.000000\n",
       "25%     39962.000000          -1.000000\n",
       "50%     79924.000000           0.000000\n",
       "75%    119886.000000           1.000000\n",
       "max    159848.000000           1.000000"
      ]
     },
     "execution_count": 3,
     "metadata": {},
     "output_type": "execute_result"
    }
   ],
   "source": [
    "df.describe()"
   ]
  },
  {
   "cell_type": "code",
   "execution_count": 4,
   "id": "82ce4f0a",
   "metadata": {},
   "outputs": [
    {
     "data": {
      "text/plain": [
       "<seaborn.axisgrid.PairGrid at 0x15bf68310>"
      ]
     },
     "execution_count": 4,
     "metadata": {},
     "output_type": "execute_result"
    },
    {
     "data": {
      "image/png": "[encoded data removed]",
      "text/plain": [
       "<Figure size 360x360 with 6 Axes>"
      ]
     },
     "metadata": {
      "needs_background": "light"
     },
     "output_type": "display_data"
    }
   ],
   "source": [
    "sns.pairplot(df)#,hue='encoded_sentiment')"
   ]
  },
  {
   "cell_type": "code",
   "execution_count": 5,
   "id": "37efbc74",
   "metadata": {},
   "outputs": [
    {
     "data": {
      "text/plain": [
       "array([ 0,  1, -1])"
      ]
     },
     "execution_count": 5,
     "metadata": {},
     "output_type": "execute_result"
    }
   ],
   "source": [
    "df['encoded_sentiment'].unique()  # sentiment options"
   ]
  },
  {
   "cell_type": "code",
   "execution_count": 6,
   "id": "d51f56ae",
   "metadata": {},
   "outputs": [
    {
     "name": "stdout",
     "output_type": "stream",
     "text": [
      "number of positve tagged sentences is:  53283\n",
      "number of neltral tagged sentences is: 53283\n",
      "number of negative tagged sentences is: 53283\n"
     ]
    }
   ],
   "source": [
    "# check the number of positive vs. negative tagged sentences\n",
    "\n",
    "positives = df['encoded_sentiment'][df.encoded_sentiment == 1]\n",
    "neutrals = df['encoded_sentiment'][df.encoded_sentiment == 0]\n",
    "negatives = df['encoded_sentiment'][df.encoded_sentiment == -1]\n",
    "\n",
    "print('number of positve tagged sentences is:  {}'.format(len(positives)))\n",
    "print('number of neltral tagged sentences is: {}'.format(len(neutrals)))\n",
    "print('number of negative tagged sentences is: {}'.format(len(negatives)))\n"
   ]
  },
  {
   "cell_type": "code",
   "execution_count": 7,
   "id": "153bd22a",
   "metadata": {},
   "outputs": [
    {
     "name": "stdout",
     "output_type": "stream",
     "text": [
      "(159849, 3)\n"
     ]
    },
    {
     "data": {
      "text/html": [
       "<div>\n",
       "<style scoped>\n",
       "    .dataframe tbody tr th:only-of-type {\n",
       "        vertical-align: middle;\n",
       "    }\n",
       "\n",
       "    .dataframe tbody tr th {\n",
       "        vertical-align: top;\n",
       "    }\n",
       "\n",
       "    .dataframe thead th {\n",
       "        text-align: right;\n",
       "    }\n",
       "</style>\n",
       "<table border=\"1\" class=\"dataframe\">\n",
       "  <thead>\n",
       "    <tr style=\"text-align: right;\">\n",
       "      <th></th>\n",
       "      <th>-1</th>\n",
       "      <th>0</th>\n",
       "      <th>1</th>\n",
       "    </tr>\n",
       "  </thead>\n",
       "  <tbody>\n",
       "    <tr>\n",
       "      <th>0</th>\n",
       "      <td>0</td>\n",
       "      <td>1</td>\n",
       "      <td>0</td>\n",
       "    </tr>\n",
       "    <tr>\n",
       "      <th>1</th>\n",
       "      <td>0</td>\n",
       "      <td>1</td>\n",
       "      <td>0</td>\n",
       "    </tr>\n",
       "    <tr>\n",
       "      <th>2</th>\n",
       "      <td>0</td>\n",
       "      <td>1</td>\n",
       "      <td>0</td>\n",
       "    </tr>\n",
       "  </tbody>\n",
       "</table>\n",
       "</div>"
      ],
      "text/plain": [
       "   -1   0   1\n",
       "0   0   1   0\n",
       "1   0   1   0\n",
       "2   0   1   0"
      ]
     },
     "execution_count": 7,
     "metadata": {},
     "output_type": "execute_result"
    }
   ],
   "source": [
    "# definir features & target\n",
    "\n",
    "X = df.tweet_text\n",
    "y = pd.get_dummies(df.encoded_sentiment) # Convert categorical variable into dummy/indicator variables.\n",
    "\n",
    "# Checkout 'y'\n",
    "print(y.shape)\n",
    "y.head(3)"
   ]
  },
  {
   "cell_type": "code",
   "execution_count": 8,
   "id": "8688bfa7",
   "metadata": {},
   "outputs": [],
   "source": [
    "# hold out method - Train/Test split\n",
    "\n",
    "X_train, X_test, y_train, y_test = train_test_split(X, y, test_size=0.20, random_state=42)"
   ]
  },
  {
   "cell_type": "code",
   "execution_count": 9,
   "id": "d15c26ec",
   "metadata": {},
   "outputs": [
    {
     "data": {
      "text/plain": [
       "18107     ['agenda', 'bolsonaro', 'é', 'interrompida', '...\n",
       "95512                                      ['tô', 'zuando']\n",
       "62702                                     ['sabe', 'amiga']\n",
       "140525    ['mais', 'dia', 'acordando', 'não', 'sentando'...\n",
       "97650                                    ['tirem', 'tédio']\n",
       "                                ...                        \n",
       "119879    ['simmm', 'injusto', 'meiqi', 'fãs', 'gastaram...\n",
       "103694    ['manda', 'conto', 'fábio', 'estamos', 'espera...\n",
       "131932    ['elô', 'disse', 'feia', 'poxa', 'elô', 'ainda...\n",
       "146867                       ['queria', 'ter', 'amorzinho']\n",
       "121958                         ['kkkkkkkkkk', 'é', 'serio']\n",
       "Name: tweet_text, Length: 127879, dtype: object"
      ]
     },
     "execution_count": 9,
     "metadata": {},
     "output_type": "execute_result"
    }
   ],
   "source": [
    "X_train"
   ]
  },
  {
   "cell_type": "code",
   "execution_count": 10,
   "id": "ff0b6b3f",
   "metadata": {},
   "outputs": [
    {
     "data": {
      "text/plain": [
       "(127879, 3)"
      ]
     },
     "execution_count": 10,
     "metadata": {},
     "output_type": "execute_result"
    }
   ],
   "source": [
    "y_train.shape"
   ]
  },
  {
   "cell_type": "markdown",
   "id": "1d09e092",
   "metadata": {},
   "source": [
    "## Tokenizer"
   ]
  },
  {
   "cell_type": "code",
   "execution_count": 11,
   "id": "3002505f",
   "metadata": {},
   "outputs": [
    {
     "data": {
      "text/plain": [
       "77423"
      ]
     },
     "execution_count": 11,
     "metadata": {},
     "output_type": "execute_result"
    }
   ],
   "source": [
    "# Let's tokenize the vocabulary \n",
    "\n",
    "tk = Tokenizer() \n",
    "tk.fit_on_texts(X_train)  # Fitting each text in text X_train to a sequence of integers.\n",
    "vocab_size = len(tk.word_index)\n",
    "vocab_size # number of != words / input_dim - padding "
   ]
  },
  {
   "cell_type": "code",
   "execution_count": 12,
   "id": "eea32163",
   "metadata": {},
   "outputs": [],
   "source": [
    "X_train_token = tk.texts_to_sequences(X_train)  # Transforming each text in X_train to a sequence of integers.\n",
    "X_test_token = tk.texts_to_sequences(X_test)  # Transforming each text in X_test to a sequence of integers.\n",
    "\n",
    "# Pad your inputs\n",
    "\n",
    "X_train_pad = pad_sequences(X_train_token, dtype ='float32', padding = 'post', maxlen=50) # Pads sequences to the same length.\n",
    "\n",
    "X_test_pad = pad_sequences(X_test_token, dtype ='float32', padding = 'post', maxlen=50) # Pads sequences to the same length.\n"
   ]
  },
  {
   "cell_type": "code",
   "execution_count": 13,
   "id": "ecbb3aa6",
   "metadata": {},
   "outputs": [
    {
     "data": {
      "image/png": "[encoded data removed]",
      "text/plain": [
       "<Figure size 432x288 with 1 Axes>"
      ]
     },
     "metadata": {
      "needs_background": "light"
     },
     "output_type": "display_data"
    }
   ],
   "source": [
    "import seaborn as sns\n",
    "sns.histplot([len(x) for x in X_train_token]);"
   ]
  },
  {
   "cell_type": "code",
   "execution_count": 14,
   "id": "f5d4a54f",
   "metadata": {},
   "outputs": [
    {
     "data": {
      "text/html": [
       "<div>\n",
       "<style scoped>\n",
       "    .dataframe tbody tr th:only-of-type {\n",
       "        vertical-align: middle;\n",
       "    }\n",
       "\n",
       "    .dataframe tbody tr th {\n",
       "        vertical-align: top;\n",
       "    }\n",
       "\n",
       "    .dataframe thead th {\n",
       "        text-align: right;\n",
       "    }\n",
       "</style>\n",
       "<table border=\"1\" class=\"dataframe\">\n",
       "  <thead>\n",
       "    <tr style=\"text-align: right;\">\n",
       "      <th></th>\n",
       "      <th>-1</th>\n",
       "      <th>0</th>\n",
       "      <th>1</th>\n",
       "    </tr>\n",
       "  </thead>\n",
       "  <tbody>\n",
       "    <tr>\n",
       "      <th>0</th>\n",
       "      <td>0</td>\n",
       "      <td>1</td>\n",
       "      <td>0</td>\n",
       "    </tr>\n",
       "    <tr>\n",
       "      <th>1</th>\n",
       "      <td>0</td>\n",
       "      <td>1</td>\n",
       "      <td>0</td>\n",
       "    </tr>\n",
       "    <tr>\n",
       "      <th>2</th>\n",
       "      <td>0</td>\n",
       "      <td>1</td>\n",
       "      <td>0</td>\n",
       "    </tr>\n",
       "  </tbody>\n",
       "</table>\n",
       "</div>"
      ],
      "text/plain": [
       "   -1   0   1\n",
       "0   0   1   0\n",
       "1   0   1   0\n",
       "2   0   1   0"
      ]
     },
     "execution_count": 14,
     "metadata": {},
     "output_type": "execute_result"
    }
   ],
   "source": [
    "y.head(3) # target"
   ]
  },
  {
   "cell_type": "code",
   "execution_count": 15,
   "id": "558d3ea2",
   "metadata": {},
   "outputs": [
    {
     "data": {
      "text/plain": [
       "((127879, 50), 77423)"
      ]
     },
     "execution_count": 15,
     "metadata": {},
     "output_type": "execute_result"
    }
   ],
   "source": [
    "# len(X_train_pad)\n",
    "X_train_pad.shape, vocab_size"
   ]
  },
  {
   "cell_type": "code",
   "execution_count": 16,
   "id": "a96eabaa",
   "metadata": {},
   "outputs": [
    {
     "data": {
      "text/plain": [
       "31970"
      ]
     },
     "execution_count": 16,
     "metadata": {},
     "output_type": "execute_result"
    }
   ],
   "source": [
    "len(y_test)"
   ]
  },
  {
   "cell_type": "markdown",
   "id": "f2e7cc60",
   "metadata": {},
   "source": [
    "## Embedding"
   ]
  },
  {
   "cell_type": "code",
   "execution_count": 17,
   "id": "2039ba60",
   "metadata": {},
   "outputs": [
    {
     "name": "stderr",
     "output_type": "stream",
     "text": [
      "2022-03-18 21:59:37.167616: I tensorflow/core/platform/cpu_feature_guard.cc:151] This TensorFlow binary is optimized with oneAPI Deep Neural Network Library (oneDNN) to use the following CPU instructions in performance-critical operations:  SSE4.2\n",
      "To enable them in other operations, rebuild TensorFlow with the appropriate compiler flags.\n"
     ]
    },
    {
     "name": "stdout",
     "output_type": "stream",
     "text": [
      "Model: \"sequential\"\n",
      "_________________________________________________________________\n",
      " Layer (type)                Output Shape              Param #   \n",
      "=================================================================\n",
      " embedding (Embedding)       (None, 50, 30)            2322720   \n",
      "                                                                 \n",
      " lstm (LSTM)                 (None, 50)                16200     \n",
      "                                                                 \n",
      " dense (Dense)               (None, 25)                1275      \n",
      "                                                                 \n",
      " dense_1 (Dense)             (None, 9)                 234       \n",
      "                                                                 \n",
      " dense_2 (Dense)             (None, 3)                 30        \n",
      "                                                                 \n",
      "=================================================================\n",
      "Total params: 2,340,459\n",
      "Trainable params: 2,340,459\n",
      "Non-trainable params: 0\n",
      "_________________________________________________________________\n"
     ]
    }
   ],
   "source": [
    "# Let's build the Neural network now\n",
    "# Size of your embedding space = size to represent each word\n",
    "\n",
    "embedding_size = 30\n",
    "\n",
    "# 1. ARCHITECTURE\n",
    "model = Sequential()\n",
    "model.add(layers.Embedding(input_dim = vocab_size+1, # vocab_size +1 for the 0 padding\n",
    "                           input_length = X_train_pad.shape[1], # Max_sentence_length (optional, for model summary)\n",
    "                           output_dim = 30,\n",
    "                           mask_zero=True, # Included masking layer :)\n",
    "                        ))\n",
    "\n",
    "model.add(layers.LSTM(50))\n",
    "model.add(layers.Dense(25, activation=\"relu\"))\n",
    "model.add(layers.Dense(9, activation=\"relu\"))\n",
    "model.add(layers.Dense(3, activation=\"softmax\"))\n",
    "model.summary()"
   ]
  },
  {
   "cell_type": "code",
   "execution_count": 18,
   "id": "90de18df",
   "metadata": {},
   "outputs": [
    {
     "data": {
      "text/plain": [
       "(159849, 3)"
      ]
     },
     "execution_count": 18,
     "metadata": {},
     "output_type": "execute_result"
    }
   ],
   "source": [
    "y.shape"
   ]
  },
  {
   "cell_type": "code",
   "execution_count": 19,
   "id": "46df2be8",
   "metadata": {},
   "outputs": [
    {
     "data": {
      "text/plain": [
       "(31970, 3)"
      ]
     },
     "execution_count": 19,
     "metadata": {},
     "output_type": "execute_result"
    }
   ],
   "source": [
    "y_test.shape"
   ]
  },
  {
   "cell_type": "code",
   "execution_count": 20,
   "id": "e1bf6e59",
   "metadata": {},
   "outputs": [
    {
     "data": {
      "text/plain": [
       "(127879, 3)"
      ]
     },
     "execution_count": 20,
     "metadata": {},
     "output_type": "execute_result"
    }
   ],
   "source": [
    "y_train.shape"
   ]
  },
  {
   "cell_type": "code",
   "execution_count": 21,
   "id": "2cfb8468",
   "metadata": {},
   "outputs": [
    {
     "name": "stdout",
     "output_type": "stream",
     "text": [
      "Expected number of parameters : 2322720\n"
     ]
    }
   ],
   "source": [
    "# number of params\n",
    "print(f'Expected number of parameters : {(vocab_size+1) * embedding_size}')\n"
   ]
  },
  {
   "cell_type": "markdown",
   "id": "38f33842",
   "metadata": {},
   "source": [
    "## Compiling"
   ]
  },
  {
   "cell_type": "code",
   "execution_count": 22,
   "id": "325705d2",
   "metadata": {},
   "outputs": [
    {
     "name": "stdout",
     "output_type": "stream",
     "text": [
      "Epoch 1/50\n",
      "7870/7870 [==============================] - 153s 19ms/step - loss: 0.7219 - accuracy: 0.6372 - val_loss: 0.6202 - val_accuracy: 0.6677\n",
      "Epoch 2/50\n",
      "7870/7870 [==============================] - 152s 19ms/step - loss: 0.5661 - accuracy: 0.7061 - val_loss: 0.5458 - val_accuracy: 0.7530\n",
      "Epoch 3/50\n",
      "7870/7870 [==============================] - 155s 20ms/step - loss: 0.4627 - accuracy: 0.8069 - val_loss: 0.4644 - val_accuracy: 0.8121\n",
      "Epoch 4/50\n",
      "7870/7870 [==============================] - 156s 20ms/step - loss: 0.3597 - accuracy: 0.8555 - val_loss: 0.4118 - val_accuracy: 0.8261\n",
      "Epoch 5/50\n",
      "7870/7870 [==============================] - 150s 19ms/step - loss: 0.3070 - accuracy: 0.8776 - val_loss: 0.4219 - val_accuracy: 0.8260\n",
      "Epoch 6/50\n",
      "7870/7870 [==============================] - 150s 19ms/step - loss: 0.2721 - accuracy: 0.8936 - val_loss: 0.4245 - val_accuracy: 0.8293\n",
      "Epoch 7/50\n",
      "7870/7870 [==============================] - 156s 20ms/step - loss: 0.2449 - accuracy: 0.9037 - val_loss: 0.4559 - val_accuracy: 0.8236\n",
      "Epoch 8/50\n",
      "7870/7870 [==============================] - 154s 20ms/step - loss: 0.2246 - accuracy: 0.9121 - val_loss: 0.4610 - val_accuracy: 0.8212\n",
      "Epoch 9/50\n",
      "7870/7870 [==============================] - 145s 18ms/step - loss: 0.2077 - accuracy: 0.9181 - val_loss: 0.4858 - val_accuracy: 0.8199\n",
      "Epoch 10/50\n",
      "7870/7870 [==============================] - 145s 18ms/step - loss: 0.1928 - accuracy: 0.9243 - val_loss: 0.5044 - val_accuracy: 0.8178\n",
      "Epoch 11/50\n",
      "7870/7870 [==============================] - 149s 19ms/step - loss: 0.1803 - accuracy: 0.9293 - val_loss: 0.5353 - val_accuracy: 0.8153\n",
      "Epoch 12/50\n",
      "7870/7870 [==============================] - 149s 19ms/step - loss: 0.1688 - accuracy: 0.9339 - val_loss: 0.5628 - val_accuracy: 0.8108\n",
      "Epoch 13/50\n",
      "7870/7870 [==============================] - 146s 18ms/step - loss: 0.1586 - accuracy: 0.9374 - val_loss: 0.5964 - val_accuracy: 0.8086\n",
      "Epoch 14/50\n",
      "7870/7870 [==============================] - 140s 18ms/step - loss: 0.1493 - accuracy: 0.9410 - val_loss: 0.6345 - val_accuracy: 0.8063\n",
      "CPU times: user 1h 26min 51s, sys: 7min 43s, total: 1h 34min 34s\n",
      "Wall time: 34min 58s\n"
     ]
    },
    {
     "data": {
      "text/plain": [
       "<keras.callbacks.History at 0x15ebdc4c0>"
      ]
     },
     "execution_count": 22,
     "metadata": {},
     "output_type": "execute_result"
    }
   ],
   "source": [
    "%%time\n",
    "# 2. COMPILATION  \n",
    "adam_opt = optimizers.Adam(learning_rate=0.0001, beta_1=0.9, beta_2=0.999, epsilon=1e-08)\n",
    "\n",
    "# Classification with more classes\n",
    "model.compile(loss='categorical_crossentropy', \n",
    "              optimizer=adam_opt,\n",
    "              metrics=['accuracy'])\n",
    "# 3. FIT\n",
    "es = callbacks.EarlyStopping(patience=10, restore_best_weights=True)\n",
    "\n",
    "model.fit(X_train_pad, y_train,\n",
    "          batch_size=13, # Too small --> no generalization. Too large --> compute slowly\n",
    "          epochs=50,\n",
    "          validation_split=0.2,\n",
    "          callbacks=[es],\n",
    "          verbose=1,\n",
    "          shuffle=True)\n"
   ]
  },
  {
   "cell_type": "code",
   "execution_count": 23,
   "id": "04b4a615",
   "metadata": {},
   "outputs": [
    {
     "name": "stdout",
     "output_type": "stream",
     "text": [
      "1000/1000 [==============================] - 4s 4ms/step - loss: 0.4213 - accuracy: 0.8228\n",
      "test loss 0.4213147759437561\n",
      "test accuracy 0.8228338956832886\n"
     ]
    }
   ],
   "source": [
    "# Testing model\n",
    "\n",
    "loss, accuracy = model.evaluate(X_test_pad, y_test)\n",
    " \n",
    "print('test loss', loss)\n",
    "print('test accuracy', accuracy)"
   ]
  },
  {
   "cell_type": "code",
   "execution_count": 24,
   "id": "74efd75d",
   "metadata": {},
   "outputs": [],
   "source": [
    "# # Let's build the Neural network now\n",
    "# # Size of your embedding space = size to represent each word\n",
    "\n",
    "# embedding_size = 60\n",
    "\n",
    "# # 1. ARCHITECTURE\n",
    "# model = Sequential()\n",
    "# model.add(layers.Embedding(input_dim = vocab_size+1, # vocab_size +1 for the 0 padding\n",
    "#                            input_length = X_train_pad.shape[1], # Max_sentence_length (optional, for model summary)\n",
    "#                            output_dim = 60,\n",
    "#                            mask_zero=True, # Included masking layer :)\n",
    "#                         ))\n",
    "\n",
    "# model.add(layers.LSTM(50))\n",
    "# model.add(layers.Dense(25, activation=\"relu\"))\n",
    "# model.add(layers.Dense(9, activation=\"relu\"))\n",
    "# model.add(layers.Dense(3, activation=\"softmax\"))\n",
    "# model.summary()"
   ]
  },
  {
   "cell_type": "code",
   "execution_count": null,
   "id": "98c0b160",
   "metadata": {},
   "outputs": [],
   "source": []
  },
  {
   "cell_type": "code",
   "execution_count": 25,
   "id": "ee6de4ff",
   "metadata": {},
   "outputs": [],
   "source": [
    "# %%time\n",
    "# # 2. COMPILATION\n",
    "# adam_opt = optimizers.Adam(learning_rate=0.001, beta_1=0.9, beta_2=0.999, epsilon=1e-08)\n",
    "\n",
    "# # Classification with more classes\n",
    "# model.compile(loss='categorical_crossentropy', \n",
    "#               optimizer=adam_opt,\n",
    "#               metrics=['accuracy'])\n",
    "# # 3. FIT\n",
    "# es = callbacks.EarlyStopping(monitor=\"val_loss\", patience=5, restore_best_weights=True)\n",
    "\n",
    "# model.fit(X_train_pad, y_train,\n",
    "#           batch_size=64, # Too small --> no generalization. Too large --> compute slowly\n",
    "#           epochs=100,\n",
    "#           validation_split=0.2,\n",
    "#           callbacks=[es],\n",
    "#           verbose=1,\n",
    "#           shuffle=True)\n",
    "          "
   ]
  },
  {
   "cell_type": "code",
   "execution_count": null,
   "id": "ff11a6f7",
   "metadata": {},
   "outputs": [],
   "source": []
  },
  {
   "cell_type": "code",
   "execution_count": null,
   "id": "1c9f0f22",
   "metadata": {},
   "outputs": [],
   "source": []
  },
  {
   "cell_type": "code",
   "execution_count": null,
   "id": "383b4cea",
   "metadata": {},
   "outputs": [],
   "source": []
  },
  {
   "cell_type": "code",
   "execution_count": null,
   "id": "4d40724d",
   "metadata": {},
   "outputs": [],
   "source": []
  },
  {
   "cell_type": "code",
   "execution_count": null,
   "id": "8b04d1bf",
   "metadata": {},
   "outputs": [],
   "source": []
  },
  {
   "cell_type": "code",
   "execution_count": null,
   "id": "e0c4fcba",
   "metadata": {},
   "outputs": [],
   "source": []
  },
  {
   "cell_type": "code",
   "execution_count": 26,
   "id": "32fa4e79",
   "metadata": {},
   "outputs": [],
   "source": [
    "# rmsprop = RMSprop(lr=0.001, rho=0.9, epsilon=1e-8, decay=0.0)"
   ]
  },
  {
   "cell_type": "code",
   "execution_count": 27,
   "id": "4e37d3c2",
   "metadata": {},
   "outputs": [],
   "source": [
    "# # 1. ARCHITECTURE\n",
    "# model = models.Sequential()\n",
    "# model.add(layers.Dense(50, activation='relu', input_dim=77424)) # eq. input_shape=(77423 + padding)\n",
    "# model.add(layers.Dense(25, activation='relu'))\n",
    "# model.add(layers.Dense(25, activation='relu'))\n",
    "# model.add(layers.Dense(4, activation='softmax')) # What is this model doing? "
   ]
  },
  {
   "cell_type": "code",
   "execution_count": 28,
   "id": "0f4929d4",
   "metadata": {},
   "outputs": [],
   "source": [
    "# # 2. COMPILATION\n",
    "# from tensorflow.keras import optimizers\n",
    "# adam_opt = optimizers.Adam(learning_rate=0.01, beta_1=0.9, beta_2=0.999)\n",
    "\n",
    "# # Classification with more classes\n",
    "# model.compile(loss='categorical_crossentropy', \n",
    "#               optimizer=adam_opt,\n",
    "#               metrics=['accuracy'])\n"
   ]
  },
  {
   "cell_type": "code",
   "execution_count": 29,
   "id": "d651c839",
   "metadata": {},
   "outputs": [],
   "source": [
    "# # 3. FIT\n",
    "\n",
    "# from tensorflow.keras import callbacks\n",
    "\n",
    "# es = callbacks.EarlyStopping(patience=12, restore_best_weights=True)\n",
    "\n",
    "# model.fit(X, y,\n",
    "#           batch_size=32, # Too small --> no generalization. Too large --> compute slowly\n",
    "#           epochs=100,\n",
    "#           validation_split=0.3,\n",
    "#           callbacks=[es],\n",
    "#           verbose=1)\n",
    "          "
   ]
  },
  {
   "cell_type": "code",
   "execution_count": 30,
   "id": "fd676a58",
   "metadata": {},
   "outputs": [],
   "source": [
    "# La razón detrás de esta proporción proviene del tamaño de todo mi conjunto de datos.\n",
    "# El conjunto de datos tiene más de 1,5 millones de entradas. En este caso, \n",
    "# solo el 1% de todos los datos me da más de 15.000 entradas. Esto es más que suficiente \n",
    "# para evaluar el modelo y refinar los parámetros."
   ]
  },
  {
   "cell_type": "code",
   "execution_count": 31,
   "id": "0ea92c27",
   "metadata": {},
   "outputs": [],
   "source": [
    "# dividir los datos en solo un conjunto de entrenamiento y prueba, y ejecutar una validación cruzada k-fold en el \n",
    "# conjunto de entrenamiento, para que pueda tener una evaluación imparcial de un modelo. Pero teniendo en cuenta el \n",
    "# tamaño de los datos, he decidido usar el conjunto de entrenamiento solo para entrenar un modelo y \n",
    "# evaluar en el conjunto de desarrollo, de modo que pueda probar rápidamente diferentes algoritmos y \n",
    "# ejecutar este proceso de forma iterativa."
   ]
  },
  {
   "cell_type": "code",
   "execution_count": 32,
   "id": "92cca60a",
   "metadata": {},
   "outputs": [],
   "source": [
    "# # RandomForestClassifier\n",
    "# from sklearn.ensemble import RandomForestClassifier\n",
    "# model2 = RandomForestClassifier()\n",
    "# kfold = KFold(n_splits=3, random_state=42, shuffle=True) \n",
    "# scores = cross_val_score(model2, X_train, y_train, cv=kfold, scoring='roc_auc')\n",
    "# scores_mean_rf = scores.mean()\n",
    "# print(\"Mean AUC Score - Random Forest: \", scores_mean_rf)\n",
    "\n",
    "# # Entrenamos el modelo\n",
    "# model2.fit(X_train, y_train)\n",
    "\n",
    "# # Comprobamos las metricas tras el entrenamiento\n",
    "# print(\"Train Accuracy: {:.3f}\".format(model2.score(X_train, y_train)))"
   ]
  },
  {
   "cell_type": "code",
   "execution_count": null,
   "id": "9c0b654e",
   "metadata": {},
   "outputs": [],
   "source": []
  },
  {
   "cell_type": "code",
   "execution_count": null,
   "id": "31a3af4f",
   "metadata": {},
   "outputs": [],
   "source": []
  },
  {
   "cell_type": "code",
   "execution_count": null,
   "id": "328d45ae",
   "metadata": {},
   "outputs": [],
   "source": []
  },
  {
   "cell_type": "code",
   "execution_count": null,
   "id": "948af6e4",
   "metadata": {},
   "outputs": [],
   "source": []
  }
 ],
 "metadata": {
  "kernelspec": {
   "display_name": "Python 3 (ipykernel)",
   "language": "python",
   "name": "python3"
  },
  "language_info": {
   "codemirror_mode": {
    "name": "ipython",
    "version": 3
   },
   "file_extension": ".py",
   "mimetype": "text/x-python",
   "name": "python",
   "nbconvert_exporter": "python",
   "pygments_lexer": "ipython3",
   "version": "3.8.12"
  },
  "toc": {
   "base_numbering": 1,
   "nav_menu": {},
   "number_sections": true,
   "sideBar": true,
   "skip_h1_title": false,
   "title_cell": "Table of Contents",
   "title_sidebar": "Contents",
   "toc_cell": false,
   "toc_position": {},
   "toc_section_display": true,
   "toc_window_display": false
  }
 },
 "nbformat": 4,
 "nbformat_minor": 5
}
