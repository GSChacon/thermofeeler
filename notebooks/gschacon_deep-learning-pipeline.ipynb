{
 "cells": [
  {
   "cell_type": "markdown",
   "id": "5e17a92d",
   "metadata": {},
   "source": [
    "# Imports"
   ]
  },
  {
   "cell_type": "code",
   "execution_count": 1,
   "id": "17a4c5ea",
   "metadata": {},
   "outputs": [
    {
     "name": "stderr",
     "output_type": "stream",
     "text": [
      "2022-03-21 11:15:48.672537: W tensorflow/stream_executor/platform/default/dso_loader.cc:64] Could not load dynamic library 'libcudart.so.11.0'; dlerror: libcudart.so.11.0: cannot open shared object file: No such file or directory\n",
      "2022-03-21 11:15:48.673122: I tensorflow/stream_executor/cuda/cudart_stub.cc:29] Ignore above cudart dlerror if you do not have a GPU set up on your machine.\n"
     ]
    }
   ],
   "source": [
    "import numpy as np\n",
    "import pandas as pd\n",
    "\n",
    "from sklearn.model_selection import train_test_split\n",
    "\n",
    "from tensorflow.keras import models,layers\n",
    "from tensorflow.keras.optimizers import RMSprop\n",
    "from tensorflow.keras.callbacks import EarlyStopping\n",
    "from tensorflow.keras.preprocessing.sequence import pad_sequences\n",
    "from tensorflow.keras.preprocessing.text import Tokenizer\n",
    "from tensorflow.keras import regularizers\n",
    "\n",
    "from gensim.models import Word2Vec\n",
    "\n",
    "import re\n",
    "import nltk\n",
    "from nltk.tokenize import word_tokenize"
   ]
  },
  {
   "cell_type": "markdown",
   "id": "409d0c73",
   "metadata": {
    "heading_collapsed": true
   },
   "source": [
    "# General"
   ]
  },
  {
   "cell_type": "code",
   "execution_count": 2,
   "id": "3d4dd845",
   "metadata": {
    "hidden": true
   },
   "outputs": [],
   "source": [
    "df=pd.read_csv('../thermofeeler/data/encoded_df.csv')\n",
    "X=df['tweet_text']\n",
    "y=pd.get_dummies(df['encoded_sentiment'])"
   ]
  },
  {
   "cell_type": "code",
   "execution_count": 3,
   "id": "de07148b",
   "metadata": {
    "hidden": true
   },
   "outputs": [],
   "source": [
    "def preproc_func(tweet):\n",
    "    '''Does the preprocessing of the tweets'''\n",
    "\n",
    "    # stopwords: remove articles, prepositions, conjunctions etc\n",
    "    stopwords=['a','te','tu','tua','tuas','tém','um','uma','você','vocês','vos','à','às','ao','aos',\n",
    "          'aquela','aquelas','aquele','aqueles','aquilo','as','até','com','como','da','das','de',\n",
    "          'dela','delas','dele','deles','depois','do','dos','e','ela','elas','ele','eles','em',\n",
    "          'entre','essa','essas','esse','esses','esta','eu','foi','fomos','for','fora','foram',\n",
    "          'forem','formos','fosse','fossem','fui','fôramos','fôssemos', 'isso','isto','já','lhe',\n",
    "          'lhes','me','mesmo','meu','meus','minha','minhas','muito','na','nas','no','nos','nossa',\n",
    "          'nossas','nosso','nossos','num','numa','nós','o','os','para','pela','pelas','pelo','pelos',\n",
    "          'por','qual','quando','que','quem','se','seja','sejam','sejamos','sem','serei','seremos',\n",
    "          'seria','seriam','será','serão','seríamos','seu','seus','somos','sou','sua','suas','são',\n",
    "          'só','também','ah','q','g','oh','eh','vc','tbm','também','tambem','voceh','você','voce']\n",
    "\n",
    "    tweet = tweet.lower() # lowercase\n",
    "\n",
    "    tweet=re.sub('https?://[A-Za-z0-9./]+','',tweet) # remove links que começam com https?://\n",
    "    tweet=re.sub('https://[A-Za-z0-9./]+','',tweet) # remove links que começam com https://\n",
    "    tweet=re.sub('http://[A-Za-z0-9./]+','',tweet) # remove links que começam com http://\n",
    "\n",
    "    tweet = re.sub(r'@[A-Za-z0-9_]+','',tweet) # remove @mentions\n",
    "    tweet = re.sub(r'#','',tweet) # remove #hashtags\n",
    "\n",
    "    tweet = re.sub(r'[^\\w\\s]','',tweet) # remove remove punctuation\n",
    "    tweet = re.sub(r'[0-9]','',tweet) # remove numbers\n",
    "\n",
    "    word_tokens=word_tokenize(tweet) # tokenize\n",
    "\n",
    "    filtered_tweet = [w for w in word_tokens if not w in stopwords] # remove stopwords\n",
    "\n",
    "    return filtered_tweet"
   ]
  },
  {
   "cell_type": "code",
   "execution_count": 5,
   "id": "f6b74ed0",
   "metadata": {
    "hidden": true
   },
   "outputs": [],
   "source": [
    "tweet_list=[]\n",
    "for x in X:\n",
    "    tweet_list.append(preproc_func(x))\n",
    "X=tweet_list"
   ]
  },
  {
   "cell_type": "code",
   "execution_count": 6,
   "id": "2f4192c9",
   "metadata": {
    "hidden": true
   },
   "outputs": [],
   "source": [
    "X_train,X_test,y_train,y_test=train_test_split(X,y,test_size=0.2)"
   ]
  },
  {
   "cell_type": "markdown",
   "id": "7eb41587",
   "metadata": {},
   "source": [
    "# Testing with Embeding"
   ]
  },
  {
   "cell_type": "code",
   "execution_count": 7,
   "id": "3813819f",
   "metadata": {},
   "outputs": [
    {
     "data": {
      "text/plain": [
       "77338"
      ]
     },
     "execution_count": 7,
     "metadata": {},
     "output_type": "execute_result"
    }
   ],
   "source": [
    "tk=Tokenizer()\n",
    "tk.fit_on_texts(X_train)\n",
    "vocab_size = len(tk.word_index)\n",
    "vocab_size"
   ]
  },
  {
   "cell_type": "code",
   "execution_count": 8,
   "id": "d7f2f543",
   "metadata": {},
   "outputs": [],
   "source": [
    "X_train_token = tk.texts_to_sequences(X_train)\n",
    "X_train_embedding = pad_sequences(X_train_token, dtype='float32', padding='post',maxlen=45)"
   ]
  },
  {
   "cell_type": "code",
   "execution_count": 9,
   "id": "3ade1ae2",
   "metadata": {},
   "outputs": [
    {
     "data": {
      "text/plain": [
       "45"
      ]
     },
     "execution_count": 9,
     "metadata": {},
     "output_type": "execute_result"
    }
   ],
   "source": [
    "max_len=np.array(X_train_embedding).shape[1]\n",
    "max_len"
   ]
  },
  {
   "cell_type": "code",
   "execution_count": 13,
   "id": "8db430ee",
   "metadata": {},
   "outputs": [],
   "source": [
    "def init_model(learning_rate=0.001):\n",
    "    model=models.Sequential()\n",
    "    \n",
    "    model.add(layers.Embedding(input_dim=vocab_size+1,input_length=max_len,output_dim=100,mask_zero=True))\n",
    "    \n",
    "    model.add(layers.LSTM(50))\n",
    "        \n",
    "    model.add(layers.Dense(20, activation='relu'))\n",
    "    \n",
    "    model.add(layers.Dense(3,activation='softmax'))\n",
    "    \n",
    "    rmsprop=RMSprop(learning_rate=learning_rate)\n",
    "    \n",
    "    model.compile(loss='categorical_crossentropy',optimizer=rmsprop,metrics=['accuracy'])\n",
    "    \n",
    "    return model"
   ]
  },
  {
   "cell_type": "code",
   "execution_count": 14,
   "id": "4e22fc2d",
   "metadata": {},
   "outputs": [
    {
     "name": "stdout",
     "output_type": "stream",
     "text": [
      "Epoch 1/1000\n",
      "400/400 [==============================] - 76s 173ms/step - loss: 0.4169 - accuracy: 0.8095 - val_loss: 0.3688 - val_accuracy: 0.8365\n",
      "Epoch 2/1000\n",
      "400/400 [==============================] - 63s 157ms/step - loss: 0.2826 - accuracy: 0.8795 - val_loss: 0.3677 - val_accuracy: 0.8369\n",
      "Epoch 3/1000\n",
      "203/400 [==============>...............] - ETA: 2:10 - loss: 0.2032 - accuracy: 0.9181"
     ]
    },
    {
     "name": "stderr",
     "output_type": "stream",
     "text": [
      "\n",
      "KeyboardInterrupt\n",
      "\n"
     ]
    }
   ],
   "source": [
    "es=EarlyStopping(patience=3,restore_best_weights=True,verbose=1)\n",
    "\n",
    "model=init_model(learning_rate=0.01)\n",
    "\n",
    "history=model.fit(x=X_train_embedding,y=y_train,\n",
    "          validation_split=0.2,\n",
    "          batch_size=256,epochs=1000,\n",
    "          callbacks=[es],\n",
    "          use_multiprocessing=True,\n",
    "          verbose=1)"
   ]
  },
  {
   "cell_type": "code",
   "execution_count": null,
   "id": "53941e02",
   "metadata": {},
   "outputs": [],
   "source": [
    "X_test_token = tk.texts_to_sequences(X_test)\n",
    "X_test_embedding = pad_sequences(X_test_token, dtype='float32', padding='post',maxlen=max_len)\n",
    "model.evaluate(X_test_embedding,y_test)"
   ]
  },
  {
   "cell_type": "code",
   "execution_count": null,
   "id": "b6e0eb8b",
   "metadata": {},
   "outputs": [],
   "source": [
    "import pickle\n",
    "\n",
    "# saving\n",
    "with open('../tokenizer.pickle', 'wb') as handle:\n",
    "    pickle.dump(tk, handle, protocol=pickle.HIGHEST_PROTOCOL)\n"
   ]
  },
  {
   "cell_type": "code",
   "execution_count": null,
   "id": "68a298c5",
   "metadata": {},
   "outputs": [],
   "source": [
    "# import joblib\n",
    "\n",
    "# joblib.dump(model,'../model.joblib')\n",
    "\n",
    "model.save('../model')"
   ]
  },
  {
   "cell_type": "markdown",
   "id": "7cc02cba",
   "metadata": {
    "heading_collapsed": true
   },
   "source": [
    "# Testing with Word2Vec"
   ]
  },
  {
   "cell_type": "code",
   "execution_count": null,
   "id": "c8fe086b",
   "metadata": {
    "hidden": true
   },
   "outputs": [],
   "source": [
    "# Train Word2Vec\n",
    "w2v = Word2Vec(sentences=X_train,min_count=10)\n",
    "\n",
    "# Function to convert a sentence (list of words) into a matrix representing the words in the embedding space\n",
    "def embed_sentence(word2vec, sentence):\n",
    "    embedded_sentence = []\n",
    "    for word in sentence:\n",
    "        if word in word2vec.wv:\n",
    "            embedded_sentence.append(word2vec.wv[word])\n",
    "        \n",
    "    return np.array(embedded_sentence)\n",
    "\n",
    "# Function that converts a list of sentences into a list of matrices\n",
    "def embedding(word2vec, sentences):\n",
    "    embed = []\n",
    "    \n",
    "    for sentence in sentences:\n",
    "        embedded_sentence = embed_sentence(word2vec, sentence)\n",
    "        embed.append(embedded_sentence)\n",
    "        \n",
    "    return embed\n",
    "\n",
    "# Embed the training and test sentences\n",
    "X_train_embed = embedding(w2v, X_train)\n",
    "X_test_embed = embedding(w2v, X_test)\n",
    "\n",
    "\n",
    "# Pad the training and test embedded sentences\n",
    "max_len=50\n",
    "X_train_wv = pad_sequences(X_train_embed, dtype='float32', padding='post', maxlen=max_len)\n",
    "X_test_wv = pad_sequences(X_test_embed, dtype='float32', padding='post', maxlen=max_len)"
   ]
  },
  {
   "cell_type": "code",
   "execution_count": null,
   "id": "57ac2c1a",
   "metadata": {
    "hidden": true
   },
   "outputs": [],
   "source": [
    "input_shape=X_test_wv.shape[1:]"
   ]
  },
  {
   "cell_type": "code",
   "execution_count": null,
   "id": "d147ab86",
   "metadata": {
    "hidden": true
   },
   "outputs": [],
   "source": [
    "def init_model2(learning_rate=0.001):\n",
    "    model=models.Sequential()\n",
    "\n",
    "    model.add(layers.Masking())\n",
    "        \n",
    "    model.add(layers.LSTM(100,return_sequences=True))\n",
    "    model.add(layers.LSTM(80))\n",
    "\n",
    "    model.add(layers.Dense(50, activation='relu'))\n",
    "    \n",
    "    model.add(layers.Dense(3,activation='softmax'))\n",
    "    \n",
    "    rmsprop=RMSprop(learning_rate=learning_rate)\n",
    "    \n",
    "    model.compile(loss='categorical_crossentropy',optimizer=rmsprop,metrics=['accuracy'])\n",
    "    \n",
    "    return model"
   ]
  },
  {
   "cell_type": "code",
   "execution_count": null,
   "id": "e9572dae",
   "metadata": {
    "hidden": true
   },
   "outputs": [],
   "source": [
    "es=EarlyStopping(patience=3,restore_best_weights=True,verbose=1)\n",
    "\n",
    "model2=init_model2()\n",
    "history=model2.fit(x=X_train_wv,y=y_train,\n",
    "          validation_split=0.2,\n",
    "          batch_size=128,epochs=1000,\n",
    "          callbacks=[es],\n",
    "          use_multiprocessing=True,\n",
    "          verbose=1)"
   ]
  },
  {
   "cell_type": "code",
   "execution_count": null,
   "id": "b54b0383",
   "metadata": {
    "hidden": true
   },
   "outputs": [],
   "source": [
    "model2.evaluate(X_test_wv,y_test)"
   ]
  },
  {
   "cell_type": "code",
   "execution_count": null,
   "id": "4f5178c8",
   "metadata": {
    "hidden": true
   },
   "outputs": [],
   "source": []
  },
  {
   "cell_type": "code",
   "execution_count": null,
   "id": "75b134d6",
   "metadata": {
    "hidden": true
   },
   "outputs": [],
   "source": []
  },
  {
   "cell_type": "code",
   "execution_count": null,
   "id": "038feaef",
   "metadata": {
    "hidden": true
   },
   "outputs": [],
   "source": []
  },
  {
   "cell_type": "code",
   "execution_count": null,
   "id": "33221712",
   "metadata": {
    "hidden": true
   },
   "outputs": [],
   "source": []
  }
 ],
 "metadata": {
  "kernelspec": {
   "display_name": "Python 3 (ipykernel)",
   "language": "python",
   "name": "python3"
  },
  "language_info": {
   "codemirror_mode": {
    "name": "ipython",
    "version": 3
   },
   "file_extension": ".py",
   "mimetype": "text/x-python",
   "name": "python",
   "nbconvert_exporter": "python",
   "pygments_lexer": "ipython3",
   "version": "3.8.12"
  },
  "toc": {
   "base_numbering": 1,
   "nav_menu": {},
   "number_sections": true,
   "sideBar": true,
   "skip_h1_title": false,
   "title_cell": "Table of Contents",
   "title_sidebar": "Contents",
   "toc_cell": false,
   "toc_position": {},
   "toc_section_display": true,
   "toc_window_display": false
  }
 },
 "nbformat": 4,
 "nbformat_minor": 5
}
