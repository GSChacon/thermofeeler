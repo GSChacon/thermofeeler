{
 "cells": [
  {
   "cell_type": "markdown",
   "id": "5e17a92d",
   "metadata": {
    "heading_collapsed": true
   },
   "source": [
    "# Imports"
   ]
  },
  {
   "cell_type": "code",
   "execution_count": 1,
   "id": "17a4c5ea",
   "metadata": {
    "hidden": true
   },
   "outputs": [
    {
     "name": "stderr",
     "output_type": "stream",
     "text": [
      "2022-03-18 11:11:09.991467: W tensorflow/stream_executor/platform/default/dso_loader.cc:64] Could not load dynamic library 'libcudart.so.11.0'; dlerror: libcudart.so.11.0: cannot open shared object file: No such file or directory\n",
      "2022-03-18 11:11:09.991786: I tensorflow/stream_executor/cuda/cudart_stub.cc:29] Ignore above cudart dlerror if you do not have a GPU set up on your machine.\n"
     ]
    }
   ],
   "source": [
    "import numpy as np\n",
    "import pandas as pd\n",
    "\n",
    "from sklearn.model_selection import train_test_split\n",
    "\n",
    "from tensorflow.keras import models,layers\n",
    "from tensorflow.keras.optimizers import RMSprop\n",
    "from tensorflow.keras.callbacks import EarlyStopping\n",
    "from tensorflow.keras.preprocessing.sequence import pad_sequences\n",
    "from tensorflow.keras.preprocessing.text import Tokenizer\n",
    "from tensorflow.keras import regularizers\n",
    "\n",
    "from gensim.models import Word2Vec\n",
    "\n",
    "import re\n",
    "import nltk\n",
    "from nltk.tokenize import word_tokenize"
   ]
  },
  {
   "cell_type": "markdown",
   "id": "409d0c73",
   "metadata": {},
   "source": [
    "# General"
   ]
  },
  {
   "cell_type": "code",
   "execution_count": 2,
   "id": "3d4dd845",
   "metadata": {},
   "outputs": [],
   "source": [
    "df=pd.read_csv('../thermofeeler/data/encoded_df.csv')\n",
    "X=df['tweet_text']\n",
    "y=pd.get_dummies(df['encoded_sentiment'])"
   ]
  },
  {
   "cell_type": "code",
   "execution_count": 3,
   "id": "de07148b",
   "metadata": {},
   "outputs": [],
   "source": [
    "def preproc_func(tweet):\n",
    "    '''Does the preprocessing of the tweets'''\n",
    "\n",
    "    # stopwords: remove articles, prepositions, conjunctions etc\n",
    "    stopwords=['a','te','tu','tua','tuas','tém','um','uma','você','vocês','vos','à','às','ao','aos',\n",
    "          'aquela','aquelas','aquele','aqueles','aquilo','as','até','com','como','da','das','de',\n",
    "          'dela','delas','dele','deles','depois','do','dos','e','ela','elas','ele','eles','em',\n",
    "          'entre','essa','essas','esse','esses','esta','eu','foi','fomos','for','fora','foram',\n",
    "          'forem','formos','fosse','fossem','fui','fôramos','fôssemos', 'isso','isto','já','lhe',\n",
    "          'lhes','me','mesmo','meu','meus','minha','minhas','muito','na','nas','no','nos','nossa',\n",
    "          'nossas','nosso','nossos','num','numa','nós','o','os','para','pela','pelas','pelo','pelos',\n",
    "          'por','qual','quando','que','quem','se','seja','sejam','sejamos','sem','serei','seremos',\n",
    "          'seria','seriam','será','serão','seríamos','seu','seus','somos','sou','sua','suas','são',\n",
    "          'só','também','ah','q','g','oh','eh','vc','tbm','também','tambem','voceh','você','voce']\n",
    "\n",
    "    tweet = tweet.lower() # lowercase\n",
    "\n",
    "    tweet=re.sub('https?://[A-Za-z0-9./]+','',tweet) # remove links que começam com https?://\n",
    "    tweet=re.sub('https://[A-Za-z0-9./]+','',tweet) # remove links que começam com https://\n",
    "    tweet=re.sub('http://[A-Za-z0-9./]+','',tweet) # remove links que começam com http://\n",
    "\n",
    "    tweet = re.sub(r'@[A-Za-z0-9_]+','',tweet) # remove @mentions\n",
    "    tweet = re.sub(r'#','',tweet) # remove #hashtags\n",
    "\n",
    "    tweet = re.sub(r'[^\\w\\s]','',tweet) # remove remove punctuation\n",
    "    tweet = re.sub(r'[0-9]','',tweet) # remove numbers\n",
    "\n",
    "    word_tokens=word_tokenize(tweet) # tokenize\n",
    "\n",
    "    filtered_tweet = [w for w in word_tokens if not w in stopwords] # remove stopwords\n",
    "\n",
    "    return filtered_tweet"
   ]
  },
  {
   "cell_type": "code",
   "execution_count": 4,
   "id": "f6b74ed0",
   "metadata": {},
   "outputs": [],
   "source": [
    "tweet_list=[]\n",
    "for x in X:\n",
    "    tweet_list.append(preproc_func(x))\n",
    "X=tweet_list"
   ]
  },
  {
   "cell_type": "code",
   "execution_count": 5,
   "id": "2f4192c9",
   "metadata": {},
   "outputs": [],
   "source": [
    "X_train,X_test,y_train,y_test=train_test_split(X,y,test_size=0.2)"
   ]
  },
  {
   "cell_type": "markdown",
   "id": "7eb41587",
   "metadata": {},
   "source": [
    "# Testing with Embeding"
   ]
  },
  {
   "cell_type": "code",
   "execution_count": 6,
   "id": "3813819f",
   "metadata": {},
   "outputs": [
    {
     "data": {
      "text/plain": [
       "77204"
      ]
     },
     "execution_count": 6,
     "metadata": {},
     "output_type": "execute_result"
    }
   ],
   "source": [
    "tk=Tokenizer()\n",
    "tk.fit_on_texts(X_train)\n",
    "vocab_size = len(tk.word_index)\n",
    "vocab_size"
   ]
  },
  {
   "cell_type": "code",
   "execution_count": 7,
   "id": "d7f2f543",
   "metadata": {},
   "outputs": [],
   "source": [
    "X_train_token = tk.texts_to_sequences(X_train)\n",
    "X_train_embedding = pad_sequences(X_train_token, dtype='float32', padding='post')"
   ]
  },
  {
   "cell_type": "code",
   "execution_count": 8,
   "id": "3ade1ae2",
   "metadata": {},
   "outputs": [
    {
     "data": {
      "text/plain": [
       "45"
      ]
     },
     "execution_count": 8,
     "metadata": {},
     "output_type": "execute_result"
    }
   ],
   "source": [
    "max_len=np.array(X_train_embedding).shape[1]\n",
    "max_len"
   ]
  },
  {
   "cell_type": "code",
   "execution_count": 25,
   "id": "8db430ee",
   "metadata": {},
   "outputs": [],
   "source": [
    "def init_model(learning_rate=0.001):\n",
    "    model=models.Sequential()\n",
    "    \n",
    "    model.add(layers.Embedding(input_dim=vocab_size+1,input_length=max_len,output_dim=100,mask_zero=True))\n",
    "    \n",
    "    model.add(layers.LSTM(50))\n",
    "    \n",
    "    model.add(layers.Dense(20,activation='relu'))\n",
    "\n",
    "    model.add(layers.Dense(3,activation='softmax'))\n",
    "    \n",
    "    rmsprop=RMSprop(learning_rate=learning_rate)\n",
    "    \n",
    "    model.compile(loss='categorical_crossentropy',optimizer=rmsprop,metrics=['accuracy'])\n",
    "    \n",
    "    return model"
   ]
  },
  {
   "cell_type": "code",
   "execution_count": 29,
   "id": "4e22fc2d",
   "metadata": {},
   "outputs": [
    {
     "name": "stdout",
     "output_type": "stream",
     "text": [
      "Epoch 1/1000\n",
      "400/400 [==============================] - 173s 385ms/step - loss: 0.4133 - accuracy: 0.8099 - val_loss: 0.3629 - val_accuracy: 0.8375\n",
      "Epoch 2/1000\n",
      "400/400 [==============================] - 148s 371ms/step - loss: 0.2804 - accuracy: 0.8807 - val_loss: 0.3832 - val_accuracy: 0.8306\n",
      "Epoch 3/1000\n",
      "400/400 [==============================] - 119s 297ms/step - loss: 0.2063 - accuracy: 0.9159 - val_loss: 0.4251 - val_accuracy: 0.8271\n",
      "Epoch 4/1000\n",
      "400/400 [==============================] - ETA: 0s - loss: 0.1579 - accuracy: 0.9364Restoring model weights from the end of the best epoch: 1.\n",
      "400/400 [==============================] - 143s 359ms/step - loss: 0.1579 - accuracy: 0.9364 - val_loss: 0.4902 - val_accuracy: 0.8244\n",
      "Epoch 4: early stopping\n"
     ]
    }
   ],
   "source": [
    "es=EarlyStopping(patience=3,restore_best_weights=True,verbose=1)\n",
    "\n",
    "model=init_model(learning_rate=0.01)\n",
    "\n",
    "history=model.fit(x=X_train_embedding,y=y_train,\n",
    "          validation_split=0.2,\n",
    "          batch_size=256,epochs=1000,\n",
    "          callbacks=[es],\n",
    "          use_multiprocessing=True,\n",
    "          verbose=1)"
   ]
  },
  {
   "cell_type": "code",
   "execution_count": 30,
   "id": "53941e02",
   "metadata": {},
   "outputs": [
    {
     "name": "stdout",
     "output_type": "stream",
     "text": [
      "1000/1000 [==============================] - 44s 44ms/step - loss: 0.3633 - accuracy: 0.8355\n"
     ]
    },
    {
     "data": {
      "text/plain": [
       "[0.363341748714447, 0.8355333209037781]"
      ]
     },
     "execution_count": 30,
     "metadata": {},
     "output_type": "execute_result"
    }
   ],
   "source": [
    "X_test_token = tk.texts_to_sequences(X_test)\n",
    "X_test_embedding = pad_sequences(X_test_token, dtype='float32', padding='post',maxlen=max_len)\n",
    "model.evaluate(X_test_embedding,y_test)"
   ]
  },
  {
   "cell_type": "code",
   "execution_count": 12,
   "id": "4b8f3a0a",
   "metadata": {},
   "outputs": [],
   "source": [
    "y_pred=model.predict(X_test_embedding)\n"
   ]
  },
  {
   "cell_type": "code",
   "execution_count": 13,
   "id": "bd90b1fd",
   "metadata": {},
   "outputs": [
    {
     "data": {
      "text/plain": [
       "Negativo    35.304974\n",
       "Neutro      33.146702\n",
       "Positivo    29.052237\n",
       "dtype: float32"
      ]
     },
     "execution_count": 13,
     "metadata": {},
     "output_type": "execute_result"
    }
   ],
   "source": [
    "(pd.DataFrame(np.round(y_pred),columns=['Negativo','Neutro',\"Positivo\"]).sum()/y_pred.shape[0])*100"
   ]
  },
  {
   "cell_type": "code",
   "execution_count": null,
   "id": "0cde200f",
   "metadata": {},
   "outputs": [],
   "source": [
    "y_test"
   ]
  },
  {
   "cell_type": "code",
   "execution_count": null,
   "id": "666bc37a",
   "metadata": {},
   "outputs": [],
   "source": [
    "11076.0+10516.0+9749.0"
   ]
  },
  {
   "cell_type": "code",
   "execution_count": 14,
   "id": "3941a239",
   "metadata": {},
   "outputs": [],
   "source": [
    "lista=[]\n",
    "for linha in y_pred:\n",
    "    lista.append(np.argmax(linha))"
   ]
  },
  {
   "cell_type": "code",
   "execution_count": 15,
   "id": "9e93f05e",
   "metadata": {},
   "outputs": [
    {
     "data": {
      "text/plain": [
       "36.693775414451046"
      ]
     },
     "execution_count": 15,
     "metadata": {},
     "output_type": "execute_result"
    }
   ],
   "source": [
    "lista.count(0)/len(lista)*100"
   ]
  },
  {
   "cell_type": "code",
   "execution_count": 16,
   "id": "437d4bd5",
   "metadata": {},
   "outputs": [
    {
     "data": {
      "text/plain": [
       "33.42508601814201"
      ]
     },
     "execution_count": 16,
     "metadata": {},
     "output_type": "execute_result"
    }
   ],
   "source": [
    "lista.count(1)/len(lista)*100"
   ]
  },
  {
   "cell_type": "code",
   "execution_count": 17,
   "id": "24757e0f",
   "metadata": {},
   "outputs": [
    {
     "data": {
      "text/plain": [
       "29.881138567406946"
      ]
     },
     "execution_count": 17,
     "metadata": {},
     "output_type": "execute_result"
    }
   ],
   "source": [
    "lista.count(2)/len(lista)*100"
   ]
  },
  {
   "cell_type": "code",
   "execution_count": 18,
   "id": "af01b5a0",
   "metadata": {},
   "outputs": [
    {
     "data": {
      "text/plain": [
       "31970"
      ]
     },
     "execution_count": 18,
     "metadata": {},
     "output_type": "execute_result"
    }
   ],
   "source": [
    "len(lista)"
   ]
  },
  {
   "cell_type": "code",
   "execution_count": 31,
   "id": "b6e0eb8b",
   "metadata": {},
   "outputs": [],
   "source": [
    "import pickle\n",
    "\n",
    "# saving\n",
    "with open('../tokenizer.pickle', 'wb') as handle:\n",
    "    pickle.dump(tk, handle, protocol=pickle.HIGHEST_PROTOCOL)\n"
   ]
  },
  {
   "cell_type": "code",
   "execution_count": 32,
   "id": "68a298c5",
   "metadata": {},
   "outputs": [
    {
     "name": "stderr",
     "output_type": "stream",
     "text": [
      "2022-03-18 15:35:29.155262: W tensorflow/python/util/util.cc:368] Sets are not currently considered sequences, but this may change in the future, so consider avoiding using them.\n",
      "WARNING:absl:Found untraced functions such as lstm_cell_5_layer_call_fn, lstm_cell_5_layer_call_and_return_conditional_losses while saving (showing 2 of 2). These functions will not be directly callable after loading.\n"
     ]
    },
    {
     "name": "stdout",
     "output_type": "stream",
     "text": [
      "INFO:tensorflow:Assets written to: ram://74510dba-73a0-45f0-a563-72f1b600de47/assets\n"
     ]
    },
    {
     "name": "stderr",
     "output_type": "stream",
     "text": [
      "INFO:tensorflow:Assets written to: ram://74510dba-73a0-45f0-a563-72f1b600de47/assets\n",
      "WARNING:absl:<keras.layers.recurrent.LSTMCell object at 0x7f764495e3d0> has the same name 'LSTMCell' as a built-in Keras object. Consider renaming <class 'keras.layers.recurrent.LSTMCell'> to avoid naming conflicts when loading with `tf.keras.models.load_model`. If renaming is not possible, pass the object in the `custom_objects` parameter of the load function.\n"
     ]
    },
    {
     "data": {
      "text/plain": [
       "['../model.joblib']"
      ]
     },
     "execution_count": 32,
     "metadata": {},
     "output_type": "execute_result"
    }
   ],
   "source": [
    "import joblib\n",
    "\n",
    "joblib.dump(model,'../model.joblib')"
   ]
  },
  {
   "cell_type": "markdown",
   "id": "7cc02cba",
   "metadata": {
    "heading_collapsed": true
   },
   "source": [
    "# Testing with Word2Vec"
   ]
  },
  {
   "cell_type": "code",
   "execution_count": null,
   "id": "c8fe086b",
   "metadata": {
    "hidden": true
   },
   "outputs": [],
   "source": [
    "# Train Word2Vec\n",
    "w2v = Word2Vec(sentences=X_train,min_count=10)\n",
    "\n",
    "# Function to convert a sentence (list of words) into a matrix representing the words in the embedding space\n",
    "def embed_sentence(word2vec, sentence):\n",
    "    embedded_sentence = []\n",
    "    for word in sentence:\n",
    "        if word in word2vec.wv:\n",
    "            embedded_sentence.append(word2vec.wv[word])\n",
    "        \n",
    "    return np.array(embedded_sentence)\n",
    "\n",
    "# Function that converts a list of sentences into a list of matrices\n",
    "def embedding(word2vec, sentences):\n",
    "    embed = []\n",
    "    \n",
    "    for sentence in sentences:\n",
    "        embedded_sentence = embed_sentence(word2vec, sentence)\n",
    "        embed.append(embedded_sentence)\n",
    "        \n",
    "    return embed\n",
    "\n",
    "# Embed the training and test sentences\n",
    "X_train_embed = embedding(w2v, X_train)\n",
    "X_test_embed = embedding(w2v, X_test)\n",
    "\n",
    "\n",
    "# Pad the training and test embedded sentences\n",
    "max_len=50\n",
    "X_train_wv = pad_sequences(X_train_embed, dtype='float32', padding='post', maxlen=max_len)\n",
    "X_test_wv = pad_sequences(X_test_embed, dtype='float32', padding='post', maxlen=max_len)"
   ]
  },
  {
   "cell_type": "code",
   "execution_count": null,
   "id": "57ac2c1a",
   "metadata": {
    "hidden": true
   },
   "outputs": [],
   "source": [
    "input_shape=X_test_wv.shape[1:]"
   ]
  },
  {
   "cell_type": "code",
   "execution_count": null,
   "id": "d147ab86",
   "metadata": {
    "hidden": true
   },
   "outputs": [],
   "source": [
    "def init_model2(learning_rate=0.001):\n",
    "    model=models.Sequential()\n",
    "\n",
    "    model.add(layers.Masking())\n",
    "        \n",
    "    model.add(layers.LSTM(100,return_sequences=True))\n",
    "    model.add(layers.LSTM(80))\n",
    "\n",
    "    model.add(layers.Dense(50, activation='relu'))\n",
    "    \n",
    "    model.add(layers.Dense(3,activation='softmax'))\n",
    "    \n",
    "    rmsprop=RMSprop(learning_rate=learning_rate)\n",
    "    \n",
    "    model.compile(loss='categorical_crossentropy',optimizer=rmsprop,metrics=['accuracy'])\n",
    "    \n",
    "    return model"
   ]
  },
  {
   "cell_type": "code",
   "execution_count": null,
   "id": "e9572dae",
   "metadata": {
    "hidden": true
   },
   "outputs": [],
   "source": [
    "es=EarlyStopping(patience=3,restore_best_weights=True,verbose=1)\n",
    "\n",
    "model2=init_model2()\n",
    "history=model2.fit(x=X_train_wv,y=y_train,\n",
    "          validation_split=0.2,\n",
    "          batch_size=128,epochs=1000,\n",
    "          callbacks=[es],\n",
    "          use_multiprocessing=True,\n",
    "          verbose=1)"
   ]
  },
  {
   "cell_type": "code",
   "execution_count": null,
   "id": "b54b0383",
   "metadata": {
    "hidden": true
   },
   "outputs": [],
   "source": [
    "model2.evaluate(X_test_wv,y_test)"
   ]
  },
  {
   "cell_type": "code",
   "execution_count": null,
   "id": "4f5178c8",
   "metadata": {
    "hidden": true
   },
   "outputs": [],
   "source": []
  },
  {
   "cell_type": "code",
   "execution_count": null,
   "id": "75b134d6",
   "metadata": {
    "hidden": true
   },
   "outputs": [],
   "source": []
  },
  {
   "cell_type": "code",
   "execution_count": null,
   "id": "038feaef",
   "metadata": {
    "hidden": true
   },
   "outputs": [],
   "source": []
  },
  {
   "cell_type": "code",
   "execution_count": null,
   "id": "33221712",
   "metadata": {
    "hidden": true
   },
   "outputs": [],
   "source": []
  }
 ],
 "metadata": {
  "kernelspec": {
   "display_name": "Python 3 (ipykernel)",
   "language": "python",
   "name": "python3"
  },
  "language_info": {
   "codemirror_mode": {
    "name": "ipython",
    "version": 3
   },
   "file_extension": ".py",
   "mimetype": "text/x-python",
   "name": "python",
   "nbconvert_exporter": "python",
   "pygments_lexer": "ipython3",
   "version": "3.8.12"
  },
  "toc": {
   "base_numbering": 1,
   "nav_menu": {},
   "number_sections": true,
   "sideBar": true,
   "skip_h1_title": false,
   "title_cell": "Table of Contents",
   "title_sidebar": "Contents",
   "toc_cell": false,
   "toc_position": {},
   "toc_section_display": true,
   "toc_window_display": false
  }
 },
 "nbformat": 4,
 "nbformat_minor": 5
}
