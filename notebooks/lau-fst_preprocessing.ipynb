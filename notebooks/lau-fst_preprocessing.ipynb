{
 "cells": [
  {
   "cell_type": "code",
   "execution_count": 1,
   "id": "a2fb157d",
   "metadata": {},
   "outputs": [
    {
     "data": {
      "application/vnd.jupyter.widget-view+json": {
       "model_id": "b268c2c81ecf409795c241de29f7cf13",
       "version_major": 2,
       "version_minor": 0
      },
      "text/plain": [
       "Downloading https://raw.githubusercontent.com/stanfordnlp/stanza-resources/main/resources_1.3.0.json:   0%|   …"
      ]
     },
     "metadata": {},
     "output_type": "display_data"
    },
    {
     "name": "stderr",
     "output_type": "stream",
     "text": [
      "2022-03-24 15:22:50 INFO: Downloading default packages for language: pt (Portuguese)...\n",
      "2022-03-24 15:22:51 INFO: File exists: /Users/laurannefossat/stanza_resources/pt/default.zip.\n",
      "2022-03-24 15:22:52 INFO: Finished downloading models and saved to /Users/laurannefossat/stanza_resources.\n",
      "2022-03-24 15:22:52 INFO: Loading these models for language: pt (Portuguese):\n",
      "=======================\n",
      "| Processor | Package |\n",
      "-----------------------\n",
      "| tokenize  | bosque  |\n",
      "| mwt       | bosque  |\n",
      "| pos       | bosque  |\n",
      "| lemma     | bosque  |\n",
      "| depparse  | bosque  |\n",
      "=======================\n",
      "\n",
      "2022-03-24 15:22:52 INFO: Use device: cpu\n",
      "2022-03-24 15:22:52 INFO: Loading: tokenize\n",
      "2022-03-24 15:22:52 INFO: Loading: mwt\n",
      "2022-03-24 15:22:52 INFO: Loading: pos\n",
      "2022-03-24 15:22:53 INFO: Loading: lemma\n",
      "2022-03-24 15:22:53 INFO: Loading: depparse\n",
      "2022-03-24 15:22:53 INFO: Done loading processors!\n"
     ]
    }
   ],
   "source": [
    "import re\n",
    "from nltk.tokenize import word_tokenize\n",
    "import pandas as pd\n",
    "import unicodedata\n",
    "import stanza\n",
    "\n",
    "stanza.download('pt')\n",
    "nlp = stanza.Pipeline('pt')"
   ]
  },
  {
   "cell_type": "code",
   "execution_count": 2,
   "id": "cea524c6",
   "metadata": {},
   "outputs": [],
   "source": [
    "def strip_accents(s):\n",
    "    return (''.join(c for c in unicodedata.normalize('NFD', s) if unicodedata.category(c) != 'Mn'))"
   ]
  },
  {
   "cell_type": "code",
   "execution_count": 3,
   "id": "e8a41735",
   "metadata": {},
   "outputs": [
    {
     "data": {
      "text/plain": [
       "'mae oleoe cca'"
      ]
     },
     "execution_count": 3,
     "metadata": {},
     "output_type": "execute_result"
    }
   ],
   "source": [
    "strip_accents('màê ôléoè çça')"
   ]
  },
  {
   "cell_type": "code",
   "execution_count": 4,
   "id": "d05c98f8",
   "metadata": {},
   "outputs": [],
   "source": [
    "std_list = {'é':'ser','eh':'ser','vc':'voce','vcs':'voces','tb': 'tambem','tbm': 'tambem', \n",
    "            'obg': 'obrigado','obrigada':'obrigado','gnt': 'gente', 'q': 'que', 'n': 'nao', \n",
    "            'cmg': 'comigo', 'p':'para','pra':'para','ta': 'está','tá':'está','to': 'estou',\n",
    "            'vdd':'verdade','bjos':'beijo','bjo':'beijo','kd': 'cade', 'pq':'porque',\n",
    "            'cmg':'comigo','cm':'com','pc':'ca','aq':'aqui','qdo':'quando','k':'que',\n",
    "            'agr':'agora'}"
   ]
  },
  {
   "cell_type": "code",
   "execution_count": 5,
   "id": "577de9b1",
   "metadata": {},
   "outputs": [],
   "source": [
    "def remove_abbreviation(tweet):\n",
    "    words = tweet.split(' ')\n",
    "    for word in words :\n",
    "        if word in std_list.keys():\n",
    "            word_value = std_list[word]\n",
    "            words[words.index(word)] = word_value\n",
    "\n",
    "    # Converting list of tokens to String.\n",
    "    tweet = ' '.join(i for i in words)\n",
    "    return tweet"
   ]
  },
  {
   "cell_type": "code",
   "execution_count": 6,
   "id": "159cd609",
   "metadata": {},
   "outputs": [
    {
     "data": {
      "text/plain": [
       "'agora está tudo bom estou com meus amigos para ir na praia beijo'"
      ]
     },
     "execution_count": 6,
     "metadata": {},
     "output_type": "execute_result"
    }
   ],
   "source": [
    "remove_abbreviation('agr ta tudo bom to cm meus amigos p ir na praia bjo')"
   ]
  },
  {
   "cell_type": "code",
   "execution_count": 7,
   "id": "93139b09",
   "metadata": {},
   "outputs": [],
   "source": [
    "def lemmatization(tweet):\n",
    "    lemma = \"\"\n",
    "    for sent in nlp(tweet).sentences:\n",
    "        for word in sent.words:\n",
    "            lemma += word.lemma + \" \"\n",
    "    return lemma"
   ]
  },
  {
   "cell_type": "code",
   "execution_count": 12,
   "id": "30994a1e",
   "metadata": {},
   "outputs": [
    {
     "data": {
      "text/plain": [
       "'amor amar amante amar ser ser ser ser ser haver haver '"
      ]
     },
     "execution_count": 12,
     "metadata": {},
     "output_type": "execute_result"
    }
   ],
   "source": [
    "lemmatization('amor amar amantes amei é ser sera seja seria há havia')"
   ]
  }
 ],
 "metadata": {
  "kernelspec": {
   "display_name": "Python 3 (ipykernel)",
   "language": "python",
   "name": "python3"
  },
  "language_info": {
   "codemirror_mode": {
    "name": "ipython",
    "version": 3
   },
   "file_extension": ".py",
   "mimetype": "text/x-python",
   "name": "python",
   "nbconvert_exporter": "python",
   "pygments_lexer": "ipython3",
   "version": "3.8.12"
  },
  "toc": {
   "base_numbering": 1,
   "nav_menu": {},
   "number_sections": true,
   "sideBar": true,
   "skip_h1_title": false,
   "title_cell": "Table of Contents",
   "title_sidebar": "Contents",
   "toc_cell": false,
   "toc_position": {},
   "toc_section_display": true,
   "toc_window_display": false
  }
 },
 "nbformat": 4,
 "nbformat_minor": 5
}
