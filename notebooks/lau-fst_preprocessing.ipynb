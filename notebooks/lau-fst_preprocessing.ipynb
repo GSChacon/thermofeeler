{
 "cells": [
  {
   "cell_type": "code",
   "execution_count": 4,
   "id": "08a70359",
   "metadata": {},
   "outputs": [],
   "source": [
    "import re"
   ]
  },
  {
   "cell_type": "code",
   "execution_count": 6,
   "id": "dc0259cf",
   "metadata": {},
   "outputs": [],
   "source": [
    "def remove_spec_char(tweet):\n",
    "    tweet = re.sub(r'@[A-Za-z0-9_]+','',tweet) # remove @mentions\n",
    "    tweet = re.sub(r'#',' ',tweet) # remove #hashtags\n",
    "    return tweet"
   ]
  },
  {
   "cell_type": "code",
   "execution_count": 7,
   "id": "47dddd6b",
   "metadata": {},
   "outputs": [
    {
     "data": {
      "text/plain": [
       "' feliz todu bom  '"
      ]
     },
     "execution_count": 7,
     "metadata": {},
     "output_type": "execute_result"
    }
   ],
   "source": [
    "remove_spec_char('#feliz#todu#bom @laura @haroldo')"
   ]
  }
 ],
 "metadata": {
  "kernelspec": {
   "display_name": "Python 3 (ipykernel)",
   "language": "python",
   "name": "python3"
  },
  "language_info": {
   "codemirror_mode": {
    "name": "ipython",
    "version": 3
   },
   "file_extension": ".py",
   "mimetype": "text/x-python",
   "name": "python",
   "nbconvert_exporter": "python",
   "pygments_lexer": "ipython3",
   "version": "3.8.12"
  },
  "toc": {
   "base_numbering": 1,
   "nav_menu": {},
   "number_sections": true,
   "sideBar": true,
   "skip_h1_title": false,
   "title_cell": "Table of Contents",
   "title_sidebar": "Contents",
   "toc_cell": false,
   "toc_position": {},
   "toc_section_display": true,
   "toc_window_display": false
  }
 },
 "nbformat": 4,
 "nbformat_minor": 5
}
